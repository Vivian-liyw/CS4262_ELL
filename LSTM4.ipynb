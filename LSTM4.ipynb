{
  "nbformat": 4,
  "nbformat_minor": 0,
  "metadata": {
    "colab": {
      "provenance": []
    },
    "kernelspec": {
      "name": "python3",
      "display_name": "Python 3"
    },
    "language_info": {
      "name": "python"
    },
    "gpuClass": "standard",
    "accelerator": "GPU"
  },
  "cells": [
    {
      "cell_type": "code",
      "execution_count": 3,
      "metadata": {
        "id": "m8CPXhk9X64Q"
      },
      "outputs": [],
      "source": [
        "from google.colab import drive\n",
        "import pandas as pd\n",
        "import torch, gc\n",
        "import nltk\n",
        "from nltk.tokenize import word_tokenize\n",
        "import numpy as np\n",
        "import io\n",
        "import re\n",
        "from matplotlib import pyplot as plt\n",
        "from sklearn.model_selection import train_test_split\n",
        "from nltk.corpus import stopwords"
      ]
    },
    {
      "cell_type": "code",
      "source": [
        "# Loading CSV\n",
        "drive.mount('/content/drive')"
      ],
      "metadata": {
        "id": "t6ghpfcwFZx1",
        "colab": {
          "base_uri": "https://localhost:8080/"
        },
        "outputId": "3715df65-78ef-4936-f84a-5872cac5f513"
      },
      "execution_count": 5,
      "outputs": [
        {
          "output_type": "stream",
          "name": "stdout",
          "text": [
            "Mounted at /content/drive\n"
          ]
        }
      ]
    },
    {
      "cell_type": "code",
      "source": [
        "df_train = pd.read_csv('/content/drive/My Drive/MLProject/train.csv') \n",
        "df_test = pd.read_csv('/content/drive/My Drive/MLProject/test.csv')  "
      ],
      "metadata": {
        "id": "hGwRv-rGBM8m"
      },
      "execution_count": 6,
      "outputs": []
    },
    {
      "cell_type": "code",
      "source": [
        "# Examine data set\n",
        "print(df_train.head())\n",
        "print(df_train['full_text'][2])"
      ],
      "metadata": {
        "colab": {
          "base_uri": "https://localhost:8080/"
        },
        "id": "ZSLMSliwvd5U",
        "outputId": "a0f87dc7-7144-43a4-e4ec-b25bc99b1775"
      },
      "execution_count": 7,
      "outputs": [
        {
          "output_type": "stream",
          "name": "stdout",
          "text": [
            "        text_id                                          full_text  cohesion  \\\n",
            "0  0016926B079C  I think that students would benefit from learn...       3.5   \n",
            "1  0022683E9EA5  When a problem is a change you have to let it ...       2.5   \n",
            "2  00299B378633  Dear, Principal\\n\\nIf u change the school poli...       3.0   \n",
            "3  003885A45F42  The best time in life is when you become yours...       4.5   \n",
            "4  0049B1DF5CCC  Small act of kindness can impact in other peop...       2.5   \n",
            "\n",
            "   syntax  vocabulary  phraseology  grammar  conventions  \n",
            "0     3.5         3.0          3.0      4.0          3.0  \n",
            "1     2.5         3.0          2.0      2.0          2.5  \n",
            "2     3.5         3.0          3.0      3.0          2.5  \n",
            "3     4.5         4.5          4.5      4.0          5.0  \n",
            "4     3.0         3.0          3.0      2.5          2.5  \n",
            "Dear, Principal\n",
            "\n",
            "If u change the school policy of having a grade b average that unfair. Because many students have a C average. So that means that they cant go out for sports or other activities they want to do bad. That's like taking everything they have. What if kids want to become good at something, but now they cant because of that school policy. If they have a C average they should still be able to go out for sports or activities. A C average isn't that bad, its higher then a D average. If the school police was if you have a D average of lower they shouldn't do sports or activities. If they have a D average in school for not working hard, that's means that they in ain't going to try hard. If they have a C average and there trying hard they should be able to out for sports or activities. What if all the good people in sports have a C average in school, that means that they cant play and were going to lose every game we have. That's a good policy to get grade's up but don't take away something they care about. Everyone should be able to go out for sports if they want to. If the school policy happens, schools going to be boarding now, because now students cant go out for sports or other activities. The students that are doing good in school should feel good about themselves but we shouldn't take the other students away from the others ones. If we do this policy student will try to raised their grade but if they cant what happens they them. Should they just be out of it and think that schools boarding. If they do this its like taking away their video games. All I'm saying is that they have the right to go out for sports or activities.\n"
          ]
        }
      ]
    },
    {
      "cell_type": "code",
      "source": [
        "# Data pre-processing\n",
        "# remove '\\n \\r \\w'\n",
        "df_train['full_text'] = df_train[\"full_text\"].replace(re.compile(r'[\\n\\r\\t]'), ' ', regex=True)\n",
        "df_test['full_text'] = df_test[\"full_text\"].replace(re.compile(r'[\\n\\r\\t]'), ' ', regex=True)\n",
        "df_train['full_text'] = df_train[\"full_text\"].replace(re.compile(r'[^\\w]'), ' ', regex=True)\n",
        "df_test['full_text'] = df_test[\"full_text\"].replace(re.compile(r'[^\\w]'), ' ', regex=True)\n",
        "\n",
        "# remove stop words\n",
        "nltk.download('stopwords')\n",
        "stop = stopwords.words('english')\n",
        "df_train['full_text'] = df_train['full_text'].apply(lambda x: ' '.join([word for word in x.split() if word not in (stop)]))\n",
        "df_test['full_text'] = df_test['full_text'].apply(lambda x: ' '.join([word for word in x.split() if word not in (stop)]))\n",
        "print(df_train['full_text'][2])\n",
        "\n",
        "# count max word length\n",
        "df_train['num_words'] = df_train['full_text'].apply(lambda x: len(x.split()))\n",
        "max_words = round(df_train['num_words'].max())\n",
        "print('max word:{}'.format(max_words))"
      ],
      "metadata": {
        "colab": {
          "base_uri": "https://localhost:8080/"
        },
        "id": "lddG1zchv23d",
        "outputId": "46dd1ed5-7a2d-47d6-d1c3-fdf8ec4673f1"
      },
      "execution_count": 8,
      "outputs": [
        {
          "output_type": "stream",
          "name": "stderr",
          "text": [
            "[nltk_data] Downloading package stopwords to /root/nltk_data...\n",
            "[nltk_data]   Unzipping corpora/stopwords.zip.\n"
          ]
        },
        {
          "output_type": "stream",
          "name": "stdout",
          "text": [
            "Dear Principal If u change school policy grade b average unfair Because many students C average So means cant go sports activities want bad That like taking everything What kids want become good something cant school policy If C average still able go sports activities A C average bad higher D average If school police D average lower sports activities If D average school working hard means going try hard If C average trying hard able sports activities What good people sports C average school means cant play going lose every game That good policy get grade take away something care Everyone able go sports want If school policy happens schools going boarding students cant go sports activities The students good school feel good take students away others ones If policy student try raised grade cant happens Should think schools boarding If like taking away video games All I saying right go sports activities\n",
            "max word:672\n"
          ]
        }
      ]
    },
    {
      "cell_type": "code",
      "source": [
        "# tokenize\n",
        "nltk.download('punkt')"
      ],
      "metadata": {
        "colab": {
          "base_uri": "https://localhost:8080/"
        },
        "id": "0M1W4bebFhSq",
        "outputId": "4275fcb4-d1c2-4902-f464-960766dac2ca"
      },
      "execution_count": 9,
      "outputs": [
        {
          "output_type": "stream",
          "name": "stderr",
          "text": [
            "[nltk_data] Downloading package punkt to /root/nltk_data...\n",
            "[nltk_data]   Unzipping tokenizers/punkt.zip.\n"
          ]
        },
        {
          "output_type": "execute_result",
          "data": {
            "text/plain": [
              "True"
            ]
          },
          "metadata": {},
          "execution_count": 9
        }
      ]
    },
    {
      "cell_type": "code",
      "source": [
        "# visualize words after tokenize\n",
        "train_token = df_train['full_text'].apply(word_tokenize)\n",
        "test_token = df_test['full_text'].apply(word_tokenize)\n",
        "\n",
        "print(train_token[0])"
      ],
      "metadata": {
        "colab": {
          "base_uri": "https://localhost:8080/"
        },
        "id": "ReLoPY-1HwvQ",
        "outputId": "5253e41d-a053-4985-f492-c760a87c9acc"
      },
      "execution_count": 71,
      "outputs": [
        {
          "output_type": "stream",
          "name": "stdout",
          "text": [
            "['I', 'think', 'students', 'would', 'benefit', 'learning', 'home', 'wont', 'change', 'get', 'early', 'morning', 'shower', 'hair', 'taking', 'classes', 'helps', 'house', 'pay', 'attention', 'comfortable', 'home', 'The', 'hardest', 'part', 'school', 'getting', 'ready', 'wake', 'go', 'brush', 'teeth', 'go', 'closet', 'look', 'cloths', 'think', 'picked', 'outfit', 'u', 'go', 'look', 'mirror', 'youll', 'either', 'like', 'look', 'see', 'stain', 'Then', 'change', 'online', 'classes', 'wear', 'anything', 'stay', 'home', 'wont', 'need', 'stress', 'wear', 'students', 'usually', 'take', 'showers', 'school', 'either', 'take', 'sleep', 'wake', 'students', 'smell', 'good', 'causes', 'miss', 'bus', 'effects', 'lesson', 'time', 'cause', 'come', 'late', 'school', 'u', 'online', 'classes', 'u', 'wont', 'need', 'miss', 'lessons', 'cause', 'get', 'everything', 'set', 'go', 'take', 'shower', 'u', 'get', 'ready', 'go', 'home', 'comfortable', 'pay', 'attention', 'gives', 'advantage', 'smarter', 'even', 'pass', 'classmates', 'class', 'work', 'public', 'schools', 'difficult', 'even', 'try', 'teacher', 'dont', 'know', 'teach', 'way', 'students', 'understand', 'causes', 'students', 'fail', 'may', 'repeat', 'class']\n"
          ]
        }
      ]
    },
    {
      "cell_type": "code",
      "source": [
        "# assign x and y\n",
        "X = df_train['full_text']\n",
        "y = df_train[['cohesion','syntax','vocabulary','phraseology','grammar','conventions']]\n",
        "\n",
        "#split train test \n",
        "X_train, X_test, y_train, y_test = train_test_split(X, y, test_size=0.2, random_state=1)\n",
        "X_train, X_val, y_train, y_val = train_test_split(X_train, y_train, test_size=0.2, random_state=1) \n",
        "\n",
        "y_train = y_train.to_numpy()\n",
        "y_val = y_val.to_numpy()\n",
        "y_test = y_test.to_numpy()\n",
        "\n",
        "print(X_train[0])\n",
        "print(X_train.shape)\n",
        "print(y_train.shape)\n",
        "print(y_val.shape)\n",
        "print(X_val.shape)\n",
        "print(y_test.shape)\n"
      ],
      "metadata": {
        "colab": {
          "base_uri": "https://localhost:8080/"
        },
        "id": "zwXB-b3YFi_7",
        "outputId": "63889d09-cf03-4eef-d0e2-9a1372d05806"
      },
      "execution_count": 85,
      "outputs": [
        {
          "output_type": "stream",
          "name": "stdout",
          "text": [
            "I think students would benefit learning home wont change get early morning shower hair taking classes helps house pay attention comfortable home The hardest part school getting ready wake go brush teeth go closet look cloths think picked outfit u go look mirror youll either like look see stain Then change online classes wear anything stay home wont need stress wear students usually take showers school either take sleep wake students smell good causes miss bus effects lesson time cause come late school u online classes u wont need miss lessons cause get everything set go take shower u get ready go home comfortable pay attention gives advantage smarter even pass classmates class work public schools difficult even try teacher dont know teach way students understand causes students fail may repeat class\n",
            "(2502,)\n",
            "(2502, 6)\n",
            "(626, 6)\n",
            "(626,)\n",
            "(783, 6)\n"
          ]
        }
      ]
    },
    {
      "cell_type": "code",
      "source": [
        "from tensorflow.keras.preprocessing.text import Tokenizer\n",
        "from tensorflow.keras.preprocessing.sequence import pad_sequences\n",
        "from tensorflow import keras\n",
        "from tensorflow.keras import layers\n"
      ],
      "metadata": {
        "id": "EdUsuLVenhze"
      },
      "execution_count": 86,
      "outputs": []
    },
    {
      "cell_type": "code",
      "source": [
        "tokenizer = Tokenizer(oov_token=\"<OOV>\")\n",
        "tokenizer.fit_on_texts(X_train)\n",
        "word_index = tokenizer.word_index\n",
        "\n",
        "train_seq = tokenizer.texts_to_sequences(X_train)\n",
        "pad_train = pad_sequences(train_seq, maxlen=max_words, truncating='post')\n",
        "\n",
        "val_seq = tokenizer.texts_to_sequences(X_val)\n",
        "pad_val = pad_sequences(val_seq, maxlen=max_words, truncating='post')\n",
        "\n",
        "test_seq = tokenizer.texts_to_sequences(X_test)\n",
        "pad_test = pad_sequences(test_seq, maxlen=max_words, truncating='post') #max length of word is 1250\n",
        "\n",
        "print(pad_train[0]) #pad_train is a numpy array\n",
        "print(pad_train.shape)\n",
        "\n",
        "## for y, what should be the shape (6 lists each with its output? or m lists each with 6 outputs)"
      ],
      "metadata": {
        "colab": {
          "base_uri": "https://localhost:8080/"
        },
        "id": "h2cgMUBPnzex",
        "outputId": "9ac4f81b-1c4d-4d8b-d023-1ac6f42965ea"
      },
      "execution_count": 87,
      "outputs": [
        {
          "output_type": "stream",
          "name": "stdout",
          "text": [
            "[   0    0    0    0    0    0    0    0    0    0    0    0    0    0\n",
            "    0    0    0    0    0    0    0    0    0    0    0    0    0    0\n",
            "    0    0    0    0    0    0    0    0    0    0    0    0    0    0\n",
            "    0    0    0    0    0    0    0    0    0    0    0    0    0    0\n",
            "    0    0    0    0    0    0    0    0    0    0    0    0    0    0\n",
            "    0    0    0    0    0    0    0    0    0    0    0    0    0    0\n",
            "    0    0    0    0    0    0    0    0    0    0    0    0    0    0\n",
            "    0    0    0    0    0    0    0    0    0    0    0    0    0    0\n",
            "    0    0    0    0    0    0    0    0    0    0    0    0    0    0\n",
            "    0    0    0    0    0    0    0    0    0    0    0    0    0    0\n",
            "    0    0    0    0    0    0    0    0    0    0    0    0    0    0\n",
            "    0    0    0    0    0    0    0    0    0    0    0    0    0    0\n",
            "    0    0    0    0    0    0    0    0    0    0    0    0    0    0\n",
            "    0    0    0    0    0    0    0    0    0    0    0    0    0    0\n",
            "    0    0    0    0    0    0    0    0    0    0    0    0    0    0\n",
            "    0    0    0    0    0    0    0    0    0    0    0    0    0    0\n",
            "    0    0    0    0    0    0    0    0    0    0    0    0    0    0\n",
            "    0    0    0    0    0    0    0    0    0    0    0    0    0    0\n",
            "    0    0    0    0    0    0    0    0    0    0    0    0    0    0\n",
            "    0    0    0    0    0    0    0    0    0    0    0    0    0    0\n",
            "    0    0    0    0    0    0    0    0    0    0    0    0    0    0\n",
            "    0    0    0    0    0    0    0    0    0    0    0    0    0    0\n",
            "    0    0    0    0    0    0    0    0    0    0    0    0    0    0\n",
            "    0    0    0    0    0    0    0    0    0    0    0    0    0    0\n",
            "    0    0    0    0    0    0    0    0    0    0    0    0    0    0\n",
            "    0    0    0    0   90   98  609 2270 4154 2358 1925  938  211 8565\n",
            "   33  113   84    3   16    5  846   71    8  538   57    4  164  116\n",
            "  835    2 2919   57    4    2  292    2   12  484    2   19    2   12\n",
            " 1091    4   32  186  846   71   35  250  117    2 1707   41  112   58\n",
            "  240    6   66   35   66 8566    2  200   66  170  156   33    2 1264\n",
            "    2   15   10 6305   60    7   78    5  406 3783  134  183  939  180\n",
            "  626  279  626 4632  145    5   57 3784  846   71   32   23  232  769\n",
            "  104   33   71   91  939  940    5   57    4    6  375   33  129   66\n",
            "   37   90    4    4 1707   41  115   41 1159   13    5  129   66   64\n",
            "    9 6306    5  626 2059 6307   18   91 2769  893  145   33    9  143\n",
            " 2359  198   91   19  640   57    4   60   63  846   12  165 1355  626\n",
            "  279  112   78   13   59   32    5   33   32 6308  112  599  826   86\n",
            " 3493    3   19 1850   18  469 1397 1771  778  110    6   25   66  145\n",
            "  626   32   32  279  264  836   21   52   46  264  112   71   21  196\n",
            "  366 6309  145  113   12 8567 2360  112    5  109   22 6310   31  600\n",
            "  104  626 4632    6    7   71   46   20   15   10   27  999 6305 2438\n",
            " 1030  470   12    2   15   10   70   24  633   35   11  941   52   62\n",
            "    6    7   71 1567  610   21 1992 2439  197  610   21  196 2440   86\n",
            "   34    5   57    4   21   19  164 1172    5 1134   33  113  161   24\n",
            "  232 2920    5  846   71   57    4    5  626 2059 6307   18   91 2769\n",
            "  893   32    5   33   32 6308  112  599  826   86 3493    3   19 1850\n",
            "   18  469 1397 1771  778  110    6   25   66  626  279   63   35   11\n",
            "  941   52   62    6    7   71  460  184   32    5 3785   71   57    4]\n",
            "(2502, 672)\n"
          ]
        }
      ]
    },
    {
      "cell_type": "code",
      "source": [
        "word_idx_count = len(word_index)\n",
        "print(word_idx_count)"
      ],
      "metadata": {
        "colab": {
          "base_uri": "https://localhost:8080/"
        },
        "id": "BjfdPi-gAdcq",
        "outputId": "d1dd5281-4a11-42e6-808e-1ae17c6fba37"
      },
      "execution_count": 88,
      "outputs": [
        {
          "output_type": "stream",
          "name": "stdout",
          "text": [
            "16806\n"
          ]
        }
      ]
    },
    {
      "cell_type": "code",
      "source": [
        "import torch\n",
        "from torch.utils.data import TensorDataset, DataLoader\n",
        "import torch.nn as nn\n",
        "import torch.optim as optim\n",
        "\n",
        "# def data_sequence(input, label):\n",
        "#   inout_seq = []\n",
        "#   for i in range(input.shape[0]):\n",
        "#     seq = torch.Tensor(input[i,:])\n",
        "#     target = torch.Tensor(label[i,:])\n",
        "#     inout_seq.append((seq,target))\n",
        "#   return inout_seq\n",
        "\n",
        "# inout_seq = data_sequence(pad_train,y_train)\n",
        "# val_seq = data_sequence(pad_val,y_val)\n",
        "# print(inout_seq[3])\n",
        "\n",
        "batch_size = 4 # hyper parameter\n",
        "\n",
        "# load dataset\n",
        "trainX = torch.Tensor(pad_train)\n",
        "trainY = torch.Tensor(y_train)\n",
        "train = TensorDataset(trainX, trainY)\n",
        "\n",
        "valX = torch.Tensor(pad_val)\n",
        "valY = torch.Tensor(y_val)\n",
        "val = TensorDataset(valX,valY)\n",
        "\n",
        "testX = torch.Tensor(pad_test)\n",
        "testY = torch.Tensor(y_test)\n",
        "test = TensorDataset(testX,testY)\n",
        "\n",
        "train_loader = DataLoader(train, batch_size=batch_size, shuffle=False, drop_last=True)\n",
        "val_loader = DataLoader(val, batch_size=1, shuffle=False, drop_last=True)\n",
        "test_loader = DataLoader(test, batch_size=1, shuffle=False, drop_last=True)"
      ],
      "metadata": {
        "id": "tEl7ONAb_Pvt"
      },
      "execution_count": 89,
      "outputs": []
    },
    {
      "cell_type": "code",
      "source": [
        "\n",
        "class LSTM_Model(nn.Module):\n",
        "  def __init__(self):\n",
        "    super(LSTM_Model, self).__init__()\n",
        "    self.embeddings = nn.Embedding(word_idx_count+1, 64)\n",
        "    self.lstm1 = nn.LSTM(input_size=64, hidden_size=64, bidirectional=True, batch_first=True)\n",
        "    self.lstm2 = nn.LSTM(input_size=128, hidden_size=32, bidirectional=True, batch_first=True)\n",
        "    self.lstm3 = nn.LSTM(input_size=64, hidden_size=32, bidirectional=True, batch_first=True)\n",
        "    self.fc1 = torch.nn.Linear(64,64)\n",
        "    self.relu = torch.nn.ReLU()\n",
        "    self.fc2 = torch.nn.Linear(64,32)\n",
        "    self.fc3 = torch.nn.Linear(32,6)\n",
        "\n",
        "  def forward(self,inputs):\n",
        "    embeds = self.embeddings(inputs.to(torch.long))\n",
        "    h1, states = self.lstm1(embeds)\n",
        "    h2, states = self.lstm2(h1)  \n",
        "    h3, states = self.lstm3(h2)\n",
        "    h3 = h3[:,-1,:]\n",
        "    h4 = self.fc1(h3)\n",
        "    h4 = self.relu(h4)\n",
        "    h4 = self.fc2(h4)\n",
        "    h4 = self.relu(h4)\n",
        "    out = self.fc3(h4)\n",
        "    return out"
      ],
      "metadata": {
        "id": "lxXPj5vup6pn"
      },
      "execution_count": 90,
      "outputs": []
    },
    {
      "cell_type": "code",
      "source": [
        "!pip install torchinfo"
      ],
      "metadata": {
        "colab": {
          "base_uri": "https://localhost:8080/"
        },
        "id": "mkDBQETV5Rvg",
        "outputId": "4850d71e-38c0-441d-c750-7e977ac64e9f"
      },
      "execution_count": 18,
      "outputs": [
        {
          "output_type": "stream",
          "name": "stdout",
          "text": [
            "Looking in indexes: https://pypi.org/simple, https://us-python.pkg.dev/colab-wheels/public/simple/\n",
            "Collecting torchinfo\n",
            "  Downloading torchinfo-1.7.1-py3-none-any.whl (22 kB)\n",
            "Installing collected packages: torchinfo\n",
            "Successfully installed torchinfo-1.7.1\n"
          ]
        }
      ]
    },
    {
      "cell_type": "code",
      "source": [
        "from torchinfo import summary\n",
        "\n",
        "device = torch.device(\"cuda\" if torch.cuda.is_available() else \"cpu\")\n",
        "gc.collect()\n",
        "torch.cuda.empty_cache()\n",
        "epochs = 30  #hyper parameter\n",
        "model = LSTM_Model().to(device)\n",
        "print(model)\n",
        "print(summary(model,(1,672)))\n",
        "\n",
        "optimizer = optim.Adam(model.parameters(), lr=0.001) # hyper parameter\n",
        "\n",
        "mse = nn.MSELoss()\n",
        "train_loss = []\n",
        "score = ['cohesion','syntax','vocabulary','phraseology','grammar','conventions']\n",
        "train_loss_score = [] # six score loss in each epoch\n",
        "val_loss_score = [] # six score loss in validation set \n",
        "best_val_mse = 10000\n",
        "     "
      ],
      "metadata": {
        "id": "2tPIqOhB9uwV",
        "colab": {
          "base_uri": "https://localhost:8080/"
        },
        "outputId": "7cdf796f-97b7-4281-b2bb-a7a61026c6cd"
      },
      "execution_count": 91,
      "outputs": [
        {
          "output_type": "stream",
          "name": "stdout",
          "text": [
            "LSTM_Model(\n",
            "  (embeddings): Embedding(16807, 64)\n",
            "  (lstm1): LSTM(64, 64, batch_first=True, bidirectional=True)\n",
            "  (lstm2): LSTM(128, 32, batch_first=True, bidirectional=True)\n",
            "  (lstm3): LSTM(64, 32, batch_first=True, bidirectional=True)\n",
            "  (fc1): Linear(in_features=64, out_features=64, bias=True)\n",
            "  (relu): ReLU()\n",
            "  (fc2): Linear(in_features=64, out_features=32, bias=True)\n",
            "  (fc3): Linear(in_features=32, out_features=6, bias=True)\n",
            ")\n",
            "==========================================================================================\n",
            "Layer (type:depth-idx)                   Output Shape              Param #\n",
            "==========================================================================================\n",
            "LSTM_Model                               [1, 6]                    --\n",
            "├─Embedding: 1-1                         [1, 672, 64]              1,075,648\n",
            "├─LSTM: 1-2                              [1, 672, 128]             66,560\n",
            "├─LSTM: 1-3                              [1, 672, 64]              41,472\n",
            "├─LSTM: 1-4                              [1, 672, 64]              25,088\n",
            "├─Linear: 1-5                            [1, 64]                   4,160\n",
            "├─ReLU: 1-6                              [1, 64]                   --\n",
            "├─Linear: 1-7                            [1, 32]                   2,080\n",
            "├─ReLU: 1-8                              [1, 32]                   --\n",
            "├─Linear: 1-9                            [1, 6]                    198\n",
            "==========================================================================================\n",
            "Total params: 1,215,206\n",
            "Trainable params: 1,215,206\n",
            "Non-trainable params: 0\n",
            "Total mult-adds (M): 90.54\n",
            "==========================================================================================\n",
            "Input size (MB): 0.00\n",
            "Forward/backward pass size (MB): 1.72\n",
            "Params size (MB): 4.86\n",
            "Estimated Total Size (MB): 6.58\n",
            "==========================================================================================\n"
          ]
        }
      ]
    },
    {
      "cell_type": "code",
      "source": [
        "def train(train_loader, val_loader, epochs=60, val_epoch=5):\n",
        "\n",
        "  for epoch in range(epochs):\n",
        "    batch_loss = []\n",
        "    for seq, labels in train_loader:\n",
        "      seq = seq.to(device)\n",
        "      labels = labels.to(device)\n",
        "      # model training\n",
        "      model.train()\n",
        "      pred = model(seq)\n",
        "\n",
        "      # append each score into each list\n",
        "      loss_list = torch.mean(((pred - labels)**2),dim=0).tolist()\n",
        "      # print(loss_list)\n",
        "      batch_loss.append(loss_list)\n",
        "\n",
        "      # backward\n",
        "      loss = mse(pred, labels)\n",
        "      # print(f'mse loss {loss}')\n",
        "      loss.backward()\n",
        "      optimizer.step()\n",
        "      optimizer.zero_grad()\n",
        "\n",
        "      # #print batch loss\n",
        "      # for i,s in enumerate(loss_list):\n",
        "      #   print(f'batch loss {score[i]}: {loss_list[i]}')\n",
        "    \n",
        "    #append each epoch score loss\n",
        "    loss_epoch = np.mean(batch_loss, axis=0)\n",
        "    for i,s in enumerate(loss_epoch):\n",
        "      print(f'epoch {epoch} loss {score[i]}: {loss_epoch[i]}')\n",
        "    train_loss_score.append(loss_epoch)\n",
        "    train_loss.append(np.mean(loss_epoch))\n",
        "    print(f'total average loss in epoch {epoch}: {np.mean(loss_epoch)}')\n",
        "\n",
        "    # validation\n",
        "    if (epoch+1)%val_epoch == 0:\n",
        "      val_loss = []\n",
        "      with torch.no_grad():\n",
        "        for x_val, y_val in val_loader:\n",
        "          x_val = x_val.to(device)\n",
        "          y_val = y_val.to(device)\n",
        "          model.eval()\n",
        "          yhat = model(x_val)\n",
        "          loss_val_list = ((yhat - y_val)**2).tolist()\n",
        "          val_loss.append(loss_val_list)\n",
        "      val_loss = np.mean(loss_val_list, axis=0)\n",
        "\n",
        "      # save best model\n",
        "      cur_mse = np.mean(val_epoch)\n",
        "      if(cur_mse < best_val_mse):\n",
        "        path = '/content/drive/My Drive/MLProject/model2.pt'\n",
        "        torch.save(model.state_dict(),path)\n",
        "\n",
        "      #print validation mse\n",
        "      for i,s in enumerate(val_loss):\n",
        "        print(f'validation mse {score[i]}: {val_loss[i]}')\n",
        "      val_loss_score.append(val_loss)\n",
        "\n",
        "\n",
        "  return train_loss, train_loss_score, val_loss_score"
      ],
      "metadata": {
        "id": "xFn8Pciv2WGn"
      },
      "execution_count": 93,
      "outputs": []
    },
    {
      "cell_type": "code",
      "source": [
        "train_loss, train_loss_score, val_loss_score = train(train_loader,val_loader)"
      ],
      "metadata": {
        "colab": {
          "base_uri": "https://localhost:8080/"
        },
        "id": "athLosItGsB9",
        "outputId": "b644309c-e1e6-4d0a-fb7a-16f4d0ecc0f9"
      },
      "execution_count": 94,
      "outputs": [
        {
          "output_type": "stream",
          "name": "stdout",
          "text": [
            "epoch 0 loss cohesion: 0.9903113970756531\n",
            "epoch 0 loss syntax: 0.8580599181491416\n",
            "epoch 0 loss vocabulary: 1.0148587699233553\n",
            "epoch 0 loss phraseology: 0.8918904401208274\n",
            "epoch 0 loss grammar: 0.9908903843526554\n",
            "epoch 0 loss conventions: 1.035446604347229\n",
            "total average loss in epoch 0: 0.9635762523281436\n",
            "epoch 1 loss cohesion: 0.4444972232952714\n",
            "epoch 1 loss syntax: 0.43542028315309433\n",
            "epoch 1 loss vocabulary: 0.3539814279115293\n",
            "epoch 1 loss phraseology: 0.43935654891659504\n",
            "epoch 1 loss grammar: 0.5047364984950051\n",
            "epoch 1 loss conventions: 0.47542054128833117\n",
            "total average loss in epoch 1: 0.44223542050997106\n",
            "epoch 2 loss cohesion: 0.4291915868550539\n",
            "epoch 2 loss syntax: 0.4216386672966182\n",
            "epoch 2 loss vocabulary: 0.3403936645358801\n",
            "epoch 2 loss phraseology: 0.42519319353401663\n",
            "epoch 2 loss grammar: 0.4913275032821577\n",
            "epoch 2 loss conventions: 0.45992308531701565\n",
            "total average loss in epoch 2: 0.427944616803457\n",
            "epoch 3 loss cohesion: 0.3802926074206829\n",
            "epoch 3 loss syntax: 0.37054503448605536\n",
            "epoch 3 loss vocabulary: 0.3020164484076202\n",
            "epoch 3 loss phraseology: 0.3761392016172409\n",
            "epoch 3 loss grammar: 0.440452328696847\n",
            "epoch 3 loss conventions: 0.406328815035522\n",
            "total average loss in epoch 3: 0.379295739277328\n",
            "epoch 4 loss cohesion: 0.32324033176936207\n",
            "epoch 4 loss syntax: 0.31407712168991564\n",
            "epoch 4 loss vocabulary: 0.2618538814008236\n",
            "epoch 4 loss phraseology: 0.3186745056528598\n",
            "epoch 4 loss grammar: 0.37295431118756533\n",
            "epoch 4 loss conventions: 0.34330187287032604\n",
            "total average loss in epoch 4: 0.3223503374284754\n",
            "validation mse cohesion: 0.5121338963508606\n",
            "validation mse syntax: 0.24027270078659058\n",
            "validation mse vocabulary: 0.5351542234420776\n",
            "validation mse phraseology: 0.10699740052223206\n",
            "validation mse grammar: 0.32159867882728577\n",
            "validation mse conventions: 0.38538140058517456\n",
            "epoch 5 loss cohesion: 0.276278251580894\n",
            "epoch 5 loss syntax: 0.26602033810019493\n",
            "epoch 5 loss vocabulary: 0.22764282567203045\n",
            "epoch 5 loss phraseology: 0.2677120275947265\n",
            "epoch 5 loss grammar: 0.3149940825290978\n",
            "epoch 5 loss conventions: 0.2927715217158198\n",
            "total average loss in epoch 5: 0.27423650786546055\n",
            "epoch 6 loss cohesion: 0.2448363401070237\n",
            "epoch 6 loss syntax: 0.23009574748054146\n",
            "epoch 6 loss vocabulary: 0.20194412470534445\n",
            "epoch 6 loss phraseology: 0.2317096252836287\n",
            "epoch 6 loss grammar: 0.2700111444853246\n",
            "epoch 6 loss conventions: 0.2518902879402041\n",
            "total average loss in epoch 6: 0.2384145450003445\n",
            "epoch 7 loss cohesion: 0.2197692008683458\n",
            "epoch 7 loss syntax: 0.2001586158812046\n",
            "epoch 7 loss vocabulary: 0.18138427483513953\n",
            "epoch 7 loss phraseology: 0.19949037921577692\n",
            "epoch 7 loss grammar: 0.23609962515681981\n",
            "epoch 7 loss conventions: 0.22353567973151803\n",
            "total average loss in epoch 7: 0.21007296261480077\n",
            "epoch 8 loss cohesion: 0.2106190493479371\n",
            "epoch 8 loss syntax: 0.18554739235714077\n",
            "epoch 8 loss vocabulary: 0.17351836030483245\n",
            "epoch 8 loss phraseology: 0.18811848974972964\n",
            "epoch 8 loss grammar: 0.2253652369018644\n",
            "epoch 8 loss conventions: 0.218311330537498\n",
            "total average loss in epoch 8: 0.20024664319983373\n",
            "epoch 9 loss cohesion: 0.22277262070029974\n",
            "epoch 9 loss syntax: 0.1877826593529433\n",
            "epoch 9 loss vocabulary: 0.17911873362362385\n",
            "epoch 9 loss phraseology: 0.19681205420047046\n",
            "epoch 9 loss grammar: 0.23316972089111804\n",
            "epoch 9 loss conventions: 0.22680959055423736\n",
            "total average loss in epoch 9: 0.20774422988711547\n",
            "validation mse cohesion: 1.9591739177703857\n",
            "validation mse syntax: 1.3316186666488647\n",
            "validation mse vocabulary: 2.0379843711853027\n",
            "validation mse phraseology: 0.16285502910614014\n",
            "validation mse grammar: 1.5424387454986572\n",
            "validation mse conventions: 1.7589342594146729\n",
            "epoch 10 loss cohesion: 0.23318034540563823\n",
            "epoch 10 loss syntax: 0.1979576691791415\n",
            "epoch 10 loss vocabulary: 0.19035111874490976\n",
            "epoch 10 loss phraseology: 0.2072940564453602\n",
            "epoch 10 loss grammar: 0.24114524759203196\n",
            "epoch 10 loss conventions: 0.24364760967278853\n",
            "total average loss in epoch 10: 0.21892934117331167\n",
            "epoch 11 loss cohesion: 0.22030655314642936\n",
            "epoch 11 loss syntax: 0.19237202286832034\n",
            "epoch 11 loss vocabulary: 0.18172091212309896\n",
            "epoch 11 loss phraseology: 0.19250737932398915\n",
            "epoch 11 loss grammar: 0.22930230373218655\n",
            "epoch 11 loss conventions: 0.22559786388725042\n",
            "total average loss in epoch 11: 0.20696783918021247\n",
            "epoch 12 loss cohesion: 0.20556899867281317\n",
            "epoch 12 loss syntax: 0.18353526869639755\n",
            "epoch 12 loss vocabulary: 0.17056269356682896\n",
            "epoch 12 loss phraseology: 0.18171347207874058\n",
            "epoch 12 loss grammar: 0.21164219801425935\n",
            "epoch 12 loss conventions: 0.19847516231909396\n",
            "total average loss in epoch 12: 0.19191629889135556\n",
            "epoch 13 loss cohesion: 0.20146735409349203\n",
            "epoch 13 loss syntax: 0.17558701400384308\n",
            "epoch 13 loss vocabulary: 0.15900689510554075\n",
            "epoch 13 loss phraseology: 0.16881258786544204\n",
            "epoch 13 loss grammar: 0.19453635673373937\n",
            "epoch 13 loss conventions: 0.1895943571779877\n",
            "total average loss in epoch 13: 0.18150076083000752\n",
            "epoch 14 loss cohesion: 0.200693448587507\n",
            "epoch 14 loss syntax: 0.1724195808827877\n",
            "epoch 14 loss vocabulary: 0.15431446218565106\n",
            "epoch 14 loss phraseology: 0.16689355260282754\n",
            "epoch 14 loss grammar: 0.18628003523126244\n",
            "epoch 14 loss conventions: 0.18881555546820164\n",
            "total average loss in epoch 14: 0.17823610582637292\n",
            "validation mse cohesion: 1.1823489665985107\n",
            "validation mse syntax: 0.8038287162780762\n",
            "validation mse vocabulary: 1.216251254081726\n",
            "validation mse phraseology: 0.007954644970595837\n",
            "validation mse grammar: 0.9717105031013489\n",
            "validation mse conventions: 1.0747770071029663\n",
            "epoch 15 loss cohesion: 0.19620176345799117\n",
            "epoch 15 loss syntax: 0.16065096318125724\n",
            "epoch 15 loss vocabulary: 0.15206722369864584\n",
            "epoch 15 loss phraseology: 0.15907354604154825\n",
            "epoch 15 loss grammar: 0.18317488545961677\n",
            "epoch 15 loss conventions: 0.18577266935110093\n",
            "total average loss in epoch 15: 0.17282350853169337\n",
            "epoch 16 loss cohesion: 0.1847524311758578\n",
            "epoch 16 loss syntax: 0.1517818117607385\n",
            "epoch 16 loss vocabulary: 0.15178302167132496\n",
            "epoch 16 loss phraseology: 0.1599774594530463\n",
            "epoch 16 loss grammar: 0.18006215011179447\n",
            "epoch 16 loss conventions: 0.18408977886065842\n",
            "total average loss in epoch 16: 0.1687411088389034\n",
            "epoch 17 loss cohesion: 0.17818252158164977\n",
            "epoch 17 loss syntax: 0.15472315380834042\n",
            "epoch 17 loss vocabulary: 0.15372488542720675\n",
            "epoch 17 loss phraseology: 0.16167081960141658\n",
            "epoch 17 loss grammar: 0.18386822928488256\n",
            "epoch 17 loss conventions: 0.18517818528115748\n",
            "total average loss in epoch 17: 0.16955796583077562\n",
            "epoch 18 loss cohesion: 0.17215840861052276\n",
            "epoch 18 loss syntax: 0.15184790688529612\n",
            "epoch 18 loss vocabulary: 0.15293296890556812\n",
            "epoch 18 loss phraseology: 0.15602337528951465\n",
            "epoch 18 loss grammar: 0.1848639663912356\n",
            "epoch 18 loss conventions: 0.1877676641841419\n",
            "total average loss in epoch 18: 0.1675990483777132\n",
            "epoch 19 loss cohesion: 0.17259442147985102\n",
            "epoch 19 loss syntax: 0.1514261857304722\n",
            "epoch 19 loss vocabulary: 0.15084766884334386\n",
            "epoch 19 loss phraseology: 0.15676787394173444\n",
            "epoch 19 loss grammar: 0.18096114741265773\n",
            "epoch 19 loss conventions: 0.18827588180080057\n",
            "total average loss in epoch 19: 0.16681219653480997\n",
            "validation mse cohesion: 3.0411150455474854\n",
            "validation mse syntax: 2.3441920280456543\n",
            "validation mse vocabulary: 3.1974151134490967\n",
            "validation mse phraseology: 0.5501283407211304\n",
            "validation mse grammar: 2.687390089035034\n",
            "validation mse conventions: 2.911527395248413\n",
            "epoch 20 loss cohesion: 0.1733212404869497\n",
            "epoch 20 loss syntax: 0.15115040953345596\n",
            "epoch 20 loss vocabulary: 0.14602735717110335\n",
            "epoch 20 loss phraseology: 0.15681029761508108\n",
            "epoch 20 loss grammar: 0.17610548570379614\n",
            "epoch 20 loss conventions: 0.1824272991105914\n",
            "total average loss in epoch 20: 0.16430701493682962\n",
            "epoch 21 loss cohesion: 0.17457908472046257\n",
            "epoch 21 loss syntax: 0.15295736790671943\n",
            "epoch 21 loss vocabulary: 0.14251719932109116\n",
            "epoch 21 loss phraseology: 0.1549263227596879\n",
            "epoch 21 loss grammar: 0.1700610700249672\n",
            "epoch 21 loss conventions: 0.17518807326108218\n",
            "total average loss in epoch 21: 0.16170485299900175\n",
            "epoch 22 loss cohesion: 0.1733603854164481\n",
            "epoch 22 loss syntax: 0.1472664862923324\n",
            "epoch 22 loss vocabulary: 0.13618673982720356\n",
            "epoch 22 loss phraseology: 0.14810935573279857\n",
            "epoch 22 loss grammar: 0.162463610753417\n",
            "epoch 22 loss conventions: 0.1696829703554511\n",
            "total average loss in epoch 22: 0.1561782580629418\n",
            "epoch 23 loss cohesion: 0.16459627245739103\n",
            "epoch 23 loss syntax: 0.14219296077750623\n",
            "epoch 23 loss vocabulary: 0.1282267453983426\n",
            "epoch 23 loss phraseology: 0.13960715873092414\n",
            "epoch 23 loss grammar: 0.15123559890985488\n",
            "epoch 23 loss conventions: 0.16028021072223783\n",
            "total average loss in epoch 23: 0.14768982449937615\n",
            "epoch 24 loss cohesion: 0.1550492452416569\n",
            "epoch 24 loss syntax: 0.138035417445004\n",
            "epoch 24 loss vocabulary: 0.12077206699699164\n",
            "epoch 24 loss phraseology: 0.13499050008654595\n",
            "epoch 24 loss grammar: 0.14345183581411838\n",
            "epoch 24 loss conventions: 0.1563632813926786\n",
            "total average loss in epoch 24: 0.1414437244961659\n",
            "validation mse cohesion: 1.0103462934494019\n",
            "validation mse syntax: 0.7274665236473083\n",
            "validation mse vocabulary: 1.1164389848709106\n",
            "validation mse phraseology: 0.00036821316462010145\n",
            "validation mse grammar: 0.8954761028289795\n",
            "validation mse conventions: 0.9067505598068237\n",
            "epoch 25 loss cohesion: 0.15129309900552035\n",
            "epoch 25 loss syntax: 0.13430385251939297\n",
            "epoch 25 loss vocabulary: 0.12028782753013074\n",
            "epoch 25 loss phraseology: 0.1361649525348097\n",
            "epoch 25 loss grammar: 0.13898690325841306\n",
            "epoch 25 loss conventions: 0.15717676730901003\n",
            "total average loss in epoch 25: 0.13970223369287949\n",
            "epoch 26 loss cohesion: 0.15067266671471297\n",
            "epoch 26 loss syntax: 0.13162073380164802\n",
            "epoch 26 loss vocabulary: 0.1164597343802452\n",
            "epoch 26 loss phraseology: 0.1380254626048729\n",
            "epoch 26 loss grammar: 0.13616052123885602\n",
            "epoch 26 loss conventions: 0.15569655619636177\n",
            "total average loss in epoch 26: 0.13810594582278282\n",
            "epoch 27 loss cohesion: 0.14809151472076773\n",
            "epoch 27 loss syntax: 0.13234271471872927\n",
            "epoch 27 loss vocabulary: 0.11206592883076519\n",
            "epoch 27 loss phraseology: 0.1363953443914652\n",
            "epoch 27 loss grammar: 0.12608703805208207\n",
            "epoch 27 loss conventions: 0.15372458241581916\n",
            "total average loss in epoch 27: 0.13478452052160475\n",
            "epoch 28 loss cohesion: 0.1446409135684371\n",
            "epoch 28 loss syntax: 0.13372118797525764\n",
            "epoch 28 loss vocabulary: 0.10534337925873696\n",
            "epoch 28 loss phraseology: 0.1367709526322782\n",
            "epoch 28 loss grammar: 0.11012096759639681\n",
            "epoch 28 loss conventions: 0.15129034552760423\n",
            "total average loss in epoch 28: 0.13031462442645184\n",
            "epoch 29 loss cohesion: 0.13395939036011695\n",
            "epoch 29 loss syntax: 0.13158012322820722\n",
            "epoch 29 loss vocabulary: 0.09908009235486388\n",
            "epoch 29 loss phraseology: 0.12979146320968865\n",
            "epoch 29 loss grammar: 0.10295816683582962\n",
            "epoch 29 loss conventions: 0.14750646652579308\n",
            "total average loss in epoch 29: 0.12414595041908323\n",
            "validation mse cohesion: 0.2882196605205536\n",
            "validation mse syntax: 0.26537469029426575\n",
            "validation mse vocabulary: 0.6225778460502625\n",
            "validation mse phraseology: 0.1130453497171402\n",
            "validation mse grammar: 0.24682392179965973\n",
            "validation mse conventions: 0.21010324358940125\n",
            "epoch 30 loss cohesion: 0.1205391563925892\n",
            "epoch 30 loss syntax: 0.12328899054396898\n",
            "epoch 30 loss vocabulary: 0.09170957577303052\n",
            "epoch 30 loss phraseology: 0.12538194627054036\n",
            "epoch 30 loss grammar: 0.09728834083415568\n",
            "epoch 30 loss conventions: 0.13959152702577413\n",
            "total average loss in epoch 30: 0.11629992280667649\n",
            "epoch 31 loss cohesion: 0.11634714909531176\n",
            "epoch 31 loss syntax: 0.11687938118614256\n",
            "epoch 31 loss vocabulary: 0.08221846017576755\n",
            "epoch 31 loss phraseology: 0.11796423284783959\n",
            "epoch 31 loss grammar: 0.08352701531797647\n",
            "epoch 31 loss conventions: 0.12884640117436647\n",
            "total average loss in epoch 31: 0.10763043996623407\n",
            "epoch 32 loss cohesion: 0.11285403144210578\n",
            "epoch 32 loss syntax: 0.11299396021701395\n",
            "epoch 32 loss vocabulary: 0.07456677663922309\n",
            "epoch 32 loss phraseology: 0.1164045525714755\n",
            "epoch 32 loss grammar: 0.08163409418314696\n",
            "epoch 32 loss conventions: 0.12738091447763145\n",
            "total average loss in epoch 32: 0.10430572158843278\n",
            "epoch 33 loss cohesion: 0.11185257324054837\n",
            "epoch 33 loss syntax: 0.11345639197826385\n",
            "epoch 33 loss vocabulary: 0.07705158440116792\n",
            "epoch 33 loss phraseology: 0.11633506331313402\n",
            "epoch 33 loss grammar: 0.07893236162858083\n",
            "epoch 33 loss conventions: 0.12451151248291135\n",
            "total average loss in epoch 33: 0.10368991450743441\n",
            "epoch 34 loss cohesion: 0.11305064350478351\n",
            "epoch 34 loss syntax: 0.11885305574387312\n",
            "epoch 34 loss vocabulary: 0.0809926306962967\n",
            "epoch 34 loss phraseology: 0.1172462123323232\n",
            "epoch 34 loss grammar: 0.08085104846619069\n",
            "epoch 34 loss conventions: 0.12686077970452606\n",
            "total average loss in epoch 34: 0.1063090617413322\n",
            "validation mse cohesion: 0.5727475881576538\n",
            "validation mse syntax: 0.6232944130897522\n",
            "validation mse vocabulary: 0.713009238243103\n",
            "validation mse phraseology: 0.0020388062112033367\n",
            "validation mse grammar: 0.7129343152046204\n",
            "validation mse conventions: 0.3567502498626709\n",
            "epoch 35 loss cohesion: 0.11021919614374638\n",
            "epoch 35 loss syntax: 0.12108797486871481\n",
            "epoch 35 loss vocabulary: 0.08160249056629837\n",
            "epoch 35 loss phraseology: 0.11357875723466278\n",
            "epoch 35 loss grammar: 0.0839843136973679\n",
            "epoch 35 loss conventions: 0.12798683892227708\n",
            "total average loss in epoch 35: 0.10640992857217786\n",
            "epoch 36 loss cohesion: 0.11044883649088443\n",
            "epoch 36 loss syntax: 0.11699679428562522\n",
            "epoch 36 loss vocabulary: 0.08097523180339486\n",
            "epoch 36 loss phraseology: 0.11385755828134715\n",
            "epoch 36 loss grammar: 0.08587851207684725\n",
            "epoch 36 loss conventions: 0.12281124039515853\n",
            "total average loss in epoch 36: 0.10516136222220958\n",
            "epoch 37 loss cohesion: 0.10974929908737541\n",
            "epoch 37 loss syntax: 0.11242569915223867\n",
            "epoch 37 loss vocabulary: 0.0721640791285783\n",
            "epoch 37 loss phraseology: 0.10988965088874102\n",
            "epoch 37 loss grammar: 0.08002842782400549\n",
            "epoch 37 loss conventions: 0.11330543465949595\n",
            "total average loss in epoch 37: 0.0995937651234058\n",
            "epoch 38 loss cohesion: 0.10791629604212939\n",
            "epoch 38 loss syntax: 0.10708239707052708\n",
            "epoch 38 loss vocabulary: 0.06415371544361115\n",
            "epoch 38 loss phraseology: 0.10381369407624007\n",
            "epoch 38 loss grammar: 0.07481788076311349\n",
            "epoch 38 loss conventions: 0.09910164740420878\n",
            "total average loss in epoch 38: 0.09281427179997166\n",
            "epoch 39 loss cohesion: 0.10474025096893311\n",
            "epoch 39 loss syntax: 0.10210177647843957\n",
            "epoch 39 loss vocabulary: 0.0620552374150604\n",
            "epoch 39 loss phraseology: 0.1004552648914978\n",
            "epoch 39 loss grammar: 0.07532914398238062\n",
            "epoch 39 loss conventions: 0.09146560388281941\n",
            "total average loss in epoch 39: 0.08935787960318849\n",
            "validation mse cohesion: 1.8496664762496948\n",
            "validation mse syntax: 1.6257566213607788\n",
            "validation mse vocabulary: 2.0332465171813965\n",
            "validation mse phraseology: 0.3736923336982727\n",
            "validation mse grammar: 3.5576817989349365\n",
            "validation mse conventions: 1.7370682954788208\n",
            "epoch 40 loss cohesion: 0.09325505671948195\n",
            "epoch 40 loss syntax: 0.0995326285328716\n",
            "epoch 40 loss vocabulary: 0.05807606806792319\n",
            "epoch 40 loss phraseology: 0.09624144284576178\n",
            "epoch 40 loss grammar: 0.07327034371998162\n",
            "epoch 40 loss conventions: 0.08815343136191368\n",
            "total average loss in epoch 40: 0.08475482854132231\n",
            "epoch 41 loss cohesion: 0.08869607888609171\n",
            "epoch 41 loss syntax: 0.09372572142928838\n",
            "epoch 41 loss vocabulary: 0.05930634743273258\n",
            "epoch 41 loss phraseology: 0.09284161042161286\n",
            "epoch 41 loss grammar: 0.06953887638673187\n",
            "epoch 41 loss conventions: 0.08225002217399888\n",
            "total average loss in epoch 41: 0.08105977612174271\n",
            "epoch 42 loss cohesion: 0.085039108286798\n",
            "epoch 42 loss syntax: 0.09472682929476724\n",
            "epoch 42 loss vocabulary: 0.059742526723723856\n",
            "epoch 42 loss phraseology: 0.09375248695388436\n",
            "epoch 42 loss grammar: 0.06924671244286\n",
            "epoch 42 loss conventions: 0.07927761844592168\n",
            "total average loss in epoch 42: 0.08029754702465919\n",
            "epoch 43 loss cohesion: 0.08354828425124287\n",
            "epoch 43 loss syntax: 0.09243130929041654\n",
            "epoch 43 loss vocabulary: 0.06159642874039709\n",
            "epoch 43 loss phraseology: 0.09315922820055857\n",
            "epoch 43 loss grammar: 0.06884350687526167\n",
            "epoch 43 loss conventions: 0.07592071975804865\n",
            "total average loss in epoch 43: 0.07924991285265423\n",
            "epoch 44 loss cohesion: 0.08337832344900817\n",
            "epoch 44 loss syntax: 0.0942132748731412\n",
            "epoch 44 loss vocabulary: 0.06237132209446281\n",
            "epoch 44 loss phraseology: 0.09031031884923578\n",
            "epoch 44 loss grammar: 0.06910913604721428\n",
            "epoch 44 loss conventions: 0.07210943383872509\n",
            "total average loss in epoch 44: 0.07858196819196454\n",
            "validation mse cohesion: 1.9393229484558105\n",
            "validation mse syntax: 2.266789674758911\n",
            "validation mse vocabulary: 2.6691014766693115\n",
            "validation mse phraseology: 0.4520377516746521\n",
            "validation mse grammar: 1.8490654230117798\n",
            "validation mse conventions: 1.343767762184143\n",
            "epoch 45 loss cohesion: 0.08786566151045262\n",
            "epoch 45 loss syntax: 0.09497337018288672\n",
            "epoch 45 loss vocabulary: 0.06717077122773044\n",
            "epoch 45 loss phraseology: 0.09220850329697132\n",
            "epoch 45 loss grammar: 0.07152149450071156\n",
            "epoch 45 loss conventions: 0.07273806546218693\n",
            "total average loss in epoch 45: 0.08107964436348992\n",
            "epoch 46 loss cohesion: 0.08719245690926909\n",
            "epoch 46 loss syntax: 0.10065072874417529\n",
            "epoch 46 loss vocabulary: 0.07149204119732604\n",
            "epoch 46 loss phraseology: 0.09243699991125613\n",
            "epoch 46 loss grammar: 0.07965936142802238\n",
            "epoch 46 loss conventions: 0.07667226973921061\n",
            "total average loss in epoch 46: 0.08468397632154327\n",
            "epoch 47 loss cohesion: 0.08410906986203044\n",
            "epoch 47 loss syntax: 0.10285505868978799\n",
            "epoch 47 loss vocabulary: 0.07612559032514692\n",
            "epoch 47 loss phraseology: 0.09433322122693062\n",
            "epoch 47 loss grammar: 0.07969165096729994\n",
            "epoch 47 loss conventions: 0.07711356424894183\n",
            "total average loss in epoch 47: 0.08570469255335629\n",
            "epoch 48 loss cohesion: 0.08232770602703095\n",
            "epoch 48 loss syntax: 0.09998711489886046\n",
            "epoch 48 loss vocabulary: 0.07315190750025213\n",
            "epoch 48 loss phraseology: 0.09396659233272076\n",
            "epoch 48 loss grammar: 0.076734831905365\n",
            "epoch 48 loss conventions: 0.07441822549328209\n",
            "total average loss in epoch 48: 0.0834310630262519\n",
            "epoch 49 loss cohesion: 0.07693786698691547\n",
            "epoch 49 loss syntax: 0.09615290742795915\n",
            "epoch 49 loss vocabulary: 0.06954025704893284\n",
            "epoch 49 loss phraseology: 0.08901618457157165\n",
            "epoch 49 loss grammar: 0.07412048332542182\n",
            "epoch 49 loss conventions: 0.06536606852151454\n",
            "total average loss in epoch 49: 0.07852229464705258\n",
            "validation mse cohesion: 1.3702852725982666\n",
            "validation mse syntax: 1.145482063293457\n",
            "validation mse vocabulary: 1.2505366802215576\n",
            "validation mse phraseology: 0.0957549661397934\n",
            "validation mse grammar: 2.4664385318756104\n",
            "validation mse conventions: 0.9205141067504883\n",
            "epoch 50 loss cohesion: 0.07023117962032556\n",
            "epoch 50 loss syntax: 0.09066632506214083\n",
            "epoch 50 loss vocabulary: 0.06750194418020547\n",
            "epoch 50 loss phraseology: 0.08354907843386754\n",
            "epoch 50 loss grammar: 0.07001140972934664\n",
            "epoch 50 loss conventions: 0.05999166640779004\n",
            "total average loss in epoch 50: 0.07365860057227934\n",
            "epoch 51 loss cohesion: 0.06260272387769074\n",
            "epoch 51 loss syntax: 0.08597394712604582\n",
            "epoch 51 loss vocabulary: 0.06387336947822478\n",
            "epoch 51 loss phraseology: 0.07860222195568495\n",
            "epoch 51 loss grammar: 0.06455132797770202\n",
            "epoch 51 loss conventions: 0.055360112109407784\n",
            "total average loss in epoch 51: 0.06849395042079268\n",
            "epoch 52 loss cohesion: 0.057200171987572684\n",
            "epoch 52 loss syntax: 0.08319323989339172\n",
            "epoch 52 loss vocabulary: 0.0628164856504649\n",
            "epoch 52 loss phraseology: 0.07594382886178791\n",
            "epoch 52 loss grammar: 0.06411523072645069\n",
            "epoch 52 loss conventions: 0.05246692948192358\n",
            "total average loss in epoch 52: 0.06595598110026525\n",
            "epoch 53 loss cohesion: 0.05576225130651146\n",
            "epoch 53 loss syntax: 0.08192327918037773\n",
            "epoch 53 loss vocabulary: 0.05956878557000309\n",
            "epoch 53 loss phraseology: 0.07406946867629886\n",
            "epoch 53 loss grammar: 0.061195196985453365\n",
            "epoch 53 loss conventions: 0.0476517931945622\n",
            "total average loss in epoch 53: 0.06336179581886778\n",
            "epoch 54 loss cohesion: 0.053956311531737446\n",
            "epoch 54 loss syntax: 0.08085016775382682\n",
            "epoch 54 loss vocabulary: 0.059696653766930105\n",
            "epoch 54 loss phraseology: 0.07393303220458329\n",
            "epoch 54 loss grammar: 0.06214132612105459\n",
            "epoch 54 loss conventions: 0.0463150431022048\n",
            "total average loss in epoch 54: 0.06281542241338951\n",
            "validation mse cohesion: 1.3354958295822144\n",
            "validation mse syntax: 1.2484462261199951\n",
            "validation mse vocabulary: 1.064838171005249\n",
            "validation mse phraseology: 0.029498495161533356\n",
            "validation mse grammar: 0.8080800175666809\n",
            "validation mse conventions: 0.19756580889225006\n",
            "epoch 55 loss cohesion: 0.05414698077552021\n",
            "epoch 55 loss syntax: 0.07869062298610806\n",
            "epoch 55 loss vocabulary: 0.05903014903701842\n",
            "epoch 55 loss phraseology: 0.07306058545578271\n",
            "epoch 55 loss grammar: 0.061646349988225844\n",
            "epoch 55 loss conventions: 0.044686984462291\n",
            "total average loss in epoch 55: 0.061876945450824374\n",
            "epoch 56 loss cohesion: 0.054187961833924055\n",
            "epoch 56 loss syntax: 0.0761307547647506\n",
            "epoch 56 loss vocabulary: 0.0601615014619194\n",
            "epoch 56 loss phraseology: 0.07492090165093541\n",
            "epoch 56 loss grammar: 0.06512746931379661\n",
            "epoch 56 loss conventions: 0.04427085362090729\n",
            "total average loss in epoch 56: 0.062466573774372224\n",
            "epoch 57 loss cohesion: 0.053924644390307364\n",
            "epoch 57 loss syntax: 0.07552527599958703\n",
            "epoch 57 loss vocabulary: 0.060953836268745364\n",
            "epoch 57 loss phraseology: 0.07765521808620543\n",
            "epoch 57 loss grammar: 0.06412335014026611\n",
            "epoch 57 loss conventions: 0.045089724024850876\n",
            "total average loss in epoch 57: 0.06287867481832703\n",
            "epoch 58 loss cohesion: 0.05701235226523131\n",
            "epoch 58 loss syntax: 0.07609423384852708\n",
            "epoch 58 loss vocabulary: 0.06460488817133009\n",
            "epoch 58 loss phraseology: 0.07851779753789306\n",
            "epoch 58 loss grammar: 0.06813108633942902\n",
            "epoch 58 loss conventions: 0.0489519812155515\n",
            "total average loss in epoch 58: 0.06555205656299366\n",
            "epoch 59 loss cohesion: 0.058370504470542074\n",
            "epoch 59 loss syntax: 0.07790548644512892\n",
            "epoch 59 loss vocabulary: 0.06504679026156664\n",
            "epoch 59 loss phraseology: 0.08188657317645848\n",
            "epoch 59 loss grammar: 0.06786308817509562\n",
            "epoch 59 loss conventions: 0.05056219454249367\n",
            "total average loss in epoch 59: 0.06693910617854756\n",
            "validation mse cohesion: 3.1244943141937256\n",
            "validation mse syntax: 2.5458240509033203\n",
            "validation mse vocabulary: 2.1506454944610596\n",
            "validation mse phraseology: 0.5041772723197937\n",
            "validation mse grammar: 2.8397841453552246\n",
            "validation mse conventions: 0.9039692878723145\n"
          ]
        }
      ]
    },
    {
      "cell_type": "code",
      "source": [
        "print(train_loss)\n",
        "print(train_loss_score)\n",
        "print(val_loss_score)"
      ],
      "metadata": {
        "colab": {
          "base_uri": "https://localhost:8080/"
        },
        "id": "waOJSS-oU5Wn",
        "outputId": "5f972f06-d0b9-4fb0-b703-1f7f1f78c840"
      },
      "execution_count": 97,
      "outputs": [
        {
          "output_type": "stream",
          "name": "stdout",
          "text": [
            "[0.9635762523281436, 0.44223542050997106, 0.427944616803457, 0.379295739277328, 0.3223503374284754, 0.27423650786546055, 0.2384145450003445, 0.21007296261480077, 0.20024664319983373, 0.20774422988711547, 0.21892934117331167, 0.20696783918021247, 0.19191629889135556, 0.18150076083000752, 0.17823610582637292, 0.17282350853169337, 0.1687411088389034, 0.16955796583077562, 0.1675990483777132, 0.16681219653480997, 0.16430701493682962, 0.16170485299900175, 0.1561782580629418, 0.14768982449937615, 0.1414437244961659, 0.13970223369287949, 0.13810594582278282, 0.13478452052160475, 0.13031462442645184, 0.12414595041908323, 0.11629992280667649, 0.10763043996623407, 0.10430572158843278, 0.10368991450743441, 0.1063090617413322, 0.10640992857217786, 0.10516136222220958, 0.0995937651234058, 0.09281427179997166, 0.08935787960318849, 0.08475482854132231, 0.08105977612174271, 0.08029754702465919, 0.07924991285265423, 0.07858196819196454, 0.08107964436348992, 0.08468397632154327, 0.08570469255335629, 0.0834310630262519, 0.07852229464705258, 0.07365860057227934, 0.06849395042079268, 0.06595598110026525, 0.06336179581886778, 0.06281542241338951, 0.061876945450824374, 0.062466573774372224, 0.06287867481832703, 0.06555205656299366, 0.06693910617854756]\n",
            "[array([0.9903114 , 0.85805992, 1.01485877, 0.89189044, 0.99089038,\n",
            "       1.0354466 ]), array([0.44449722, 0.43542028, 0.35398143, 0.43935655, 0.5047365 ,\n",
            "       0.47542054]), array([0.42919159, 0.42163867, 0.34039366, 0.42519319, 0.4913275 ,\n",
            "       0.45992309]), array([0.38029261, 0.37054503, 0.30201645, 0.3761392 , 0.44045233,\n",
            "       0.40632882]), array([0.32324033, 0.31407712, 0.26185388, 0.31867451, 0.37295431,\n",
            "       0.34330187]), array([0.27627825, 0.26602034, 0.22764283, 0.26771203, 0.31499408,\n",
            "       0.29277152]), array([0.24483634, 0.23009575, 0.20194412, 0.23170963, 0.27001114,\n",
            "       0.25189029]), array([0.2197692 , 0.20015862, 0.18138427, 0.19949038, 0.23609963,\n",
            "       0.22353568]), array([0.21061905, 0.18554739, 0.17351836, 0.18811849, 0.22536524,\n",
            "       0.21831133]), array([0.22277262, 0.18778266, 0.17911873, 0.19681205, 0.23316972,\n",
            "       0.22680959]), array([0.23318035, 0.19795767, 0.19035112, 0.20729406, 0.24114525,\n",
            "       0.24364761]), array([0.22030655, 0.19237202, 0.18172091, 0.19250738, 0.2293023 ,\n",
            "       0.22559786]), array([0.205569  , 0.18353527, 0.17056269, 0.18171347, 0.2116422 ,\n",
            "       0.19847516]), array([0.20146735, 0.17558701, 0.1590069 , 0.16881259, 0.19453636,\n",
            "       0.18959436]), array([0.20069345, 0.17241958, 0.15431446, 0.16689355, 0.18628004,\n",
            "       0.18881556]), array([0.19620176, 0.16065096, 0.15206722, 0.15907355, 0.18317489,\n",
            "       0.18577267]), array([0.18475243, 0.15178181, 0.15178302, 0.15997746, 0.18006215,\n",
            "       0.18408978]), array([0.17818252, 0.15472315, 0.15372489, 0.16167082, 0.18386823,\n",
            "       0.18517819]), array([0.17215841, 0.15184791, 0.15293297, 0.15602338, 0.18486397,\n",
            "       0.18776766]), array([0.17259442, 0.15142619, 0.15084767, 0.15676787, 0.18096115,\n",
            "       0.18827588]), array([0.17332124, 0.15115041, 0.14602736, 0.1568103 , 0.17610549,\n",
            "       0.1824273 ]), array([0.17457908, 0.15295737, 0.1425172 , 0.15492632, 0.17006107,\n",
            "       0.17518807]), array([0.17336039, 0.14726649, 0.13618674, 0.14810936, 0.16246361,\n",
            "       0.16968297]), array([0.16459627, 0.14219296, 0.12822675, 0.13960716, 0.1512356 ,\n",
            "       0.16028021]), array([0.15504925, 0.13803542, 0.12077207, 0.1349905 , 0.14345184,\n",
            "       0.15636328]), array([0.1512931 , 0.13430385, 0.12028783, 0.13616495, 0.1389869 ,\n",
            "       0.15717677]), array([0.15067267, 0.13162073, 0.11645973, 0.13802546, 0.13616052,\n",
            "       0.15569656]), array([0.14809151, 0.13234271, 0.11206593, 0.13639534, 0.12608704,\n",
            "       0.15372458]), array([0.14464091, 0.13372119, 0.10534338, 0.13677095, 0.11012097,\n",
            "       0.15129035]), array([0.13395939, 0.13158012, 0.09908009, 0.12979146, 0.10295817,\n",
            "       0.14750647]), array([0.12053916, 0.12328899, 0.09170958, 0.12538195, 0.09728834,\n",
            "       0.13959153]), array([0.11634715, 0.11687938, 0.08221846, 0.11796423, 0.08352702,\n",
            "       0.1288464 ]), array([0.11285403, 0.11299396, 0.07456678, 0.11640455, 0.08163409,\n",
            "       0.12738091]), array([0.11185257, 0.11345639, 0.07705158, 0.11633506, 0.07893236,\n",
            "       0.12451151]), array([0.11305064, 0.11885306, 0.08099263, 0.11724621, 0.08085105,\n",
            "       0.12686078]), array([0.1102192 , 0.12108797, 0.08160249, 0.11357876, 0.08398431,\n",
            "       0.12798684]), array([0.11044884, 0.11699679, 0.08097523, 0.11385756, 0.08587851,\n",
            "       0.12281124]), array([0.1097493 , 0.1124257 , 0.07216408, 0.10988965, 0.08002843,\n",
            "       0.11330543]), array([0.1079163 , 0.1070824 , 0.06415372, 0.10381369, 0.07481788,\n",
            "       0.09910165]), array([0.10474025, 0.10210178, 0.06205524, 0.10045526, 0.07532914,\n",
            "       0.0914656 ]), array([0.09325506, 0.09953263, 0.05807607, 0.09624144, 0.07327034,\n",
            "       0.08815343]), array([0.08869608, 0.09372572, 0.05930635, 0.09284161, 0.06953888,\n",
            "       0.08225002]), array([0.08503911, 0.09472683, 0.05974253, 0.09375249, 0.06924671,\n",
            "       0.07927762]), array([0.08354828, 0.09243131, 0.06159643, 0.09315923, 0.06884351,\n",
            "       0.07592072]), array([0.08337832, 0.09421327, 0.06237132, 0.09031032, 0.06910914,\n",
            "       0.07210943]), array([0.08786566, 0.09497337, 0.06717077, 0.0922085 , 0.07152149,\n",
            "       0.07273807]), array([0.08719246, 0.10065073, 0.07149204, 0.092437  , 0.07965936,\n",
            "       0.07667227]), array([0.08410907, 0.10285506, 0.07612559, 0.09433322, 0.07969165,\n",
            "       0.07711356]), array([0.08232771, 0.09998711, 0.07315191, 0.09396659, 0.07673483,\n",
            "       0.07441823]), array([0.07693787, 0.09615291, 0.06954026, 0.08901618, 0.07412048,\n",
            "       0.06536607]), array([0.07023118, 0.09066633, 0.06750194, 0.08354908, 0.07001141,\n",
            "       0.05999167]), array([0.06260272, 0.08597395, 0.06387337, 0.07860222, 0.06455133,\n",
            "       0.05536011]), array([0.05720017, 0.08319324, 0.06281649, 0.07594383, 0.06411523,\n",
            "       0.05246693]), array([0.05576225, 0.08192328, 0.05956879, 0.07406947, 0.0611952 ,\n",
            "       0.04765179]), array([0.05395631, 0.08085017, 0.05969665, 0.07393303, 0.06214133,\n",
            "       0.04631504]), array([0.05414698, 0.07869062, 0.05903015, 0.07306059, 0.06164635,\n",
            "       0.04468698]), array([0.05418796, 0.07613075, 0.0601615 , 0.0749209 , 0.06512747,\n",
            "       0.04427085]), array([0.05392464, 0.07552528, 0.06095384, 0.07765522, 0.06412335,\n",
            "       0.04508972]), array([0.05701235, 0.07609423, 0.06460489, 0.0785178 , 0.06813109,\n",
            "       0.04895198]), array([0.0583705 , 0.07790549, 0.06504679, 0.08188657, 0.06786309,\n",
            "       0.05056219])]\n",
            "[[5.12133896e-01 2.40272701e-01 5.35154223e-01 1.06997401e-01\n",
            "  3.21598679e-01 3.85381401e-01]\n",
            " [1.95917392e+00 1.33161867e+00 2.03798437e+00 1.62855029e-01\n",
            "  1.54243875e+00 1.75893426e+00]\n",
            " [1.18234897e+00 8.03828716e-01 1.21625125e+00 7.95464497e-03\n",
            "  9.71710503e-01 1.07477701e+00]\n",
            " [3.04111505e+00 2.34419203e+00 3.19741511e+00 5.50128341e-01\n",
            "  2.68739009e+00 2.91152740e+00]\n",
            " [1.01034629e+00 7.27466524e-01 1.11643898e+00 3.68213165e-04\n",
            "  8.95476103e-01 9.06750560e-01]\n",
            " [2.88219661e-01 2.65374690e-01 6.22577846e-01 1.13045350e-01\n",
            "  2.46823922e-01 2.10103244e-01]\n",
            " [5.72747588e-01 6.23294413e-01 7.13009238e-01 2.03880621e-03\n",
            "  7.12934315e-01 3.56750250e-01]\n",
            " [1.84966648e+00 1.62575662e+00 2.03324652e+00 3.73692334e-01\n",
            "  3.55768180e+00 1.73706830e+00]\n",
            " [1.93932295e+00 2.26678967e+00 2.66910148e+00 4.52037752e-01\n",
            "  1.84906542e+00 1.34376776e+00]\n",
            " [1.37028527e+00 1.14548206e+00 1.25053668e+00 9.57549661e-02\n",
            "  2.46643853e+00 9.20514107e-01]\n",
            " [1.33549583e+00 1.24844623e+00 1.06483817e+00 2.94984952e-02\n",
            "  8.08080018e-01 1.97565809e-01]\n",
            " [3.12449431e+00 2.54582405e+00 2.15064549e+00 5.04177272e-01\n",
            "  2.83978415e+00 9.03969288e-01]]\n"
          ]
        }
      ]
    },
    {
      "cell_type": "code",
      "source": [
        "# # save model\n",
        "# path = '/content/drive/My Drive/MLProject/model.pt'\n",
        "# torch.save(model.state_dict(),path)"
      ],
      "metadata": {
        "id": "QcsKYfDogHvz"
      },
      "execution_count": 20,
      "outputs": []
    },
    {
      "cell_type": "code",
      "source": [
        "# load model\n",
        "path = '/content/drive/My Drive/MLProject/model2.pt'\n",
        "model.load_state_dict(torch.load(path))"
      ],
      "metadata": {
        "colab": {
          "base_uri": "https://localhost:8080/"
        },
        "id": "pcvYjNJQgM4r",
        "outputId": "53291982-621f-40ef-c043-1993587232a2"
      },
      "execution_count": 100,
      "outputs": [
        {
          "output_type": "execute_result",
          "data": {
            "text/plain": [
              "<All keys matched successfully>"
            ]
          },
          "metadata": {},
          "execution_count": 100
        }
      ]
    },
    {
      "cell_type": "code",
      "source": [
        "from matplotlib import pyplot as plt\n",
        "val_loss_score = np.array(val_loss_score)\n",
        "plt.plot(val_loss_score[:,0],color='r',label='cohesion')\n",
        "plt.plot(val_loss_score[:,1],color='g',label='syntax')\n",
        "plt.plot(val_loss_score[:,2],color='b',label='vocabulary')\n",
        "plt.plot(val_loss_score[:,3],color='y',label='phraseology')\n",
        "plt.plot(val_loss_score[:,4],color='purple',label='grammar')\n",
        "plt.plot(val_loss_score[:,5],color='orange',label='convetions')\n",
        "plt.legend()\n",
        "plt.xlabel('validation step')\n",
        "plt.ylabel('mse')\n",
        "plt.show()"
      ],
      "metadata": {
        "colab": {
          "base_uri": "https://localhost:8080/",
          "height": 279
        },
        "id": "vaWkji1OgmL_",
        "outputId": "0582d8eb-4975-4c81-d5a3-73c3bbd541c4"
      },
      "execution_count": 101,
      "outputs": [
        {
          "output_type": "display_data",
          "data": {
            "text/plain": [
              "<Figure size 432x288 with 1 Axes>"
            ],
            "image/png": "[encoded data removed]"
          },
          "metadata": {
            "needs_background": "light"
          }
        }
      ]
    },
    {
      "cell_type": "code",
      "source": [
        "val_avg = np.mean(val_loss_score, axis=1)\n",
        "plt.plot(val_avg,label='average loss for six scores')\n",
        "plt.legend()\n",
        "plt.xlabel('validation step')\n",
        "plt.ylabel('mse')\n",
        "plt.show()"
      ],
      "metadata": {
        "colab": {
          "base_uri": "https://localhost:8080/",
          "height": 279
        },
        "id": "DGkWCn07Hzpw",
        "outputId": "0e971e2e-3081-4e67-b51f-ee73f83abfac"
      },
      "execution_count": 98,
      "outputs": [
        {
          "output_type": "display_data",
          "data": {
            "text/plain": [
              "<Figure size 432x288 with 1 Axes>"
            ],
            "image/png": "[encoded data removed]"
          },
          "metadata": {
            "needs_background": "light"
          }
        }
      ]
    },
    {
      "cell_type": "code",
      "source": [
        "train_loss = np.array(train_loss)\n",
        "plt.plot(train_loss,color='r',label='avg_mse')\n",
        "# plt.plot(train_loss[:,0],color='r',label='cohesion')\n",
        "# plt.plot(train_loss[:,1],color='g',label='syntax')\n",
        "# plt.plot(train_loss[:,2],color='b',label='vocabulary')\n",
        "# plt.plot(train_loss[:,3],color='y',label='phraseology')\n",
        "# plt.plot(train_loss[:,4],color='purple',label='grammar')\n",
        "# plt.plot(train_loss[:,5],color='orange',label='convetions')\n",
        "plt.legend()\n",
        "plt.xlabel('train step')\n",
        "plt.ylabel('avg_mse')\n",
        "plt.show()"
      ],
      "metadata": {
        "colab": {
          "base_uri": "https://localhost:8080/",
          "height": 279
        },
        "id": "nWUmfm3RkOvc",
        "outputId": "fd5eaa87-9825-4bb1-bbaa-a23e62772950"
      },
      "execution_count": 61,
      "outputs": [
        {
          "output_type": "display_data",
          "data": {
            "text/plain": [
              "<Figure size 432x288 with 1 Axes>"
            ],
            "image/png": "[encoded data removed]"
          },
          "metadata": {
            "needs_background": "light"
          }
        }
      ]
    },
    {
      "cell_type": "code",
      "source": [
        "# on test set\n",
        "\n",
        "test_X = df_test['full_text'].to_numpy()\n",
        "x = tokenizer.texts_to_sequences(test_X)\n",
        "x = pad_sequences(x, maxlen=max_words, truncating='post')\n",
        "\n",
        "x = torch.Tensor(x)\n",
        "x = TensorDataset(x)\n",
        "testloader = DataLoader(x, batch_size=1, shuffle=False, drop_last=True)\n",
        "\n",
        "results = []\n",
        "with torch.no_grad():\n",
        "  for sub in testloader:\n",
        "    sub = sub[0].to(device)\n",
        "    model.eval()\n",
        "    yhat = model(sub).tolist()[0]\n",
        "    results.append(yhat)\n",
        "\n",
        "lstm_submission = pd.DataFrame(results, columns=['Cohesion','Syntax','Vocabulary','Phraseology','Grammar','Convention'])\n",
        "lstm_submission.insert(0, 'text_id', df_test['text_id'])\n",
        "lstm_submission.head()"
      ],
      "metadata": {
        "colab": {
          "base_uri": "https://localhost:8080/",
          "height": 143
        },
        "id": "diPzh1jLhLQ7",
        "outputId": "c0610149-bda7-4106-8e20-5b163f5ea058"
      },
      "execution_count": 62,
      "outputs": [
        {
          "output_type": "execute_result",
          "data": {
            "text/plain": [
              "        text_id  Cohesion    Syntax  Vocabulary  Phraseology   Grammar  \\\n",
              "0  0000C359D63E  2.853042  3.096788    3.125971     3.161715  3.546305   \n",
              "1  000BAD50D026  2.957783  3.542270    3.631431     3.895051  3.494711   \n",
              "2  00367BB2546B  3.175283  3.866588    3.538208     3.538747  3.447996   \n",
              "\n",
              "   Convention  \n",
              "0    2.798627  \n",
              "1    3.712177  \n",
              "2    3.058721  "
            ],
            "text/html": [
              "\n",
              "  <div id=\"df-d7579e30-b3d4-400b-a0e1-471db5417cd2\">\n",
              "    <div class=\"colab-df-container\">\n",
              "      <div>\n",
              "<style scoped>\n",
              "    .dataframe tbody tr th:only-of-type {\n",
              "        vertical-align: middle;\n",
              "    }\n",
              "\n",
              "    .dataframe tbody tr th {\n",
              "        vertical-align: top;\n",
              "    }\n",
              "\n",
              "    .dataframe thead th {\n",
              "        text-align: right;\n",
              "    }\n",
              "</style>\n",
              "<table border=\"1\" class=\"dataframe\">\n",
              "  <thead>\n",
              "    <tr style=\"text-align: right;\">\n",
              "      <th></th>\n",
              "      <th>text_id</th>\n",
              "      <th>Cohesion</th>\n",
              "      <th>Syntax</th>\n",
              "      <th>Vocabulary</th>\n",
              "      <th>Phraseology</th>\n",
              "      <th>Grammar</th>\n",
              "      <th>Convention</th>\n",
              "    </tr>\n",
              "  </thead>\n",
              "  <tbody>\n",
              "    <tr>\n",
              "      <th>0</th>\n",
              "      <td>0000C359D63E</td>\n",
              "      <td>2.853042</td>\n",
              "      <td>3.096788</td>\n",
              "      <td>3.125971</td>\n",
              "      <td>3.161715</td>\n",
              "      <td>3.546305</td>\n",
              "      <td>2.798627</td>\n",
              "    </tr>\n",
              "    <tr>\n",
              "      <th>1</th>\n",
              "      <td>000BAD50D026</td>\n",
              "      <td>2.957783</td>\n",
              "      <td>3.542270</td>\n",
              "      <td>3.631431</td>\n",
              "      <td>3.895051</td>\n",
              "      <td>3.494711</td>\n",
              "      <td>3.712177</td>\n",
              "    </tr>\n",
              "    <tr>\n",
              "      <th>2</th>\n",
              "      <td>00367BB2546B</td>\n",
              "      <td>3.175283</td>\n",
              "      <td>3.866588</td>\n",
              "      <td>3.538208</td>\n",
              "      <td>3.538747</td>\n",
              "      <td>3.447996</td>\n",
              "      <td>3.058721</td>\n",
              "    </tr>\n",
              "  </tbody>\n",
              "</table>\n",
              "</div>\n",
              "      <button class=\"colab-df-convert\" onclick=\"convertToInteractive('df-d7579e30-b3d4-400b-a0e1-471db5417cd2')\"\n",
              "              title=\"Convert this dataframe to an interactive table.\"\n",
              "              style=\"display:none;\">\n",
              "        \n",
              "  <svg xmlns=\"http://www.w3.org/2000/svg\" height=\"24px\"viewBox=\"0 0 24 24\"\n",
              "       width=\"24px\">\n",
              "    <path d=\"M0 0h24v24H0V0z\" fill=\"none\"/>\n",
              "    <path d=\"M18.56 5.44l.94 2.06.94-2.06 2.06-.94-2.06-.94-.94-2.06-.94 2.06-2.06.94zm-11 1L8.5 8.5l.94-2.06 2.06-.94-2.06-.94L8.5 2.5l-.94 2.06-2.06.94zm10 10l.94 2.06.94-2.06 2.06-.94-2.06-.94-.94-2.06-.94 2.06-2.06.94z\"/><path d=\"M17.41 7.96l-1.37-1.37c-.4-.4-.92-.59-1.43-.59-.52 0-1.04.2-1.43.59L10.3 9.45l-7.72 7.72c-.78.78-.78 2.05 0 2.83L4 21.41c.39.39.9.59 1.41.59.51 0 1.02-.2 1.41-.59l7.78-7.78 2.81-2.81c.8-.78.8-2.07 0-2.86zM5.41 20L4 18.59l7.72-7.72 1.47 1.35L5.41 20z\"/>\n",
              "  </svg>\n",
              "      </button>\n",
              "      \n",
              "  <style>\n",
              "    .colab-df-container {\n",
              "      display:flex;\n",
              "      flex-wrap:wrap;\n",
              "      gap: 12px;\n",
              "    }\n",
              "\n",
              "    .colab-df-convert {\n",
              "      background-color: #E8F0FE;\n",
              "      border: none;\n",
              "      border-radius: 50%;\n",
              "      cursor: pointer;\n",
              "      display: none;\n",
              "      fill: #1967D2;\n",
              "      height: 32px;\n",
              "      padding: 0 0 0 0;\n",
              "      width: 32px;\n",
              "    }\n",
              "\n",
              "    .colab-df-convert:hover {\n",
              "      background-color: #E2EBFA;\n",
              "      box-shadow: 0px 1px 2px rgba(60, 64, 67, 0.3), 0px 1px 3px 1px rgba(60, 64, 67, 0.15);\n",
              "      fill: #174EA6;\n",
              "    }\n",
              "\n",
              "    [theme=dark] .colab-df-convert {\n",
              "      background-color: #3B4455;\n",
              "      fill: #D2E3FC;\n",
              "    }\n",
              "\n",
              "    [theme=dark] .colab-df-convert:hover {\n",
              "      background-color: #434B5C;\n",
              "      box-shadow: 0px 1px 3px 1px rgba(0, 0, 0, 0.15);\n",
              "      filter: drop-shadow(0px 1px 2px rgba(0, 0, 0, 0.3));\n",
              "      fill: #FFFFFF;\n",
              "    }\n",
              "  </style>\n",
              "\n",
              "      <script>\n",
              "        const buttonEl =\n",
              "          document.querySelector('#df-d7579e30-b3d4-400b-a0e1-471db5417cd2 button.colab-df-convert');\n",
              "        buttonEl.style.display =\n",
              "          google.colab.kernel.accessAllowed ? 'block' : 'none';\n",
              "\n",
              "        async function convertToInteractive(key) {\n",
              "          const element = document.querySelector('#df-d7579e30-b3d4-400b-a0e1-471db5417cd2');\n",
              "          const dataTable =\n",
              "            await google.colab.kernel.invokeFunction('convertToInteractive',\n",
              "                                                     [key], {});\n",
              "          if (!dataTable) return;\n",
              "\n",
              "          const docLinkHtml = 'Like what you see? Visit the ' +\n",
              "            '<a target=\"_blank\" href=https://colab.research.google.com/notebooks/data_table.ipynb>data table notebook</a>'\n",
              "            + ' to learn more about interactive tables.';\n",
              "          element.innerHTML = '';\n",
              "          dataTable['output_type'] = 'display_data';\n",
              "          await google.colab.output.renderOutput(dataTable, element);\n",
              "          const docLink = document.createElement('div');\n",
              "          docLink.innerHTML = docLinkHtml;\n",
              "          element.appendChild(docLink);\n",
              "        }\n",
              "      </script>\n",
              "    </div>\n",
              "  </div>\n",
              "  "
            ]
          },
          "metadata": {},
          "execution_count": 62
        }
      ]
    },
    {
      "cell_type": "code",
      "source": [
        "test_loss = []\n",
        "# on test set in train set\n",
        "with torch.no_grad():\n",
        "      for x_val, y_val in test_loader:\n",
        "        x_val = x_val.to(device)\n",
        "        y_val = y_val.to(device)\n",
        "        model.eval()\n",
        "        yhat = model(x_val)\n",
        "        loss_test_list = ((yhat - y_val)**2).tolist()\n",
        "        test_loss.append(loss_test_list)\n",
        "test_avg_loss = np.mean(test_loss)\n",
        "print(test_loss)\n",
        "print(test_avg_loss)"
      ],
      "metadata": {
        "colab": {
          "base_uri": "https://localhost:8080/"
        },
        "id": "4Mz67ufZI1gF",
        "outputId": "76def01d-cc24-4a11-c653-e19d88399187"
      },
      "execution_count": 102,
      "outputs": [
        {
          "output_type": "stream",
          "name": "stdout",
          "text": [
            "[[[0.10156897455453873, 0.034519363194704056, 0.0003220847574993968, 0.019090818241238594, 0.11035275459289551, 0.010719433426856995]], [[0.5016090273857117, 0.34067416191101074, 0.09374619275331497, 0.45742368698120117, 1.769295573234558, 2.7717843055725098]], [[0.12529969215393066, 0.07029570639133453, 0.011835869401693344, 0.00018105395429302007, 0.2310546338558197, 0.003672451712191105]], [[0.3670596778392792, 0.001608323771506548, 0.5890682339668274, 0.00042570027289912105, 0.3843144178390503, 0.05368652194738388]], [[0.6914228796958923, 2.8725383281707764, 0.14791105687618256, 0.09186678379774094, 0.02306174859404564, 0.4352332353591919]], [[0.03778323158621788, 0.1066068783402443, 0.003791883820667863, 0.1555345356464386, 0.7569748759269714, 0.000918416422791779]], [[0.28253671526908875, 0.47529828548431396, 0.026559164747595787, 0.04244163632392883, 0.011665656231343746, 0.006980558857321739]], [[2.5333399772644043, 0.9816716909408569, 0.3435882329940796, 1.3178657293319702, 2.5815911293029785, 1.4165257215499878]], [[0.12749266624450684, 0.39747291803359985, 0.9761367440223694, 0.08037655055522919, 0.14296460151672363, 0.010748186148703098]], [[1.5185375213623047, 0.10860023647546768, 0.03269888460636139, 0.04434659332036972, 1.1271387338638306, 0.4485027492046356]], [[0.2826259434223175, 0.011936931870877743, 0.6669132113456726, 0.045197032392024994, 0.4516284465789795, 0.7891098260879517]], [[0.9396077394485474, 0.0004590616445057094, 0.1317746490240097, 0.19442316889762878, 0.7823428511619568, 1.1588859558105469]], [[2.348212242126465, 1.6046491861343384, 0.3462138772010803, 0.8729881048202515, 0.013759465888142586, 2.1534924507141113]], [[2.0992958545684814, 0.1475595235824585, 0.27430540323257446, 1.5385090112686157, 8.987943147076294e-05, 1.396934986114502]], [[0.028660498559474945, 0.44801366329193115, 0.6892157196998596, 0.5471978187561035, 0.8021396398544312, 0.054484736174345016]], [[0.14369970560073853, 0.046325795352458954, 0.00720973452553153, 0.0676136314868927, 0.0012422394938766956, 0.24376161396503448]], [[0.008687878958880901, 0.7449293732643127, 0.0005484115099534392, 0.5630369186401367, 0.22961196303367615, 0.0016688720788806677]], [[0.40713223814964294, 0.004633970558643341, 0.2073635309934616, 0.004162415396422148, 0.4943908154964447, 0.02061438374221325]], [[0.23017644882202148, 0.0015990815591067076, 0.2612839639186859, 0.27493810653686523, 0.028395768254995346, 0.06365747004747391]], [[0.39604684710502625, 1.3887828588485718, 0.6939476728439331, 0.29111582040786743, 2.1125431060791016, 0.06059945747256279]], [[0.008013997226953506, 0.15943904221057892, 0.09489842504262924, 0.07551416009664536, 1.2223891019821167, 0.47150301933288574]], [[1.9248937368392944, 1.756811261177063, 0.10633133351802826, 0.19172139465808868, 0.7636869549751282, 1.2712832689285278]], [[0.2105097621679306, 0.4586706757545471, 0.08587833493947983, 0.49906888604164124, 1.8940333127975464, 0.016088172793388367]], [[0.28215309977531433, 0.0014806586550548673, 0.37611156702041626, 0.009988825768232346, 0.0818990021944046, 0.012528248131275177]], [[1.1964575052261353, 1.0236577987670898, 0.4161999821662903, 0.8502597212791443, 1.3298513889312744, 0.6688717603683472]], [[0.43441760540008545, 0.2288234382867813, 0.14331963658332825, 0.18657676875591278, 0.21431584656238556, 0.009132775478065014]], [[0.0023998343385756016, 0.010357117280364037, 0.12300580739974976, 0.06777218729257584, 0.9293754696846008, 0.08741851150989532]], [[0.13088126480579376, 0.15964818000793457, 0.20782063901424408, 0.26972496509552, 0.14932502806186676, 0.0171681959182024]], [[0.18108122050762177, 0.35081979632377625, 0.047036971896886826, 0.3638473153114319, 0.5361875891685486, 0.09847229719161987]], [[0.3842567801475525, 0.6171706318855286, 0.339799702167511, 0.14754724502563477, 0.9559616446495056, 0.0004695313691627234]], [[2.5800094604492188, 0.013229114934802055, 0.8053929209709167, 2.095733165740967, 2.3610711097717285, 0.5669311285018921]], [[0.1650894284248352, 0.9797530770301819, 0.15444572269916534, 0.12592735886573792, 0.5036959052085876, 0.006362011656165123]], [[0.31911972165107727, 0.09084005653858185, 0.8348827362060547, 0.8038902878761292, 0.007299654185771942, 0.0134429344907403]], [[1.0880389213562012, 1.3802131414413452, 0.8592265248298645, 1.2517585754394531, 0.1287337988615036, 1.040280818939209]], [[0.16317230463027954, 0.6678099036216736, 1.0597401857376099, 0.7602475881576538, 0.1191578134894371, 1.204295039176941]], [[0.41947925090789795, 0.5570729374885559, 0.6082969307899475, 0.3657406270503998, 0.022039636969566345, 1.1801899671554565]], [[0.12479029595851898, 0.5247160196304321, 0.0804806798696518, 0.9845249652862549, 1.5277127027511597, 0.004927733913064003]], [[0.0028262340929359198, 0.24564841389656067, 0.5439438223838806, 0.0014969599433243275, 0.48612117767333984, 0.04426027834415436]], [[1.5596760511398315, 1.3862541913986206, 3.667867660522461, 1.8801765441894531, 0.3176036477088928, 2.2737603187561035]], [[0.05316904932260513, 0.016184361651539803, 0.661644458770752, 0.9221490025520325, 0.3865320086479187, 0.7793292999267578]], [[0.11861985176801682, 0.012468382716178894, 0.12877434492111206, 0.038627173751592636, 0.017373673617839813, 0.0028493492864072323]], [[0.17389699816703796, 0.6696956753730774, 0.5257216691970825, 0.57953280210495, 1.324652910232544, 1.3130120038986206]], [[0.040914323180913925, 0.31788426637649536, 0.028600873425602913, 0.0004332400276325643, 0.12470895051956177, 0.12780340015888214]], [[0.1249537467956543, 0.025737006217241287, 0.227441668510437, 0.5661318302154541, 0.004672221839427948, 0.1064506247639656]], [[0.387746661901474, 0.3473404347896576, 0.008453826420009136, 0.6170174479484558, 1.722692608833313, 0.1665392965078354]], [[0.5473763346672058, 0.43957990407943726, 0.06387456506490707, 0.061504073441028595, 0.016454577445983887, 0.11660143733024597]], [[0.2047649770975113, 0.08457385003566742, 0.11582005023956299, 0.06490959227085114, 0.013962182216346264, 0.9634642004966736]], [[3.1923999786376953, 1.2459875345230103, 2.3002054691314697, 1.4359232187271118, 1.3086488246917725, 0.20259274542331696]], [[0.09660498797893524, 0.061189204454422, 0.5028907656669617, 0.4985068142414093, 0.11128803342580795, 1.9582382440567017]], [[2.2572836875915527, 2.620549440383911, 2.4389102458953857, 2.7848994731903076, 1.8522433042526245, 0.12266671657562256]], [[0.37655413150787354, 0.1685337871313095, 0.8846039772033691, 0.7810367345809937, 0.14563177525997162, 0.9182175397872925]], [[0.14280399680137634, 0.17682769894599915, 0.14947892725467682, 0.038307514041662216, 0.06579677760601044, 0.19006553292274475]], [[0.32112833857536316, 0.6452447772026062, 0.004650052171200514, 0.21923866868019104, 0.5025479793548584, 0.4590485990047455]], [[1.5907323360443115, 1.1627041101455688, 1.792227029800415, 3.723590850830078, 5.744131565093994, 0.47414836287498474]], [[0.06713908910751343, 0.07111834734678268, 0.00011620533041423187, 0.03640252724289894, 0.10163281112909317, 0.9276028871536255]], [[0.3894665539264679, 0.5271408557891846, 1.3504360914230347, 0.6041921377182007, 0.0038124066777527332, 0.00021958586876280606]], [[0.02649548090994358, 0.12427202612161636, 0.04997016116976738, 0.1618887484073639, 0.0533917099237442, 1.1100108623504639]], [[1.3999196290969849, 2.643303632736206, 1.1529631614685059, 1.4482544660568237, 2.786548376083374, 0.0003402801521588117]], [[0.5046828985214233, 0.7378649711608887, 0.004876020830124617, 0.07938868552446365, 0.0010412422707304358, 0.6170563697814941]], [[0.030268127098679543, 0.5452725887298584, 0.38278648257255554, 0.007092595566064119, 0.6791148781776428, 0.074156254529953]], [[0.0012258740607649088, 0.05645821988582611, 0.6532225012779236, 0.11319001019001007, 0.00874628871679306, 1.7905160188674927]], [[0.20432676374912262, 0.4791278839111328, 0.4711357057094574, 0.5159916877746582, 0.10700161010026932, 0.15988947451114655]], [[2.956937074661255, 0.4756428599357605, 0.3348512649536133, 0.6981546878814697, 1.0310825109481812, 1.0894575119018555]], [[2.5285651683807373, 2.5871448516845703, 0.6671865582466125, 2.3876028060913086, 4.1776814460754395, 1.8766050338745117]], [[0.09386463463306427, 7.503412052756175e-05, 0.008906126022338867, 0.13200514018535614, 0.1276812106370926, 0.0409981831908226]], [[0.2606128752231598, 0.42189469933509827, 0.29994675517082214, 0.2459772676229477, 0.20082232356071472, 0.08107698708772659]], [[0.010346104390919209, 0.0003438695566728711, 0.19673754274845123, 0.002410287270322442, 0.012339280918240547, 0.014981713145971298]], [[0.7217481732368469, 0.13246707618236542, 0.1852695196866989, 0.0717848390340805, 0.319500207901001, 1.9406758546829224]], [[0.4013870358467102, 0.0017379262717440724, 8.96011624718085e-06, 0.02610095962882042, 0.23418143391609192, 0.027915621176362038]], [[0.0753275454044342, 0.08058690279722214, 0.1608809530735016, 0.033620137721300125, 1.711748719215393, 0.2848891317844391]], [[0.1215997040271759, 0.12516014277935028, 0.023969516158103943, 0.11941588670015335, 0.0411267913877964, 0.20391979813575745]], [[0.0217334795743227, 0.341383695602417, 0.0191010981798172, 0.03370053693652153, 0.10270291566848755, 0.5773470401763916]], [[0.15646640956401825, 0.4954166114330292, 0.05104920268058777, 0.6182646155357361, 0.9343767762184143, 0.00343456887640059]], [[1.2378466129302979, 0.9172573685646057, 0.1806577891111374, 0.9601150155067444, 3.059678554534912, 1.2276276350021362]], [[0.7441883087158203, 0.09930195659399033, 0.10451526194810867, 0.11001261323690414, 0.1376691609621048, 0.376205712556839]], [[1.9172694683074951, 4.716668128967285, 2.425537109375, 2.950277090072632, 1.7428920269012451, 2.05608868598938]], [[0.01823832467198372, 0.05877969041466713, 0.004119089804589748, 0.06852241605520248, 0.08927544951438904, 2.5632130927988328e-05]], [[1.827314853668213, 0.17019334435462952, 0.0642429068684578, 2.141564982593991e-05, 0.031041285023093224, 0.2972397804260254]], [[0.5454338192939758, 0.11932049691677094, 0.03016352280974388, 0.10519541800022125, 0.2840544283390045, 0.1397460699081421]], [[1.0119526386260986, 0.08149067312479019, 0.039930906146764755, 1.823531150817871, 0.9423085451126099, 0.05014833062887192]], [[1.3440126180648804, 2.345247983932495, 0.004020380321890116, 0.3014536499977112, 3.4192540645599365, 0.0022790604270994663]], [[0.0224459171295166, 0.16669870913028717, 0.07236359268426895, 0.012100763618946075, 0.018437335267663002, 0.00037337339017540216]], [[0.012128475122153759, 1.8033132553100586, 0.487556129693985, 0.6495106816291809, 1.4287275075912476, 0.1859567016363144]], [[0.23637662827968597, 0.6391491293907166, 0.7338661551475525, 0.7222656011581421, 3.581762939575128e-05, 0.6480807662010193]], [[1.9204968214035034, 0.9092291593551636, 0.5640284419059753, 1.2033015489578247, 0.5119209885597229, 0.23496825993061066]], [[0.060047492384910583, 0.09291352331638336, 0.14931029081344604, 0.01022303570061922, 0.14848634600639343, 0.41828274726867676]], [[0.02754781022667885, 0.43684664368629456, 0.22692778706550598, 0.06880642473697662, 6.889901123940945e-05, 0.5775862336158752]], [[0.048677459359169006, 0.03412660211324692, 0.0004067604895681143, 0.1587296426296234, 0.010256667621433735, 0.1425662487745285]], [[1.0508828163146973, 0.82581627368927, 0.011513043195009232, 1.0582298040390015, 0.7894953489303589, 0.028770552948117256]], [[0.3149065375328064, 0.014773495495319366, 0.5308746695518494, 0.16115303337574005, 0.0693574994802475, 0.007622966077178717]], [[0.11127101629972458, 0.6641737818717957, 0.035402730107307434, 0.07267717272043228, 1.3386414051055908, 1.6014198064804077]], [[0.04582028463482857, 0.6080775260925293, 0.5320760607719421, 1.47185218334198, 1.3273428678512573, 0.0860263779759407]], [[0.16480958461761475, 0.17470425367355347, 0.03343355655670166, 0.08676107227802277, 0.4089479148387909, 0.03382749855518341]], [[2.2980804443359375, 1.561202049255371, 2.6195755004882812, 1.8175143003463745, 0.9629625678062439, 0.03732572868466377]], [[1.7168183326721191, 0.6632787585258484, 0.09208370745182037, 0.1243453249335289, 0.2585088312625885, 0.0077207391150295734]], [[3.25896954536438, 2.5118744373321533, 2.589876890182495, 1.125866413116455, 0.49822843074798584, 0.8314647078514099]], [[0.3389424681663513, 0.43577226996421814, 1.6138120889663696, 2.944225788116455, 1.8162956237792969, 2.0400447845458984]], [[0.47394055128097534, 1.0518689155578613, 0.04585213586688042, 0.7515974044799805, 0.23278838396072388, 0.04912180081009865]], [[0.9689640998840332, 0.020242948085069656, 0.06314922124147415, 0.7737314701080322, 0.00017812728765420616, 0.5032303333282471]], [[1.9556894302368164, 0.5060221552848816, 0.3628482222557068, 1.4920865297317505, 0.12277980893850327, 0.019279181957244873]], [[1.0001344680786133, 0.001409391756169498, 0.20989872515201569, 0.0038240747526288033, 0.2503773272037506, 0.0013290999922901392]], [[0.919707715511322, 0.10310229659080505, 0.05285242199897766, 0.07747361063957214, 1.2869664430618286, 1.0988630056381226]], [[0.30098047852516174, 0.14079922437667847, 0.06526165455579758, 0.225718691945076, 0.16714678704738617, 0.08719857037067413]], [[0.001630274928174913, 0.11163348704576492, 0.0708560049533844, 0.0535481721162796, 1.1669771671295166, 0.7968072295188904]], [[0.33998486399650574, 0.0011204107431694865, 0.5377949476242065, 0.4701252281665802, 0.8698237538337708, 0.10895975679159164]], [[1.226872205734253, 1.337627649307251, 0.05193711817264557, 1.1103554964065552, 2.041738748550415, 1.301114559173584]], [[0.1199956163764, 0.9351480603218079, 0.34968674182891846, 0.0016636750660836697, 0.10359667241573334, 0.34805965423583984]], [[2.2439515590667725, 1.347827434539795, 1.249117136001587, 1.5514070987701416, 0.9903194308280945, 0.23435291647911072]], [[5.802807331085205, 3.8673276901245117, 3.1366703510284424, 7.53685188293457, 5.733697891235352, 1.9737133979797363]], [[4.967613858752884e-05, 0.6593754291534424, 0.2260790318250656, 0.10192002356052399, 0.9411322474479675, 0.01790442503988743]], [[0.10417808592319489, 0.0828745886683464, 0.024121392518281937, 0.07520588487386703, 0.06262845546007156, 0.20003224909305573]], [[0.030867455527186394, 0.7360507249832153, 0.07847343385219574, 0.18861790001392365, 0.06513344496488571, 0.12524449825286865]], [[1.4589354991912842, 0.25497743487358093, 0.8323327898979187, 1.1550136804580688, 1.5657739639282227, 0.0006770802428945899]], [[0.20453394949436188, 0.37600716948509216, 1.193003535270691, 1.1340078115463257, 0.4187892973423004, 0.5384017825126648]], [[0.05677875131368637, 0.042030442506074905, 0.48124128580093384, 0.11870444566011429, 1.0091311931610107, 0.036356598138809204]], [[0.7529696822166443, 0.06983501464128494, 0.14428196847438812, 1.8779972791671753, 0.26445481181144714, 0.021462073549628258]], [[0.4504905939102173, 0.514045238494873, 0.5892903804779053, 0.4692314565181732, 0.09800256043672562, 0.8361637592315674]], [[0.7651740312576294, 0.1668081283569336, 0.020734230056405067, 0.015566523186862469, 0.2340683788061142, 0.1405089795589447]], [[0.9694030284881592, 0.03458087518811226, 0.3403249680995941, 1.4153393507003784, 0.24488376080989838, 0.6392676830291748]], [[0.869500458240509, 1.6212763786315918, 0.22451552748680115, 0.38889333605766296, 1.6022568941116333, 1.050640344619751]], [[0.5386810302734375, 0.14055348932743073, 0.053144533187150955, 0.15675361454486847, 0.46441683173179626, 0.23005293309688568]], [[0.36160728335380554, 2.521941900253296, 0.5096672773361206, 1.2877006530761719, 1.7517908811569214, 2.658468246459961]], [[0.06722894310951233, 0.33516258001327515, 0.003108156844973564, 0.017580945044755936, 0.31337541341781616, 0.007355411071330309]], [[0.06045316904783249, 0.4604686200618744, 0.01066997367888689, 0.04710473120212555, 0.2779928743839264, 0.017959851771593094]], [[0.2844553589820862, 0.377088338136673, 0.5033811926841736, 0.3552241921424866, 0.5406423211097717, 0.4130558669567108]], [[0.0005238580633886158, 0.04823032021522522, 0.00031983802909962833, 0.3493729829788208, 0.2119862586259842, 0.05181114003062248]], [[0.13435345888137817, 0.09848890453577042, 0.13590946793556213, 0.6535856127738953, 0.48903289437294006, 0.005562453996390104]], [[1.0889861583709717, 0.39700108766555786, 0.40731847286224365, 0.09055127203464508, 0.05243951454758644, 0.15900485217571259]], [[1.2726540565490723, 0.1976056545972824, 0.00017550862685311586, 0.06248879432678223, 0.22619490325450897, 0.015375485643744469]], [[0.4653876721858978, 0.6850962042808533, 0.032565630972385406, 0.3586673140525818, 0.5892753601074219, 0.8217683434486389]], [[0.048783671110868454, 0.3543437123298645, 0.005972389597445726, 0.39165744185447693, 0.6018933653831482, 0.0005929305916652083]], [[0.09691246598958969, 0.5634881854057312, 0.0709373876452446, 0.5077987313270569, 0.0022865331266075373, 0.24509073793888092]], [[0.0013978867791593075, 0.1507105678319931, 0.8060117959976196, 0.002780260518193245, 0.4970921277999878, 0.33626440167427063]], [[0.7439036965370178, 0.28986603021621704, 1.1794792413711548, 2.470510244369507, 1.373660922050476, 1.012687087059021]], [[0.7232620120048523, 0.008597800508141518, 0.0009400742128491402, 0.8711344003677368, 0.2977115511894226, 0.42065921425819397]], [[0.007584421429783106, 0.28167256712913513, 0.4710221290588379, 0.7789980173110962, 0.3049367666244507, 0.0470273531973362]], [[1.3827402591705322, 0.034501295536756516, 0.2015002816915512, 0.0036517910193651915, 0.2116728574037552, 0.014262686483561993]], [[2.0048861503601074, 5.844801489729434e-05, 0.1656905859708786, 0.26122885942459106, 0.04684718698263168, 0.32121777534484863]], [[0.25435876846313477, 0.16571970283985138, 0.33166584372520447, 0.22907806932926178, 0.3788214325904846, 0.03814036026597023]], [[1.4679313898086548, 1.6161826848983765, 0.07185384631156921, 0.17476126551628113, 1.4477506875991821, 0.0650893971323967]], [[0.05873946473002434, 0.05523402616381645, 1.1131629943847656, 0.4455963671207428, 0.1303921490907669, 1.0747069120407104]], [[0.9972119927406311, 0.5246932506561279, 0.30672043561935425, 0.09837400913238525, 2.0001325607299805, 0.029431214556097984]], [[1.6027023792266846, 0.12656083703041077, 0.03192268684506416, 0.5846959948539734, 0.37329280376434326, 0.31624507904052734]], [[0.041769251227378845, 0.010596562176942825, 0.06576718389987946, 0.40276578068733215, 0.10709942877292633, 1.1711176739481743e-06]], [[0.4699356257915497, 1.0500456094741821, 1.1365643739700317, 2.93717885017395, 2.0739126205444336, 1.0048797130584717]], [[0.8038334250450134, 1.2552672624588013, 0.20872677862644196, 0.6344866156578064, 0.6072579026222229, 0.882959246635437]], [[0.09906153380870819, 0.000926933076698333, 0.20695334672927856, 0.01981738954782486, 0.020786721259355545, 0.0027893949300050735]], [[1.3646550178527832, 1.0852936506271362, 0.3468342125415802, 1.4732941389083862, 2.587447166442871, 0.18216456472873688]], [[0.09264642000198364, 0.9794274568557739, 0.8688376545906067, 0.8073947429656982, 0.28047099709510803, 0.021627390757203102]], [[0.10700675845146179, 0.37327009439468384, 0.17020612955093384, 0.20842255651950836, 1.5690382719039917, 0.00021770330204162747]], [[0.22119416296482086, 0.04917127266526222, 0.07925143837928772, 0.022514192387461662, 0.24197706580162048, 0.0091243926435709]], [[0.2641353905200958, 0.5385841131210327, 0.03714832663536072, 0.4574040174484253, 0.3558007776737213, 0.1160900741815567]], [[0.06305328011512756, 1.2655949592590332, 0.043613702058792114, 0.5599283576011658, 0.016866696998476982, 0.05366376414895058]], [[0.2502613663673401, 0.18653474748134613, 0.9899863600730896, 0.2578192949295044, 0.3972228467464447, 0.04127148538827896]], [[0.23548491299152374, 0.024028612300753593, 0.20048783719539642, 0.314967542886734, 0.5130928754806519, 0.11473613977432251]], [[0.3298090398311615, 0.11645005643367767, 0.06913414597511292, 0.09078962355852127, 0.7508836388587952, 0.0020361803472042084]], [[0.5908247232437134, 0.7334258556365967, 0.6636826992034912, 0.38414445519447327, 0.16911253333091736, 0.4630410373210907]], [[0.4891866445541382, 0.011818756349384785, 0.07156692445278168, 0.021802987903356552, 0.04296140745282173, 0.06086444482207298]], [[0.3400229513645172, 0.7764744758605957, 0.49479857087135315, 0.0007656237576156855, 0.49682992696762085, 0.15692490339279175]], [[0.1445329338312149, 0.12119664996862411, 0.12370098382234573, 0.6191351413726807, 0.41518574953079224, 1.371668815612793]], [[0.21976612508296967, 0.2047906517982483, 0.10955364257097244, 0.027599753811955452, 0.04241923987865448, 0.3604351878166199]], [[0.15290693938732147, 0.6586771011352539, 0.3483143150806427, 0.04714841768145561, 0.002447747625410557, 0.005693521350622177]], [[0.16135065257549286, 0.11943252384662628, 0.02618630789220333, 0.0047387853264808655, 0.0070566595532000065, 0.0296771377325058]], [[1.1867228746414185, 0.2975575625896454, 0.29306459426879883, 1.1561177968978882, 1.1716203689575195, 0.16966989636421204]], [[1.2526321411132812, 1.2787059545516968, 0.6292940974235535, 0.03000902198255062, 0.10186172276735306, 0.1353912055492401]], [[0.9632119536399841, 1.1146420240402222, 0.12947584688663483, 0.4522237181663513, 0.6587676405906677, 1.0090210437774658]], [[2.4242494106292725, 1.05354905128479, 1.2705349922180176, 0.4728585481643677, 0.7494649887084961, 0.00677618570625782]], [[0.00020885973935946822, 0.006712629459798336, 0.28311362862586975, 0.001072789658792317, 0.020262423902750015, 0.6551894545555115]], [[1.1421244144439697, 1.0035078525543213, 1.0318447351455688, 2.720505475997925, 2.492302894592285, 0.012350830249488354]], [[0.01136179082095623, 0.22192159295082092, 0.27305909991264343, 0.08436984568834305, 0.17764614522457123, 0.3366912007331848]], [[0.001074227038770914, 0.0023763692006468773, 0.29982298612594604, 0.2623203992843628, 1.3649330139160156, 0.5221917629241943]], [[0.5934666395187378, 0.01647966541349888, 0.08723293244838715, 0.009950165636837482, 0.03855607658624649, 0.1903868466615677]], [[1.111385703086853, 1.8729233741760254, 1.7545392513275146, 2.0954957008361816, 1.1555651426315308, 0.5479317307472229]], [[0.6332998871803284, 1.3351867198944092, 0.009975677356123924, 1.5527247190475464, 0.2625424265861511, 0.2229941487312317]], [[0.013225330971181393, 0.22893202304840088, 0.00043082170304842293, 0.16250768303871155, 0.026652265340089798, 0.458425909280777]], [[0.731245219707489, 1.151769995689392, 0.13443788886070251, 1.14712393283844, 0.8373091220855713, 0.1157168596982956]], [[0.018868975341320038, 0.06065980717539787, 4.452068606042303e-05, 0.1544809639453888, 0.22802215814590454, 0.006700601894408464]], [[0.0061485255137085915, 0.17853215336799622, 0.06391723453998566, 0.33639630675315857, 0.4840484857559204, 0.2310207039117813]], [[0.32584673166275024, 0.0320243239402771, 0.05973207205533981, 0.13763414323329926, 0.7622886896133423, 0.20696353912353516]], [[0.528637170791626, 0.7845113277435303, 0.10656220465898514, 1.7344197034835815, 2.72082781791687, 1.0238951444625854]], [[0.4024021029472351, 0.001750512165017426, 0.31686076521873474, 0.02659694477915764, 1.135899543762207, 0.05941329523921013]], [[0.03418644145131111, 0.0036056030075997114, 0.007216861937195063, 0.0006532964180223644, 0.02362394519150257, 0.011787000112235546]], [[0.13128404319286346, 0.07829481363296509, 0.33134543895721436, 0.0011028749868273735, 0.09263713657855988, 0.008430825546383858]], [[0.8563537001609802, 0.11188152432441711, 0.0010947032133117318, 0.24729984998703003, 0.11509191244840622, 0.8757695555686951]], [[0.31899070739746094, 0.1092933788895607, 0.2608829140663147, 0.09255341440439224, 0.0038196234963834286, 0.7209641337394714]], [[0.21213535964488983, 3.342808246612549, 0.023276079446077347, 1.982380747795105, 0.9899663925170898, 0.31103426218032837]], [[0.00469114538282156, 0.036763694137334824, 0.07483770698308945, 0.009380276314914227, 0.11516229808330536, 1.945061206817627]], [[3.233940362930298, 0.48822492361068726, 0.4498283565044403, 0.9083691239356995, 2.045560359954834, 0.5219801664352417]], [[0.3776979148387909, 0.034627534449100494, 0.4324887692928314, 0.027608230710029602, 0.003076496534049511, 0.695518434047699]], [[1.5094902515411377, 1.2196818590164185, 0.3692101836204529, 1.424789547920227, 1.8096632957458496, 0.00038684363244101405]], [[0.9362024664878845, 0.4304594397544861, 0.0010700582060962915, 0.5601221323013306, 0.7154980897903442, 0.3815828561782837]], [[0.15393325686454773, 0.0008034451748244464, 0.4542011618614197, 0.21949103474617004, 0.1102772131562233, 0.07407719641923904]], [[1.0471124649047852, 0.04009630158543587, 0.0001572840556036681, 0.011479759588837624, 0.23263725638389587, 0.27043741941452026]], [[0.5028583407402039, 2.536839008331299, 2.4836924076080322, 5.312617778778076, 2.183431625366211, 2.4461216926574707]], [[0.20689824223518372, 1.7005624771118164, 0.0029753309208899736, 0.5058692097663879, 1.8196163177490234, 0.015273484401404858]], [[0.14672745764255524, 0.1141136884689331, 0.017279399558901787, 0.24048404395580292, 0.12828628718852997, 0.0007369107916019857]], [[0.061837293207645416, 0.04786282777786255, 0.6380414366722107, 0.061881765723228455, 0.13368383049964905, 0.17535120248794556]], [[0.32194840908050537, 0.27968087792396545, 0.0019250765908509493, 0.0378447063267231, 0.24357518553733826, 0.12845610082149506]], [[0.4395090639591217, 1.836401104927063, 2.37473201751709, 2.2517025470733643, 0.3860764801502228, 0.5614290833473206]], [[0.0089850053191185, 0.13136593997478485, 0.38748064637184143, 0.5955604910850525, 0.40249893069267273, 0.2758326828479767]], [[0.07619062066078186, 0.6146640777587891, 0.0822681337594986, 0.021466612815856934, 0.012208216823637486, 0.0019661954138427973]], [[0.1066313236951828, 0.37245044112205505, 0.5056056976318359, 0.14127197861671448, 0.6673244833946228, 0.35753533244132996]], [[0.8822559118270874, 1.023915410041809, 0.3274090886116028, 0.748510479927063, 1.3816486597061157, 0.3110148310661316]], [[0.7846068143844604, 1.6338187456130981, 0.15382812917232513, 0.03611243516206741, 0.8088534474372864, 0.20173579454421997]], [[1.2101314067840576, 0.7965288758277893, 1.5743694305419922, 3.309260606765747, 1.3367398977279663, 1.756571650505066]], [[0.5664641261100769, 0.5709421038627625, 1.361146330833435, 0.27421098947525024, 0.3338865041732788, 0.3640305697917938]], [[0.004115387797355652, 0.05166449770331383, 0.3184073865413666, 0.04645705223083496, 3.0595401767641306e-09, 0.019230088219046593]], [[0.7114872336387634, 0.000707097293343395, 0.11510340124368668, 0.19509530067443848, 0.025936897844076157, 0.3449051082134247]], [[0.3748890161514282, 0.051694851368665695, 0.40471458435058594, 0.0006400672136805952, 0.20637759566307068, 0.01591866835951805]], [[1.8993558883666992, 0.22264684736728668, 0.7263322472572327, 0.801881730556488, 0.06235607713460922, 0.42050984501838684]], [[0.03829967603087425, 0.5616798996925354, 0.00017765030497685075, 0.30352652072906494, 1.03020441532135, 0.8559107780456543]], [[0.41666895151138306, 0.5268774032592773, 1.144944190979004, 0.09436272829771042, 0.3761422634124756, 0.3901611268520355]], [[0.19475297629833221, 1.4181265830993652, 0.14294584095478058, 1.4236326217651367, 1.8146913051605225, 1.29989755153656]], [[0.45736274123191833, 0.011125367134809494, 0.05699016898870468, 1.6013153791427612, 0.1891106814146042, 0.030506020411849022]], [[0.019676607102155685, 0.6365519165992737, 0.06173500418663025, 0.5130638480186462, 0.520669162273407, 0.024083193391561508]], [[0.16575193405151367, 0.19957292079925537, 0.7361522316932678, 0.18918989598751068, 0.0444401279091835, 0.6292222738265991]], [[0.2629662752151489, 1.9524120092391968, 0.9716818332672119, 1.3009965419769287, 0.6930462718009949, 0.005938130896538496]], [[0.1623629778623581, 0.8823123574256897, 0.3167024254798889, 0.6682323813438416, 1.0202140808105469, 0.002437802031636238]], [[0.01804058626294136, 0.4977405071258545, 0.8428705930709839, 0.35564863681793213, 0.015540356747806072, 0.032391440123319626]], [[0.5128056406974792, 3.345364809036255, 3.410433769226074, 2.4234535694122314, 4.025536060333252, 1.9066455364227295]], [[0.028058972209692, 0.023130664601922035, 0.03428393229842186, 0.1768248975276947, 0.10167781263589859, 0.0006812929641455412]], [[2.7580673694610596, 0.5430445671081543, 0.7297234535217285, 1.1617356538772583, 1.1417341232299805, 0.8509400486946106]], [[0.4443158209323883, 1.0298686027526855, 0.2877626419067383, 0.602067232131958, 2.3069570064544678, 0.30512139201164246]], [[0.48724687099456787, 0.015903029590845108, 0.11500700563192368, 0.45490649342536926, 0.020878877490758896, 0.3452658951282501]], [[0.06699621677398682, 0.20653055608272552, 0.05534828081727028, 0.8066819310188293, 0.03131306543946266, 0.09744908660650253]], [[0.7930570244789124, 0.590241014957428, 0.054660625755786896, 0.05517621710896492, 1.2408682107925415, 0.004621741361916065]], [[1.186630368232727, 0.6280487179756165, 0.7088468074798584, 0.02627396211028099, 2.95930552482605, 1.4963093996047974]], [[1.9600356817245483, 0.43067657947540283, 0.8376638889312744, 1.5472060441970825, 0.16360057890415192, 1.3064552545547485]], [[0.32130101323127747, 0.044695619493722916, 0.30038589239120483, 0.002433354500681162, 0.16920079290866852, 1.2824070453643799]], [[0.10671542584896088, 0.3455111086368561, 0.35354629158973694, 0.31714507937431335, 0.2317693829536438, 0.06773991137742996]], [[2.5367517471313477, 2.265336751937866, 0.3320907950401306, 0.9647442698478699, 3.0696029663085938, 2.289184093475342]], [[4.506615368882194e-06, 0.6846305727958679, 0.10487228631973267, 0.07446249574422836, 0.06474751234054565, 0.39555636048316956]], [[0.012329907156527042, 0.0553412139415741, 0.02380451001226902, 0.6603155136108398, 0.2027030885219574, 0.06333748996257782]], [[0.688633918762207, 0.07872221618890762, 0.3750723600387573, 0.001689505996182561, 0.0027708399575203657, 1.166483759880066]], [[2.143587112426758, 1.7319751977920532, 1.2824556827545166, 2.7232635021209717, 4.3833537101745605, 2.403795003890991]], [[1.3421050310134888, 2.52998423576355, 1.4874409437179565, 1.4381439685821533, 3.2287306785583496, 2.0002598762512207]], [[1.5540517568588257, 1.993920922279358, 0.07928862422704697, 0.1844547688961029, 2.1738905906677246, 0.9438486695289612]], [[0.9820326566696167, 0.1267963945865631, 1.337846040725708, 0.871912956237793, 0.44579121470451355, 3.329226016998291]], [[1.4139611721038818, 1.2051423788070679, 1.123459815979004, 0.46751004457473755, 2.938744068145752, 0.26997268199920654]], [[0.29738539457321167, 0.1683979481458664, 0.10902807861566544, 0.033127181231975555, 0.2803970277309418, 0.8572510480880737]], [[0.43237149715423584, 0.036325603723526, 0.14463646709918976, 0.03864198178052902, 0.4412016272544861, 0.00017035435303114355]], [[0.021363617852330208, 0.6441658735275269, 0.18124845623970032, 0.00386093370616436, 1.0969048738479614, 0.006974663585424423]], [[0.15537133812904358, 0.20872503519058228, 0.2038915902376175, 0.16434648633003235, 0.02627674490213394, 2.369724750518799]], [[0.027585811913013458, 0.03266587108373642, 0.5530557036399841, 0.5850869417190552, 0.7666149735450745, 0.05956018343567848]], [[0.372945636510849, 0.05566272512078285, 0.26247769594192505, 0.8479973077774048, 0.05447026714682579, 0.9431321620941162]], [[0.9831008911132812, 0.016029618680477142, 0.00026578985853120685, 0.02654331363737583, 0.7246252298355103, 0.23407483100891113]], [[0.4196423292160034, 0.03358316421508789, 0.03559507802128792, 0.026267237961292267, 0.00022683075803797692, 0.5545378923416138]], [[0.035802293568849564, 0.00656089885160327, 0.6293519735336304, 0.015220493078231812, 0.06445106863975525, 0.006371980533003807]], [[2.777627944946289, 1.6529284715652466, 1.4759553670883179, 0.4274289011955261, 2.689152956008911, 0.31918007135391235]], [[0.314144104719162, 0.19103217124938965, 0.05366552993655205, 0.0047070966102182865, 0.4672534763813019, 0.5547165274620056]], [[0.7426757216453552, 0.027954673394560814, 0.13173189759254456, 0.010177861899137497, 0.8692034482955933, 0.009801561944186687]], [[1.8155977725982666, 2.319737434387207, 0.5744044780731201, 2.2975101470947266, 2.616290330886841, 2.482860803604126]], [[2.040860652923584, 3.1606154441833496, 3.6066434383392334, 3.4345781803131104, 2.3561601638793945, 1.605305790901184]], [[0.2627469599246979, 0.6413323283195496, 0.012978140264749527, 0.7900899052619934, 0.33081674575805664, 0.09420474618673325]], [[0.32599836587905884, 0.09023472666740417, 1.4801218509674072, 0.5938718914985657, 2.5539348125457764, 0.10566145181655884]], [[0.0025125755928456783, 0.09575821459293365, 0.7727876305580139, 0.11972718685865402, 0.04680261015892029, 2.3491744995117188]], [[0.9006718397140503, 0.16530223190784454, 1.106666922569275, 0.24609434604644775, 0.39610686898231506, 0.10642760246992111]], [[0.1809866726398468, 0.08280623704195023, 0.2407766729593277, 0.168826162815094, 0.0007045129896141589, 0.5295667052268982]], [[0.4194529950618744, 0.2789727449417114, 0.06337157636880875, 0.22516579926013947, 0.6064046621322632, 0.17641408741474152]], [[0.07433516532182693, 0.032844509929418564, 0.07347390800714493, 0.01387296337634325, 2.1744349002838135, 0.227237269282341]], [[0.6858407855033875, 0.001900800853036344, 0.06987307220697403, 0.007136636879295111, 0.06467776745557785, 0.4498043656349182]], [[0.11539672315120697, 0.7241300940513611, 0.05366365239024162, 0.05353426933288574, 0.3762098252773285, 1.050214171409607]], [[0.7575392127037048, 0.011227751150727272, 0.9765419960021973, 0.4104260504245758, 0.19982032477855682, 0.7276601195335388]], [[0.29986345767974854, 0.714956521987915, 0.7614346146583557, 0.12702946364879608, 0.3938508927822113, 0.3390207588672638]], [[0.5294126868247986, 0.24411463737487793, 0.10339540988206863, 0.3334031105041504, 0.048389311879873276, 1.6227283477783203]], [[2.356955051422119, 2.5280685424804688, 0.34713587164878845, 1.4903024435043335, 0.3952103555202484, 0.01485561951994896]], [[0.7497221827507019, 0.15466205775737762, 0.08227360993623734, 0.11925626546144485, 0.10122992098331451, 1.5506618022918701]], [[0.5644478797912598, 0.011350205168128014, 0.5555421710014343, 0.2728872001171112, 1.1911771297454834, 0.13285697996616364]], [[0.23490701615810394, 0.17608457803726196, 0.22086864709854126, 0.000427670223871246, 0.02602451853454113, 0.3039790689945221]], [[0.3342268764972687, 2.2340595722198486, 0.7784472107887268, 1.1894240379333496, 2.2144126892089844, 0.6704080104827881]], [[0.8307796120643616, 1.4202556610107422, 0.06348951160907745, 0.12134692817926407, 0.004563929047435522, 0.7628029584884644]], [[0.4841685891151428, 0.005501983687281609, 0.7195910215377808, 0.8751025199890137, 0.12941990792751312, 0.022260770201683044]], [[0.007990749552845955, 0.05722764506936073, 0.03324879705905914, 0.47678929567337036, 0.27236586809158325, 0.23732343316078186]], [[0.002124014077708125, 0.0002018085215240717, 0.3065171241760254, 0.007128944620490074, 0.003924331162124872, 0.0009838477708399296]], [[0.0037554444279521704, 0.0929580107331276, 0.3079787492752075, 0.37475529313087463, 0.03355398774147034, 0.29540878534317017]], [[0.03928947448730469, 0.002109118504449725, 0.09969407320022583, 0.19371923804283142, 0.4185424745082855, 0.1538688987493515]], [[0.1585797816514969, 0.03215903043746948, 0.009131955914199352, 0.0005178183782845736, 0.7598360180854797, 1.5566160678863525]], [[0.13658975064754486, 0.015586161985993385, 0.677370548248291, 2.0226492881774902, 0.053857799619436264, 0.11970887333154678]], [[0.08649708330631256, 0.14975577592849731, 0.0013077175244688988, 0.0005379982758313417, 0.09641848504543304, 0.07644617557525635]], [[0.0005336824688129127, 1.2134504318237305, 0.03227200731635094, 0.4188821613788605, 0.5776148438453674, 0.08535484224557877]], [[0.49080514907836914, 0.03872601315379143, 0.05347151309251785, 0.022065553814172745, 0.030311280861496925, 0.8386182188987732]], [[0.04173271358013153, 1.7194091924466193e-05, 0.056663256138563156, 0.3397935926914215, 0.04434539005160332, 0.07739359885454178]], [[0.06668074429035187, 0.1293451339006424, 0.1637522131204605, 0.15465867519378662, 0.23917564749717712, 0.5971637964248657]], [[0.828786313533783, 0.2102571427822113, 1.7309913635253906, 0.4570786654949188, 0.006597565021365881, 0.59490966796875]], [[0.031507860869169235, 0.03524750471115112, 0.10640489310026169, 0.07391738891601562, 0.5318343639373779, 1.881987452507019]], [[0.7187818288803101, 0.036676887422800064, 5.4267638915916905e-05, 0.15681762993335724, 1.0213428735733032, 2.3739047050476074]], [[0.047707099467515945, 1.0275431871414185, 1.0416591167449951, 1.279435634613037, 3.274825096130371, 0.3465427756309509]], [[0.04636162146925926, 0.1568385809659958, 0.016695715487003326, 0.09812679886817932, 0.1391657441854477, 0.045710522681474686]], [[0.7741446495056152, 0.24130551517009735, 0.058688048273324966, 0.6417677402496338, 0.4942610561847687, 1.6931864023208618]], [[0.3817664086818695, 0.002390662906691432, 0.12296734750270844, 0.19483232498168945, 0.6430201530456543, 1.9559348821640015]], [[0.14097873866558075, 0.03649957478046417, 0.04939272254705429, 0.15496619045734406, 0.6501299738883972, 0.12975962460041046]], [[0.03425233066082001, 0.49507299065589905, 0.0035685906186699867, 0.007735914085060358, 0.5030497312545776, 0.07003173232078552]], [[0.0716819018125534, 0.019630616530776024, 0.1991003006696701, 0.6151034235954285, 0.972404420375824, 0.008685167878866196]], [[0.2938726246356964, 0.09879651665687561, 1.4884978532791138, 1.257655382156372, 0.018972082063555717, 0.38090774416923523]], [[0.07464230060577393, 0.6406329274177551, 0.021979860961437225, 0.07401789724826813, 0.38743317127227783, 0.5115771293640137]], [[0.16145314276218414, 0.07668036967515945, 0.28631284832954407, 1.3157579898834229, 2.509505033493042, 0.21471072733402252]], [[0.0984998270869255, 0.031581033021211624, 0.5665434002876282, 0.39185142517089844, 0.010176226496696472, 1.3094911575317383]], [[0.0052881366573274136, 0.02469680644571781, 0.4378213584423065, 0.26196929812431335, 0.0054277474991977215, 0.026111898943781853]], [[1.473374605178833, 0.8858740925788879, 0.1392998993396759, 0.242539644241333, 0.2028299868106842, 0.5874465703964233]], [[0.1547366976737976, 0.1849486529827118, 0.17167212069034576, 0.776809811592102, 0.26253804564476013, 0.32389965653419495]], [[0.26935312151908875, 0.6728398203849792, 0.1995788961648941, 0.1526588648557663, 0.4756244421005249, 0.05865085870027542]], [[1.0217511653900146, 0.24918241798877716, 0.6797142624855042, 2.7777867317199707, 0.6225353479385376, 1.2409781217575073]], [[0.044690072536468506, 0.019027555361390114, 0.0012930843513458967, 0.39874258637428284, 1.0176914930343628, 0.5028887391090393]], [[1.522160530090332, 0.7800838351249695, 0.24535591900348663, 1.103839635848999, 1.9496465921401978, 0.03334442153573036]], [[0.5373809933662415, 0.2336685210466385, 0.008979536592960358, 1.3229674100875854, 0.0013294650707393885, 1.0133230686187744]], [[0.26558130979537964, 0.017283160239458084, 0.005540497601032257, 0.006489255465567112, 0.09022011607885361, 0.5803342461585999]], [[2.4169347286224365, 1.7870523929595947, 0.8022152185440063, 0.17248746752738953, 0.6165474653244019, 0.1929679960012436]], [[1.1032490730285645, 1.8776875734329224, 0.9888575077056885, 0.8440455794334412, 2.4713706970214844, 1.879908561706543]], [[0.35513636469841003, 0.006793192587792873, 0.10765255987644196, 0.28467434644699097, 0.8475204706192017, 0.3085257112979889]], [[0.04789486154913902, 0.003306730417534709, 0.019473262131214142, 0.9564409255981445, 0.5721516013145447, 0.0018647585529834032]], [[0.0011023683473467827, 0.8867485523223877, 0.38972193002700806, 0.34020259976387024, 0.03827616199851036, 0.058017320930957794]], [[0.039236750453710556, 0.3379521369934082, 0.12955941259860992, 1.1856597661972046, 0.11215746402740479, 0.07937202602624893]], [[0.017720632255077362, 0.004902961663901806, 0.382716566324234, 0.21957191824913025, 0.028179151937365532, 0.04057081416249275]], [[0.14700870215892792, 0.6393344402313232, 0.6654288172721863, 0.24470822513103485, 0.2922963798046112, 0.26542210578918457]], [[0.05110416188836098, 0.4452768564224243, 1.028806209564209, 0.8537139296531677, 0.1543246954679489, 0.0015405918238684535]], [[0.5178024768829346, 1.3153406381607056, 0.5724766254425049, 0.6975476145744324, 2.523008108139038, 0.1493709236383438]], [[0.3884786069393158, 0.16231860220432281, 0.39169204235076904, 0.38670989871025085, 0.12808074057102203, 1.7338721752166748]], [[0.03542238101363182, 0.41859522461891174, 0.11439413577318192, 0.061480067670345306, 0.13696078956127167, 0.0014104301808401942]], [[0.14383584260940552, 0.00028459762688726187, 1.1061413288116455, 0.9668380618095398, 1.0376979112625122, 2.770542860031128]], [[0.9594371914863586, 0.974118173122406, 1.1301833391189575, 2.4019417762756348, 1.4899863004684448, 0.20786824822425842]], [[1.8999440670013428, 0.1452711522579193, 0.017377382144331932, 0.018641330301761627, 0.47377216815948486, 0.5301786661148071]], [[0.6705837249755859, 0.06366095691919327, 0.016159741207957268, 0.5122734308242798, 1.1626100540161133, 0.34983423352241516]], [[0.18732042610645294, 0.2152732014656067, 0.7791895270347595, 0.1949038952589035, 0.6487507820129395, 0.32296842336654663]], [[0.8173109292984009, 0.39248988032341003, 0.2746348977088928, 0.5247547030448914, 3.3719921112060547, 0.29017186164855957]], [[4.604469299316406, 3.682548761367798, 2.4007411003112793, 3.7679381370544434, 2.5314595699310303, 1.9320889711380005]], [[2.759614944458008, 1.2758173942565918, 0.7888540029525757, 0.35987430810928345, 0.7095001339912415, 1.4330990314483643]], [[0.3015410900115967, 0.26022428274154663, 0.028228720650076866, 0.1902250200510025, 0.6327558159828186, 0.38844889402389526]], [[1.3908638954162598, 1.0463050603866577, 0.3764461576938629, 1.6861822605133057, 2.3093419075012207, 0.33981359004974365]], [[2.6875627040863037, 2.388293981552124, 2.3910715579986572, 2.631795883178711, 0.6134097576141357, 0.18112607300281525]], [[1.4671365022659302, 0.3020917475223541, 0.6361129283905029, 1.2544755935668945, 0.08098401129245758, 0.25978150963783264]], [[0.2580893337726593, 0.0006745638092979789, 0.2923729419708252, 0.0002327287947991863, 0.0742228776216507, 0.021759849041700363]], [[0.6424834132194519, 0.002272645477205515, 1.9644409121610806e-07, 0.014671030454337597, 0.22179222106933594, 1.2588293552398682]], [[0.020813817158341408, 0.3246605098247528, 0.8651218414306641, 2.8616244792938232, 1.3724417686462402, 0.00019427975348662585]], [[0.8060635924339294, 0.45904988050460815, 0.014743315055966377, 0.4135914444923401, 0.610137403011322, 0.008039971813559532]], [[0.06205625832080841, 0.09748883545398712, 0.593166172504425, 0.5830956697463989, 0.05291986092925072, 1.9801362752914429]], [[0.19553552567958832, 0.24221380054950714, 0.002943373052403331, 0.8747617602348328, 0.2725336253643036, 2.1058437824249268]], [[0.9232441782951355, 0.024746738374233246, 0.01581379771232605, 0.23898959159851074, 0.1259874403476715, 0.11285705119371414]], [[1.1013401746749878, 0.7011580467224121, 0.5329926013946533, 2.086120843887329, 4.719182968139648, 0.12982214987277985]], [[3.8647916316986084, 0.6616215705871582, 1.5904496908187866, 1.3187313079833984, 0.8550820350646973, 1.7082780599594116]], [[0.9224205613136292, 0.4417678117752075, 0.22215977311134338, 0.012905126437544823, 0.8361855149269104, 0.08612584322690964]], [[0.42165377736091614, 0.7285336852073669, 1.2912710905075073, 0.2863307297229767, 0.09970085322856903, 0.8714900016784668]], [[0.1562957614660263, 0.0036170650273561478, 0.13333311676979065, 0.3476575016975403, 0.054626405239105225, 0.5761429667472839]], [[0.11081910878419876, 0.10136271268129349, 0.15007832646369934, 0.1402575969696045, 0.24736031889915466, 0.05429701879620552]], [[0.299185186624527, 0.6494457721710205, 0.12094992399215698, 0.12233026325702667, 0.23003074526786804, 0.08012367784976959]], [[0.3082219958305359, 0.7864096760749817, 0.13662588596343994, 0.12344636768102646, 3.0181562900543213, 2.1081390380859375]], [[0.9529717564582825, 0.6633657217025757, 1.0183418989181519, 0.7789912819862366, 0.28604450821876526, 0.28549009561538696]], [[0.00013465445954352617, 0.29467320442199707, 0.006082113832235336, 1.4817558526992798, 0.34049469232559204, 0.3061043620109558]], [[0.2596619427204132, 0.00028124506934545934, 0.04238811507821083, 0.002592798788100481, 0.04961881414055824, 0.014930803328752518]], [[0.8263324499130249, 1.3547018766403198, 0.31299328804016113, 1.8573294878005981, 0.25074729323387146, 0.6730119585990906]], [[0.0010141554521396756, 0.25132831931114197, 0.009979678317904472, 0.32159921526908875, 0.03599482402205467, 0.008309461176395416]], [[1.7331470251083374, 1.4549612998962402, 0.39798805117607117, 0.624443531036377, 0.003874485846608877, 0.23597966134548187]], [[2.3536057472229004, 2.1585476398468018, 5.214987277984619, 2.8079583644866943, 1.891926646232605, 3.16853666305542]], [[0.23364800214767456, 0.15854769945144653, 1.8657538890838623, 0.38916605710983276, 0.1586124449968338, 0.09467028826475143]], [[0.13506558537483215, 0.007249833084642887, 0.011251713149249554, 0.19318799674510956, 0.14436185359954834, 0.050193507224321365]], [[0.02657501958310604, 0.4455925524234772, 0.08600568026304245, 0.13941098749637604, 0.0011506506707519293, 0.3338228464126587]], [[0.052069343626499176, 0.19423292577266693, 0.24024535715579987, 0.11957363039255142, 0.02272036299109459, 0.9635583162307739]], [[1.2304589748382568, 1.163217306137085, 0.3525226414203644, 1.3221843242645264, 0.0821768045425415, 0.2721518874168396]], [[0.10535121709108353, 0.004676068667322397, 0.08802296966314316, 0.2508160471916199, 0.5900699496269226, 0.308790385723114]], [[0.3911556601524353, 0.9198888540267944, 0.0005206434288993478, 0.0970161035656929, 0.3779016137123108, 0.2661910951137543]], [[0.1355593502521515, 0.4574301242828369, 0.03692808002233505, 0.6101101636886597, 0.8768627047538757, 0.010646835900843143]], [[0.45362964272499084, 0.2528816759586334, 0.20385800302028656, 0.3671163022518158, 1.8531460762023926, 0.33408987522125244]], [[0.0035771129187196493, 0.3898252248764038, 0.3307725787162781, 0.6840001940727234, 0.014205795712769032, 0.25896748900413513]], [[1.2981709241867065, 0.7835605144500732, 0.8608123064041138, 0.18033264577388763, 0.3557589650154114, 0.6601961851119995]], [[0.09606581926345825, 0.019070729613304138, 0.17181874811649323, 0.5359753370285034, 0.14986927807331085, 0.17444147169589996]], [[0.011065997183322906, 0.06334157288074493, 0.08917061984539032, 0.25896337628364563, 0.04474825784564018, 0.07504460960626602]], [[0.12378938496112823, 1.035534143447876, 2.011378526687622, 2.796086072921753, 0.812467098236084, 0.14939819276332855]], [[0.5009989142417908, 0.7292672991752625, 0.11749166995286942, 9.717702596390154e-06, 0.004512981045991182, 0.2092161476612091]], [[0.05523402616381645, 1.2142553329467773, 0.027693547308444977, 0.002389776986092329, 1.508497953414917, 0.012680336833000183]], [[1.0056145191192627, 1.7115989923477173, 1.503839135169983, 2.0781571865081787, 1.4802186489105225, 0.8359862565994263]], [[0.6049440503120422, 0.18842390179634094, 0.34164562821388245, 0.0015681139193475246, 0.3132278025150299, 1.2668617963790894]], [[0.3325314223766327, 0.26031428575515747, 0.004722124896943569, 0.1193537712097168, 1.9020860195159912, 0.006853614468127489]], [[0.00058197439648211, 0.003304920857772231, 0.11939363926649094, 0.25718387961387634, 0.02292400784790516, 0.6718244552612305]], [[0.325007826089859, 0.21675850450992584, 0.5476660132408142, 0.024365955963730812, 0.03271621838212013, 0.00016299824346788228]], [[0.9641153812408447, 0.3072837293148041, 0.606442928314209, 0.0009632863220758736, 0.6229124069213867, 1.0032981634140015]], [[0.2188345193862915, 0.13917499780654907, 0.017670713365077972, 0.21188747882843018, 0.3686775267124176, 0.005015722010284662]], [[0.5089724063873291, 0.45386379957199097, 0.10925240069627762, 1.5212658643722534, 0.7056126594543457, 0.04945293441414833]], [[0.02978007309138775, 0.5451099276542664, 0.18550212681293488, 0.018338792026042938, 1.009387493133545, 1.9905779361724854]], [[0.14184266328811646, 0.24651581048965454, 0.24912528693675995, 0.17747534811496735, 0.11032123863697052, 1.9381318092346191]], [[0.08131027966737747, 0.46417057514190674, 0.6771491765975952, 0.7016875743865967, 0.1794387400150299, 1.646835880819708e-05]], [[0.08993332087993622, 0.6792712807655334, 0.0626269057393074, 0.6215128302574158, 1.4498909711837769, 0.05137951672077179]], [[0.2793120741844177, 0.17520327866077423, 0.038320209830999374, 0.5188371539115906, 0.05906292051076889, 0.003969115670770407]], [[0.16198506951332092, 1.3240129947662354, 0.0007861843332648277, 0.051283691078424454, 0.1117028072476387, 0.1477777510881424]], [[1.655683994293213, 1.1422324180603027, 0.3090350031852722, 1.608473777770996, 0.6042143702507019, 0.7785646319389343]], [[1.1185328960418701, 0.887850821018219, 1.1134321689605713, 1.1915004253387451, 0.4511876106262207, 0.004996895790100098]], [[0.3653217554092407, 0.002311018528416753, 0.5083653330802917, 1.3927935361862183, 0.08175768703222275, 0.13903895020484924]], [[0.01975313387811184, 0.29255035519599915, 0.19860103726387024, 0.29592475295066833, 2.0092766284942627, 0.3697893023490906]], [[0.7991772890090942, 0.08360400050878525, 0.037970785051584244, 0.10970836877822876, 0.11623553186655045, 0.11767970770597458]], [[1.5171023607254028, 0.185273215174675, 0.7682462334632874, 0.23664145171642303, 0.6690913438796997, 1.9185017347335815]], [[0.003946856129914522, 0.18440604209899902, 0.12883013486862183, 0.10754401236772537, 0.4714234471321106, 0.000115287046355661]], [[1.0644341707229614, 3.1541759967803955, 1.5981346368789673, 3.739122152328491, 1.2210360765457153, 1.2934919595718384]], [[0.05959905683994293, 0.3263140022754669, 0.31550031900405884, 0.47501295804977417, 0.7852996587753296, 0.26408565044403076]], [[0.5360000729560852, 0.24679787456989288, 0.04279128462076187, 2.2042524814605713, 2.6836884021759033, 0.9164866209030151]], [[0.48554152250289917, 0.2529517114162445, 0.5842629075050354, 0.06496646255254745, 0.7217959761619568, 1.8463716506958008]], [[1.7936967611312866, 1.0824759006500244, 0.3604852855205536, 0.7115970849990845, 0.05333101749420166, 2.0743424892425537]], [[2.87441349029541, 3.5397167205810547, 2.2271459102630615, 2.3065145015716553, 1.3892797231674194, 5.506349563598633]], [[0.003839098382741213, 0.007758577819913626, 0.003877810901030898, 1.3568450212478638, 0.5310341715812683, 0.8199599385261536]], [[0.07846515625715256, 0.6844388246536255, 0.21872678399085999, 0.12850122153759003, 0.2677304148674011, 0.015285803005099297]], [[1.0572431087493896, 0.0020253073889762163, 0.15547002851963043, 0.18316622078418732, 0.6407016515731812, 0.3680674731731415]], [[0.011949282139539719, 0.4094442129135132, 0.10314532369375229, 0.24410945177078247, 0.03176093474030495, 0.0016559044597670436]], [[0.7228670716285706, 0.0048721591010689735, 0.8382213115692139, 0.0016660098917782307, 0.49473151564598083, 0.9097725749015808]], [[4.780302047729492, 1.7892789840698242, 2.390307664871216, 2.121108293533325, 2.5202829837799072, 2.5797152519226074]], [[0.04151178523898125, 0.19392623007297516, 0.19142836332321167, 0.07432008534669876, 0.30441248416900635, 0.15070630609989166]], [[0.006598494481295347, 0.034973204135894775, 0.02990940399467945, 0.02037130855023861, 0.10325317084789276, 0.349555641412735]], [[1.174756407737732, 0.001963130896911025, 0.07032264024019241, 0.15162864327430725, 0.06365205347537994, 0.0968465656042099]], [[0.013559730723500252, 0.21410708129405975, 0.009941130876541138, 0.0012978727463632822, 0.8022395968437195, 0.08862212300300598]], [[0.706097424030304, 0.8851157426834106, 0.04208393394947052, 1.1421748399734497, 1.6147269010543823, 0.009778019040822983]], [[0.6092236638069153, 0.1377965807914734, 0.14114725589752197, 0.03543324023485184, 0.6200175285339355, 0.2156149297952652]], [[1.4638069868087769, 0.317726194858551, 0.043906066566705704, 0.6940366625785828, 1.1490455865859985, 0.08812754601240158]], [[0.9957501888275146, 0.2539888024330139, 0.2190953493118286, 1.1544889211654663, 0.2200823277235031, 0.11406005918979645]], [[1.7480894327163696, 1.323320746421814, 1.1922166347503662, 1.6045054197311401, 1.0997374057769775, 0.06154901906847954]], [[2.15334415435791, 1.8500595092773438, 2.3691067695617676, 2.1351242065429688, 1.1964919567108154, 1.8335660696029663]], [[0.03194262832403183, 0.0017491159960627556, 0.3428099751472473, 0.1213301494717598, 0.0022223934065550566, 0.5396558046340942]], [[0.48503395915031433, 0.2841591536998749, 0.2864059805870056, 0.10942836105823517, 0.42479774355888367, 0.3091118633747101]], [[0.6307080984115601, 2.3531746864318848, 0.9416176080703735, 1.3170912265777588, 0.5985165238380432, 0.6680753231048584]], [[0.001665231422521174, 0.4485940933227539, 0.11756016314029694, 0.037256576120853424, 0.04435623437166214, 0.02057989314198494]], [[0.026707487180829048, 0.1843065321445465, 0.01845339499413967, 0.2219705730676651, 0.4727490246295929, 0.455139696598053]], [[0.010641572065651417, 0.48460865020751953, 0.014023156836628914, 0.009367672726511955, 0.2894105017185211, 1.631424903869629]], [[2.8091330528259277, 2.2512362003326416, 0.22303716838359833, 1.2242180109024048, 1.8585851192474365, 1.1028825044631958]], [[0.0117062758654356, 0.1687033474445343, 0.039729539304971695, 0.18934796750545502, 0.041401881724596024, 0.1167796328663826]], [[0.13598613440990448, 0.5872437953948975, 0.38315919041633606, 0.6522393822669983, 0.19938316941261292, 0.19464629888534546]], [[0.05450577288866043, 0.00013628057786263525, 0.9569735527038574, 0.504188060760498, 0.0130083616822958, 0.3523595929145813]], [[1.1056222915649414, 0.00021838629618287086, 1.5699702501296997, 0.438180148601532, 0.02153121680021286, 0.09991566836833954]], [[1.6632394790649414, 1.0735939741134644, 0.23293058574199677, 1.276390552520752, 7.971451850607991e-05, 0.333111047744751]], [[0.10439705848693848, 0.5718309879302979, 0.20132222771644592, 0.16061043739318848, 0.015075242146849632, 0.2378203421831131]], [[0.004092568997293711, 0.29470890760421753, 0.06255544722080231, 0.4259917140007019, 0.039507824927568436, 0.04891551285982132]], [[0.7832207679748535, 0.04134387895464897, 0.021059509366750717, 0.03840015083551407, 0.18218450248241425, 0.021856319159269333]], [[0.010291708633303642, 0.07049636542797089, 0.003935570828616619, 0.01372380368411541, 0.2253221869468689, 0.44225698709487915]], [[0.27712416648864746, 0.0007750732474960387, 0.18840982019901276, 0.3489128649234772, 0.5549299716949463, 0.0348234623670578]], [[0.3911082446575165, 0.6796690821647644, 0.03788340091705322, 0.10706572979688644, 1.0243995189666748, 1.8667231798171997]], [[1.85915207862854, 0.351505845785141, 0.41116687655448914, 1.0946956872940063, 2.2902672290802, 0.14257866144180298]], [[0.6138202548027039, 0.9072891473770142, 0.11336301267147064, 0.5343396663665771, 0.49785423278808594, 0.6901518702507019]], [[0.7704047560691833, 1.1434231996536255, 2.7120532989501953, 1.7915254831314087, 2.937082529067993, 0.43175622820854187]], [[0.030993668362498283, 0.0625302791595459, 0.2913404703140259, 0.17236965894699097, 0.0004938615602441132, 0.00915511790663004]], [[0.03566708788275719, 0.5540174841880798, 0.10127346217632294, 1.302274465560913, 0.8651848435401917, 0.01934584602713585]], [[0.005940739996731281, 0.05079654976725578, 0.24465516209602356, 0.021896662190556526, 3.0132956453599036e-05, 0.08653564751148224]], [[0.460178405046463, 0.2816806733608246, 0.06104656681418419, 0.15595228970050812, 0.02788742631673813, 0.3091847896575928]], [[0.09009312093257904, 1.0078076124191284, 0.00911660585552454, 0.03678829222917557, 1.0425771474838257, 0.00024191057309508324]], [[0.38386937975883484, 0.7699787616729736, 0.0026191365905106068, 0.5196638703346252, 0.9429071545600891, 0.26153042912483215]], [[0.9155551791191101, 0.6008239984512329, 0.004913017153739929, 0.06214716285467148, 2.0861173197772587e-06, 0.0003589122206903994]], [[0.04931962862610817, 0.6176899671554565, 0.9584206342697144, 0.12340498715639114, 0.2529217302799225, 0.24529215693473816]], [[0.1789528876543045, 0.3457920253276825, 0.009091582149267197, 0.025933289900422096, 0.03330429270863533, 0.005570743232965469]], [[0.05967963859438896, 0.004154635593295097, 0.1484481245279312, 0.03707795962691307, 0.043779563158750534, 0.017704449594020844]], [[1.1948833465576172, 0.12945491075515747, 0.06981410086154938, 0.22094103693962097, 0.03168670833110809, 0.11433754116296768]], [[0.4200004041194916, 1.7931348085403442, 0.8153424859046936, 0.7763450741767883, 1.0336726903915405, 2.5227832794189453]], [[0.20164692401885986, 0.005693773273378611, 0.052453599870204926, 0.1642264574766159, 0.03697363659739494, 0.020080992951989174]], [[1.7217826843261719, 0.5305508971214294, 0.25227823853492737, 0.15111346542835236, 0.0006152914720587432, 0.33884668350219727]], [[0.4973570704460144, 4.462185643205885e-06, 0.010982886888086796, 0.3350096642971039, 1.564706802368164, 3.7825520848855376e-05]], [[0.005060974508523941, 0.2449328452348709, 0.009466047398746014, 0.0005717473104596138, 0.4032222628593445, 0.16646263003349304]], [[0.15317705273628235, 0.4065616726875305, 0.8229467272758484, 0.958245575428009, 1.1511110067367554, 0.20225420594215393]], [[0.6061978936195374, 0.40003111958503723, 0.253957062959671, 0.39134952425956726, 0.9680827856063843, 1.1217234134674072]], [[0.008328422904014587, 0.7614142298698425, 1.0828341245651245, 0.5697782039642334, 3.389026641845703, 0.002782473573461175]], [[0.0028867346700280905, 0.016718212515115738, 0.3041994273662567, 0.0005135952378623188, 0.0006404533050954342, 0.3746799826622009]], [[1.2354158163070679, 1.1264948844909668, 0.03206580877304077, 1.078748345375061, 0.816757082939148, 0.15638135373592377]], [[0.02227621152997017, 0.0018848682520911098, 0.2780599892139435, 0.019048016518354416, 0.04390287026762962, 0.2833082675933838]], [[0.39352506399154663, 0.735017716884613, 0.15816591680049896, 0.02534356154501438, 0.10745270550251007, 0.03387724235653877]], [[1.4309176206588745, 1.3177359104156494, 0.45437631011009216, 0.48573824763298035, 0.17996430397033691, 0.2520179748535156]], [[0.08839840441942215, 0.010229545645415783, 0.07627158612012863, 0.549413800239563, 1.0805424451828003, 0.014894526451826096]], [[1.3166534900665283, 0.056971728801727295, 0.0004772813990712166, 0.22349093854427338, 1.3658490180969238, 0.36030206084251404]], [[0.49007248878479004, 0.6355319619178772, 0.6811220049858093, 0.7857527136802673, 0.22552525997161865, 0.8467524647712708]], [[0.7607707381248474, 0.9444894790649414, 0.8403596878051758, 0.8689998388290405, 0.30642208456993103, 2.9843616485595703]], [[2.4303324222564697, 1.3357113599777222, 0.43072664737701416, 1.259322166442871, 0.02397461049258709, 3.296501874923706]], [[0.054437555372714996, 0.19647325575351715, 0.2997913658618927, 0.19675150513648987, 0.02917979657649994, 1.033050298690796]], [[0.024108730256557465, 0.04491504654288292, 0.6249945759773254, 0.002403152408078313, 0.06510545313358307, 0.022079510614275932]], [[0.4094768464565277, 0.6779608726501465, 0.673445463180542, 0.5911227464675903, 1.5034655332565308, 1.4472774267196655]], [[0.009986348450183868, 0.26183655858039856, 0.2699114680290222, 0.29871225357055664, 0.708858847618103, 0.4668220281600952]], [[1.1065099239349365, 0.520874559879303, 0.48453661799430847, 1.7143281698226929, 0.6713364124298096, 0.02441398799419403]], [[0.24091286957263947, 1.0984445810317993, 0.013324882835149765, 0.13942736387252808, 0.6009870171546936, 0.8003883361816406]], [[0.45140543580055237, 0.15632762014865875, 0.06303998827934265, 0.5859264731407166, 0.33474668860435486, 0.7253966331481934]], [[0.5077505111694336, 0.7108080983161926, 0.29004421830177307, 0.32310041785240173, 0.046428896486759186, 0.632059633731842]], [[1.2681727409362793, 0.8648189902305603, 0.5701004266738892, 0.8101229071617126, 0.4582076966762543, 1.3556294441223145]], [[0.03008398972451687, 0.0802912712097168, 0.004786995705217123, 0.02089066058397293, 0.021282847970724106, 1.1466811895370483]], [[2.448660373687744, 1.2910749912261963, 1.5093426704406738, 1.5382440090179443, 1.1471673250198364, 1.4672635793685913]], [[0.6112470626831055, 0.13421349227428436, 0.3503350019454956, 0.4847942292690277, 1.33522367477417, 0.32155054807662964]], [[0.06756044924259186, 0.25355520844459534, 0.5783427953720093, 0.33135753870010376, 0.7219122648239136, 1.6391409635543823]], [[0.11797285079956055, 0.016277184709906578, 0.04184090718626976, 0.8110076785087585, 0.5832209587097168, 0.177464097738266]], [[0.7938483357429504, 0.01578778401017189, 0.03229016810655594, 0.1359221339225769, 0.4620603322982788, 0.12439308315515518]], [[0.05553825572133064, 0.08168108016252518, 1.1997034549713135, 0.8322888612747192, 0.003234493313357234, 0.1229957714676857]], [[0.45875754952430725, 0.002329876646399498, 0.13059557974338531, 0.005314244423061609, 0.5978854894638062, 0.025661634281277657]], [[0.14387454092502594, 0.05244017019867897, 0.5073173642158508, 0.0007032605353742838, 0.8250230550765991, 0.07892852276563644]], [[0.5110735297203064, 0.11816979944705963, 0.2347346395254135, 0.0503079891204834, 0.00014359602937474847, 0.018352162092924118]], [[0.012224291451275349, 0.5983715653419495, 0.250063419342041, 1.0877768993377686, 1.2858599424362183, 0.0075285048224031925]], [[0.356683611869812, 1.0510622262954712, 1.1215850114822388, 1.354860544204712, 1.7385329008102417, 0.7679532766342163]], [[0.9615045785903931, 1.816583514213562, 0.09479239583015442, 0.9040803909301758, 0.011208408512175083, 0.036447666585445404]], [[0.16018284857273102, 0.5800861716270447, 0.09059160202741623, 0.04631388932466507, 0.1441420018672943, 0.10012242197990417]], [[2.4895553588867188, 0.4337889552116394, 0.5621309876441956, 1.472407579421997, 0.10924293845891953, 0.6745780110359192]], [[0.004470891784876585, 0.1258997768163681, 0.017925869673490524, 0.790194571018219, 0.013418619520962238, 0.6211087703704834]], [[2.047614336013794, 1.5042297840118408, 2.682636260986328, 0.8909932971000671, 0.34817275404930115, 1.0162920951843262]], [[1.074631690979004, 1.2158257961273193, 0.49048852920532227, 0.48078426718711853, 0.5829154849052429, 0.6732509732246399]], [[0.21944859623908997, 0.001081271329894662, 0.25741705298423767, 0.9165140390396118, 0.3548178970813751, 1.218961477279663]], [[0.13747620582580566, 1.594622254371643, 1.4892477989196777, 2.1407172679901123, 0.40700143575668335, 0.05167718231678009]], [[0.02913973666727543, 0.5154157280921936, 0.013899598270654678, 0.0081052640452981, 0.929259181022644, 0.12747155129909515]], [[0.2996005713939667, 0.8028995990753174, 0.9434545040130615, 0.30878692865371704, 0.4536903202533722, 0.31349819898605347]], [[1.5914030075073242, 1.2951406240463257, 2.0430262088775635, 2.5761260986328125, 3.592404842376709, 2.8321242332458496]], [[2.4030978679656982, 2.1507601737976074, 2.1859519481658936, 2.1998209953308105, 0.3972817659378052, 1.5056085586547852]], [[0.4043421447277069, 0.15063171088695526, 0.009747441858053207, 0.8195838928222656, 0.0019377339631319046, 0.0033570167142897844]], [[0.3865435719490051, 0.1324302852153778, 0.6571659445762634, 0.03121105208992958, 0.039040155708789825, 0.046906549483537674]], [[1.9510776996612549, 0.6875185370445251, 0.9503505229949951, 0.7628229260444641, 0.24798515439033508, 0.041651804000139236]], [[0.009510963223874569, 0.287214994430542, 0.13525474071502686, 0.017003025859594345, 0.010562524199485779, 2.2109639644622803]], [[0.0010647769086062908, 1.0018748044967651, 1.4825900793075562, 1.5829824209213257, 0.04859386011958122, 0.5568031668663025]], [[1.5491622686386108, 2.500465154647827, 1.0483571290969849, 1.3595185279846191, 0.21916857361793518, 0.3382687568664551]], [[0.13860385119915009, 0.07727862894535065, 1.1840362548828125, 0.1955692619085312, 0.08512763679027557, 0.0008634414989501238]], [[0.05420905351638794, 1.0961709022521973, 0.31658491492271423, 2.9167792797088623, 1.900530457496643, 0.0018244144739583135]], [[1.1664456129074097, 0.005664235446602106, 0.011520924046635628, 1.6051783404691378e-06, 0.683819591999054, 0.09772197157144547]], [[2.4849274158477783, 4.0867018699646, 2.6377811431884766, 4.192717552185059, 1.5370371341705322, 2.2280006408691406]], [[0.0033986696507781744, 0.23345650732517242, 0.3563997447490692, 1.0804288387298584, 0.5070654153823853, 1.8583205938339233]], [[1.1528459787368774, 0.030971677973866463, 0.7110163569450378, 0.040257830172777176, 0.15292783081531525, 0.3781106472015381]], [[3.73856258392334, 3.0185208320617676, 4.0619916915893555, 3.8161251544952393, 1.0608738660812378, 0.5269743204116821]], [[0.7823436856269836, 0.010779451578855515, 0.16653481125831604, 0.06799419969320297, 2.0147416591644287, 0.12496469914913177]], [[0.0279555507004261, 0.2765777111053467, 0.02109675481915474, 0.14598627388477325, 0.04786814749240875, 0.3354378640651703]], [[0.002432648791000247, 0.45829805731773376, 0.253722608089447, 0.02191995270550251, 8.938718565332238e-06, 0.09852063655853271]], [[2.613370895385742, 0.10203909873962402, 1.6289269924163818, 0.1141362413764, 0.30776020884513855, 3.774662971496582]], [[0.29291439056396484, 0.014354347251355648, 0.006082969252020121, 0.017560718581080437, 0.0030711034778505564, 0.2213011533021927]], [[0.42465510964393616, 0.626752495765686, 2.2537553310394287, 1.8166953325271606, 1.1465857028961182, 3.02760910987854]], [[0.46111467480659485, 0.7836094498634338, 0.02954912930727005, 0.24995064735412598, 0.3799915909767151, 5.343483735487098e-07]], [[0.08543635159730911, 0.09549839794635773, 0.07246650755405426, 0.05955727398395538, 0.12180265039205551, 0.11115795373916626]], [[0.5246155261993408, 1.3446816205978394, 0.01937238499522209, 0.043625056743621826, 0.023689070716500282, 0.2537752091884613]], [[0.16870079934597015, 0.11173547804355621, 0.269069105386734, 0.005476829595863819, 0.006612911354750395, 0.1677432656288147]], [[0.005467129405587912, 0.1998925805091858, 0.3938864767551422, 0.8937879204750061, 0.8184515237808228, 1.488848090171814]], [[1.0719902515411377, 0.02698131836950779, 1.1510987281799316, 0.02443932741880417, 0.2143794298171997, 0.1072147861123085]], [[0.34825295209884644, 0.05498842895030975, 0.002437472576275468, 0.04349697008728981, 0.218747079372406, 0.06874102354049683]], [[0.2859228551387787, 0.014135240577161312, 0.02410939708352089, 0.9650843739509583, 1.1624388694763184, 0.0455300472676754]], [[1.193604588508606, 1.6577837467193604, 1.2521876096725464, 1.453791618347168, 2.470938205718994, 1.2697347402572632]], [[0.1923072785139084, 0.13823272287845612, 0.8915119171142578, 7.853288479964249e-06, 0.007579231634736061, 0.13178296387195587]], [[0.0586923249065876, 1.4362059831619263, 0.9372832775115967, 0.924759030342102, 0.9468488097190857, 0.8854239583015442]], [[0.41315701603889465, 0.10669844597578049, 0.12845490872859955, 0.23662567138671875, 1.1595251560211182, 0.01587592251598835]], [[1.4761621952056885, 0.09734714776277542, 1.3099206686019897, 0.7271062135696411, 0.014640551060438156, 0.4118991792201996]], [[0.2755294740200043, 0.04152859374880791, 0.09727336466312408, 0.384046345949173, 0.37196317315101624, 0.8439098000526428]], [[0.19532155990600586, 0.06852366030216217, 0.0037298318929970264, 0.0008640861487947404, 0.8108870387077332, 0.22111208736896515]], [[0.26453500986099243, 0.12211071699857712, 0.14553752541542053, 0.11448059976100922, 0.9275803565979004, 0.08764945715665817]], [[2.339996099472046, 2.030441999435425, 2.294412612915039, 2.2582027912139893, 1.2843376398086548, 0.9050363898277283]], [[0.035093337297439575, 0.5177805423736572, 0.20891569554805756, 0.005658997222781181, 1.6515733003616333, 0.05491487681865692]], [[0.8481242060661316, 0.029523150995373726, 0.146356001496315, 0.2946276366710663, 0.1437443494796753, 0.004553529899567366]], [[0.29025790095329285, 0.3788954019546509, 0.16847780346870422, 0.3222355544567108, 0.8478839993476868, 0.14019064605236053]], [[0.6231811046600342, 0.09802137315273285, 0.0008805211400613189, 0.2300579696893692, 0.384185254573822, 0.14208701252937317]], [[0.44874292612075806, 0.9698147773742676, 0.2790296673774719, 1.385409951210022, 0.7327383756637573, 0.005827425513416529]], [[0.26772746443748474, 0.5710379481315613, 0.07178739458322525, 0.3647838532924652, 0.8725947737693787, 1.9275084733963013]], [[0.032449740916490555, 0.24313578009605408, 0.10308913141489029, 0.07144387811422348, 4.8792844609124586e-05, 0.007357537746429443]], [[0.9422659277915955, 0.03637542203068733, 0.36753737926483154, 0.035477954894304276, 0.0006222421652637422, 0.001382295275107026]], [[0.006278839893639088, 0.01142255961894989, 0.594903826713562, 0.5237144827842712, 0.3972564935684204, 0.9764477014541626]], [[1.7101950645446777, 0.22377189993858337, 0.11624935269355774, 0.47021055221557617, 0.7390848398208618, 0.28634271025657654]], [[0.6753454208374023, 2.1940982341766357, 1.1568735837936401, 4.136046409606934, 1.465781331062317, 2.0315537452697754]], [[1.0863107442855835, 0.26831573247909546, 0.07712838053703308, 0.014554076828062534, 0.08066949993371964, 0.0205838605761528]], [[0.9501060247421265, 0.320413738489151, 0.11100014299154282, 0.34439536929130554, 0.5725025534629822, 1.0028764009475708]], [[0.44991055130958557, 0.005465895403176546, 0.4933915138244629, 0.001320872688665986, 0.42793408036231995, 0.010780738666653633]], [[2.216301918029785, 2.5240066051483154, 0.955215334892273, 1.3410931825637817, 1.697744369506836, 0.7487625479698181]], [[0.5633797645568848, 0.015855921432375908, 0.5040414929389954, 0.16473796963691711, 0.16619309782981873, 0.10954969376325607]], [[0.1891438513994217, 0.10835115611553192, 0.004435126669704914, 0.11397874355316162, 0.0006983501370996237, 0.5941758155822754]], [[0.22651433944702148, 0.338201105594635, 0.029844455420970917, 0.17699778079986572, 0.049136389046907425, 0.035886071622371674]], [[0.008776773698627949, 7.565497071482241e-05, 0.019196312874555588, 0.026341170072555542, 2.348893880844116, 0.29736796021461487]], [[0.0018341017421334982, 0.23124422132968903, 0.21250271797180176, 0.2406943142414093, 0.0101100979372859, 0.001092448364943266]], [[1.0626447200775146, 1.3261877298355103, 0.31317925453186035, 1.6000521183013916, 1.6943213939666748, 0.010126933455467224]], [[0.6909015774726868, 0.25624069571495056, 0.19987425208091736, 0.32342275977134705, 0.8319626450538635, 0.29007604718208313]], [[0.3770414888858795, 0.07487032562494278, 0.21431033313274384, 0.1520177125930786, 0.24102053046226501, 0.11375701427459717]], [[1.369324803352356, 0.41737380623817444, 1.509749174118042, 1.5089846849441528, 0.1478133201599121, 0.902671754360199]], [[0.008740447461605072, 0.9285831451416016, 0.5387464761734009, 1.0986804962158203, 0.5636163353919983, 0.08406444638967514]], [[0.17534121870994568, 0.16484889388084412, 0.7389348149299622, 0.9004166126251221, 0.7593016028404236, 0.06889726221561432]], [[0.3883386552333832, 0.32576072216033936, 0.8364637494087219, 0.008114668540656567, 0.5674557685852051, 0.6630356907844543]], [[0.04512994736433029, 0.34325066208839417, 0.174442857503891, 0.0009517772705294192, 0.6772080659866333, 0.822381854057312]], [[1.0498183965682983, 0.21038836240768433, 0.1035822406411171, 0.006922990083694458, 0.4585188925266266, 0.11399130523204803]], [[0.5785491466522217, 0.35044199228286743, 0.04539696127176285, 0.0810498371720314, 0.022196929901838303, 0.4311620593070984]], [[1.0090051889419556, 1.5201133489608765, 0.024950513616204262, 0.0905689224600792, 0.7583503723144531, 0.027054287493228912]], [[0.10606933385133743, 0.2756411135196686, 0.531839907169342, 0.08197871595621109, 0.2271779477596283, 0.7772053480148315]], [[0.04631984233856201, 0.2530485987663269, 0.01370224915444851, 0.23973588645458221, 0.6826967000961304, 0.053321659564971924]], [[0.6554291844367981, 0.15574973821640015, 0.7430859208106995, 0.8856366872787476, 0.4593665301799774, 0.7339408993721008]], [[0.5628791451454163, 2.4362294673919678, 0.20163901150226593, 0.4906575083732605, 4.054486274719238, 1.435299277305603]], [[0.8556377291679382, 0.4086908996105194, 0.3210242986679077, 0.027823837473988533, 0.037338998168706894, 0.14122484624385834]], [[1.463377833366394, 0.5400359630584717, 0.6905465126037598, 0.611204206943512, 0.15090888738632202, 0.4842800796031952]], [[2.206692934036255, 0.02158961072564125, 0.8336980938911438, 2.5083577632904053, 2.0822761058807373, 1.9021931886672974]], [[0.0869687870144844, 0.036919835954904556, 0.002670486457645893, 0.014470898546278477, 0.4360581338405609, 0.2530195713043213]], [[0.06410302221775055, 3.6052020732313395e-05, 0.37340614199638367, 0.3342141807079315, 0.25654828548431396, 0.1859433352947235]], [[0.5697796940803528, 0.7931151986122131, 0.6670105457305908, 0.2101784497499466, 0.36183270812034607, 0.00976119376718998]], [[1.851732611656189, 1.1657922267913818, 0.5931224822998047, 2.884735107421875, 0.10038784891366959, 0.7730781435966492]], [[0.03577198460698128, 0.0022047823294997215, 0.018163315951824188, 1.234285593032837, 0.9356119632720947, 0.0743468627333641]], [[4.247659683227539, 2.8407886028289795, 0.38132283091545105, 1.7097349166870117, 1.6334245204925537, 1.2501388788223267]], [[1.575311303138733, 1.3842079639434814, 1.82282292842865, 0.6685746312141418, 0.001054098829627037, 1.569209098815918]], [[0.06548500806093216, 0.008590550161898136, 0.002213881816715002, 0.89084792137146, 0.13591298460960388, 0.02757543884217739]], [[0.1273871213197708, 0.1872347891330719, 0.020528415217995644, 0.24155645072460175, 0.07992269843816757, 0.7386807203292847]], [[0.00033727852860465646, 0.006454347632825375, 0.0019199750386178493, 0.3395068049430847, 2.0568478107452393, 0.11568977683782578]], [[0.07291685789823532, 0.007491108495742083, 0.13399522006511688, 0.26509079337120056, 0.0005267432425171137, 0.41981378197669983]], [[0.9099053740501404, 0.12897497415542603, 0.0006597228930331767, 0.03745638579130173, 0.00018404329603072256, 0.0188192930072546]], [[0.13823679089546204, 0.27718138694763184, 0.04486645385622978, 0.004134221933782101, 0.05162191390991211, 0.3278277516365051]], [[1.2373098134994507, 0.0010179401142522693, 0.07306384295225143, 0.04372720047831535, 0.7734882235527039, 0.4057912826538086]], [[0.4829738736152649, 1.4559098482131958, 0.19839772582054138, 0.783557116985321, 0.2082042694091797, 0.908941388130188]], [[0.9660537838935852, 0.9118891358375549, 0.08801434189081192, 0.45123597979545593, 0.3981108069419861, 0.5980374217033386]], [[0.114015132188797, 0.05385978892445564, 0.07246945798397064, 0.46730366349220276, 1.5842089653015137, 0.10535167902708054]], [[0.17974933981895447, 0.21515418589115143, 0.15588393807411194, 0.0009748645243234932, 0.228701651096344, 1.431685447692871]], [[0.002842074492946267, 0.18493184447288513, 0.5828255414962769, 0.4527125358581543, 0.05043812468647957, 0.02202385477721691]], [[0.8716369271278381, 1.4505369663238525, 0.5935375690460205, 0.5264514088630676, 0.7820531129837036, 0.2611769735813141]], [[0.26116013526916504, 0.24872061610221863, 0.049877043813467026, 0.3163418769836426, 0.6815797686576843, 0.17075327038764954]], [[0.12631650269031525, 0.6925037503242493, 0.017933787778019905, 0.2318703979253769, 0.07546987384557724, 0.554590106010437]], [[0.03647052124142647, 0.044538091868162155, 0.6410295367240906, 0.3408784866333008, 0.7443721890449524, 0.02701634168624878]], [[0.11379819363355637, 0.07937458157539368, 0.18311601877212524, 0.0074800108559429646, 0.06879129260778427, 0.24835143983364105]], [[0.7132411599159241, 1.4833972454071045, 1.448415756225586, 1.2433403730392456, 1.3547961711883545, 4.922353267669678]], [[0.3004988133907318, 0.2863197326660156, 0.27854323387145996, 1.0466314554214478, 0.20080415904521942, 0.055701881647109985]], [[1.1818009614944458, 0.9811402559280396, 0.34882301092147827, 1.7600594758987427, 1.050693154335022, 0.06563163548707962]], [[0.9228451251983643, 0.027904389426112175, 0.013478396460413933, 0.2836382985115051, 0.01981651596724987, 0.8684367537498474]], [[0.7399598956108093, 1.7364449501037598, 1.8868083953857422, 3.2825467586517334, 0.2673172950744629, 3.460216999053955]], [[0.15193071961402893, 1.1988115310668945, 0.6178724765777588, 0.3603341281414032, 0.23518604040145874, 2.5510811805725098]], [[1.1711492538452148, 0.040249984711408615, 0.09759620577096939, 0.03950109705328941, 0.001062537543475628, 0.09036339819431305]], [[0.9188459515571594, 1.10006844997406, 0.19518861174583435, 1.3519104719161987, 0.14689920842647552, 1.065768837928772]], [[1.359304428100586, 0.0868043377995491, 0.5353276133537292, 0.4782077968120575, 0.3594127595424652, 0.0967826172709465]], [[0.01493464969098568, 0.8500100374221802, 1.898842692375183, 0.9591555595397949, 2.524195909500122, 0.08692365139722824]], [[0.018708905205130577, 0.03237282112240791, 0.03268733248114586, 0.005474783014506102, 0.6260482668876648, 0.06548073887825012]], [[0.17844250798225403, 0.3051437735557556, 2.5094218254089355, 0.9512851238250732, 1.834564447402954, 4.511018753051758]], [[0.2342148870229721, 0.2652911841869354, 0.2521350383758545, 0.0004488716076593846, 0.16089415550231934, 0.46672070026397705]], [[0.06521451473236084, 0.10134874284267426, 0.11741828918457031, 0.0019072509603574872, 0.15531495213508606, 0.05311925336718559]], [[0.9030537605285645, 1.0232062339782715, 1.7096694707870483, 0.43059396743774414, 1.6426587104797363, 1.1566864252090454]], [[1.66847562789917, 0.3492354452610016, 0.40508779883384705, 0.6564305424690247, 1.1078627109527588, 0.006915770936757326]], [[0.8734630942344666, 0.11170949786901474, 0.11391468346118927, 0.12579354643821716, 0.17016403377056122, 0.10254740715026855]], [[0.021698204800486565, 0.15422692894935608, 0.2955933213233948, 0.20732054114341736, 0.7779247760772705, 0.09470638632774353]], [[0.36704322695732117, 0.12859371304512024, 0.010099313221871853, 0.05358701944351196, 0.017404800280928612, 0.7089443206787109]], [[0.3114548325538635, 0.1039951741695404, 0.02608986757695675, 0.6225026249885559, 0.974750280380249, 0.3060953915119171]], [[0.1818624585866928, 0.7526304125785828, 0.2567765712738037, 0.11075244843959808, 0.04453446716070175, 0.01860859803855419]], [[0.7958613038063049, 0.10083629935979843, 0.0191683117300272, 0.16994184255599976, 0.062069326639175415, 0.03741007298231125]], [[1.7280784845352173, 0.3400154411792755, 0.6238208413124084, 0.0932856947183609, 0.0385722741484642, 0.004708143416792154]], [[0.14947302639484406, 0.2609803378582001, 0.05449063703417778, 0.4597078859806061, 0.08394351601600647, 0.02903563901782036]], [[0.02459021285176277, 0.8423750996589661, 0.0013374225236475468, 0.8641858696937561, 0.0045501841232180595, 0.19832679629325867]], [[0.027863144874572754, 0.6383976340293884, 0.0260583758354187, 0.22074025869369507, 0.3028790354728699, 0.0014100541593506932]], [[0.03698363155126572, 0.19949007034301758, 0.2251155823469162, 0.7267927527427673, 0.2479039430618286, 0.04309969022870064]], [[0.0596914067864418, 0.010190758854150772, 0.0013123255921527743, 1.2828401327133179, 1.1319262981414795, 0.2379084825515747]], [[0.30718356370925903, 1.9297327995300293, 0.13949894905090332, 0.2174023538827896, 1.5102612972259521, 0.05956611782312393]], [[0.061610665172338486, 0.035650067031383514, 0.2547624707221985, 0.1946326345205307, 1.2041375637054443, 0.19881890714168549]], [[0.4702213406562805, 0.001018609618768096, 0.01383031252771616, 0.31507056951522827, 0.3949454128742218, 0.04544096440076828]], [[0.00476811034604907, 1.0549306869506836, 1.2115024328231812, 0.40794745087623596, 0.06393387168645859, 1.6686856746673584]], [[0.013683724217116833, 1.0625503063201904, 1.1092398166656494, 0.007006757892668247, 0.041756581515073776, 0.05338675156235695]], [[0.31739407777786255, 0.014345207251608372, 0.19909392297267914, 0.12075796723365784, 0.04550563171505928, 1.3036161661148071]], [[7.786491914885119e-05, 0.10152764618396759, 0.17348463833332062, 0.00811917893588543, 0.20990592241287231, 0.014499018900096416]], [[0.6126563549041748, 0.004554913844913244, 0.13608549535274506, 0.004184995777904987, 0.5583805441856384, 0.1848781257867813]], [[0.07087072730064392, 0.05632030591368675, 0.1539255827665329, 0.046121884137392044, 0.3424800634384155, 0.1506579965353012]], [[0.3125215470790863, 1.4108573198318481, 0.11004345118999481, 0.2878125309944153, 0.08292758464813232, 0.3244779706001282]], [[0.14519283175468445, 1.1217597723007202, 0.26756536960601807, 0.34835174679756165, 0.5180392861366272, 0.11196576058864594]], [[0.5482678413391113, 0.3344634175300598, 1.3093515634536743, 0.3369150757789612, 0.5773767828941345, 0.8542572259902954]], [[0.07739293575286865, 0.5954044461250305, 1.945988416671753, 1.8192156553268433, 0.0011463843984529376, 0.29963162541389465]], [[0.0336691178381443, 0.5129497647285461, 0.17089517414569855, 1.144248366355896, 1.5187820196151733, 0.00015682392404414713]], [[1.3222781419754028, 0.03074350766837597, 0.24593541026115417, 0.07707211375236511, 0.282417356967926, 0.014825006946921349]], [[1.081417441368103, 0.4596555233001709, 0.0060142879374325275, 0.08395318686962128, 0.02729017101228237, 0.8059784173965454]], [[0.2762550711631775, 0.05695272609591484, 0.08809683471918106, 0.32682299613952637, 0.6420328617095947, 0.04750889912247658]], [[1.4706653356552124, 0.47877874970436096, 1.4695970094180666e-05, 0.018097376450896263, 2.100755453109741, 0.16202038526535034]], [[0.9831042289733887, 0.1368960291147232, 0.0195561945438385, 0.000508872966747731, 0.15256106853485107, 0.02724473923444748]], [[0.7384381294250488, 0.5311901569366455, 0.8003751039505005, 0.6829468607902527, 0.8875529766082764, 0.3188660442829132]], [[0.7464339137077332, 0.06814572215080261, 0.020419657230377197, 0.0663662701845169, 0.35964176058769226, 0.005461031571030617]], [[0.37383636832237244, 0.03296716511249542, 0.043377216905355453, 0.030914220958948135, 0.1533493548631668, 0.04925568774342537]], [[0.27309650182724, 0.8508314490318298, 0.1509268581867218, 0.8763211369514465, 0.8753041625022888, 0.04855171963572502]], [[0.005272924900054932, 0.9114247560501099, 0.36521080136299133, 0.10772798210382462, 0.0651170164346695, 1.0381381511688232]], [[0.23955895006656647, 0.0369974784553051, 0.10188409686088562, 0.23004378378391266, 0.1101236641407013, 0.13964056968688965]], [[3.815758228302002, 0.3666582405567169, 0.7725193500518799, 0.6803469657897949, 0.4153507649898529, 0.5039856433868408]], [[0.028313707560300827, 0.0006526506040245295, 0.43720096349716187, 0.13008876144886017, 0.0581849031150341, 0.015279377810657024]], [[0.11991354078054428, 0.27115675806999207, 0.21605421602725983, 0.3053516447544098, 0.6586755514144897, 0.0703858807682991]], [[0.5675071477890015, 0.03663726523518562, 0.9016930460929871, 0.6903681755065918, 0.0021345755085349083, 0.09112267941236496]], [[0.3033163845539093, 0.35124722123146057, 0.0646667331457138, 0.01852685958147049, 0.006963119842112064, 1.5568872690200806]], [[0.15821503102779388, 0.8263770937919617, 0.00023142124700825661, 0.20437073707580566, 0.007258930243551731, 4.924353925161995e-05]], [[0.06850581616163254, 0.6047363877296448, 0.2585505247116089, 0.0710996612906456, 0.27240392565727234, 0.737829327583313]], [[8.95993725862354e-05, 0.029842397198081017, 0.27814650535583496, 0.4348633587360382, 0.11983280628919601, 1.172800064086914]], [[1.068008303642273, 0.017910104244947433, 0.6643980145454407, 0.040465712547302246, 0.07881054282188416, 0.9059188961982727]], [[2.027231454849243, 0.05550151690840721, 0.014026827178895473, 0.18409369885921478, 0.18799568712711334, 0.4173469841480255]], [[1.0801935195922852, 0.40316474437713623, 3.2963156700134277, 1.3315037488937378, 0.16800741851329803, 1.0727289915084839]], [[0.029142748564481735, 1.5382049083709717, 0.9418915510177612, 1.8135243654251099, 0.6757228374481201, 2.4634761810302734]], [[0.17290815711021423, 0.027453631162643433, 0.04757585749030113, 0.09972494095563889, 1.120108962059021, 0.009056152775883675]], [[0.17900775372982025, 0.44733792543411255, 1.4596377611160278, 0.041442446410655975, 0.15157146751880646, 0.0002495796943549067]], [[0.038771070539951324, 0.2940921187400818, 0.9250117540359497, 1.1764729022979736, 0.004506897181272507, 0.30956166982650757]], [[0.004419928416609764, 0.09908359497785568, 0.00958658754825592, 0.14243033528327942, 0.10890498757362366, 0.26378947496414185]], [[1.0251573324203491, 0.24557043612003326, 0.9341831803321838, 1.1646783351898193, 1.0701791048049927, 0.016792278736829758]], [[1.2186272144317627, 0.1884474903345108, 0.14513741433620453, 0.2610612213611603, 0.7731854915618896, 0.07573379576206207]], [[0.7726375460624695, 1.2786078453063965, 1.3047542572021484, 0.3108406960964203, 0.010258357971906662, 1.7141320705413818]], [[1.6152571439743042, 2.06191349029541, 0.8961403965950012, 0.9865084290504456, 1.1762686967849731, 0.8420574069023132]], [[2.5193428993225098, 0.703818142414093, 0.052992504090070724, 0.17345087230205536, 1.0482121706008911, 0.06429621577262878]], [[0.0314708836376667, 0.05781569704413414, 1.3176406621932983, 0.6406157612800598, 0.21204861998558044, 0.0024307677522301674]], [[1.3550214767456055, 0.9863038063049316, 0.7576633095741272, 1.2113302946090698, 1.1412216424942017, 0.02457309328019619]], [[0.021939441561698914, 0.1182122603058815, 0.2688359022140503, 0.019957661628723145, 0.886864423751831, 0.03163350746035576]], [[1.1045441627502441, 0.015543210320174694, 0.005653402768075466, 0.5238256454467773, 0.0801776796579361, 0.04970031604170799]], [[0.4811774492263794, 0.3210532069206238, 0.014908263459801674, 0.11998917907476425, 0.4957583248615265, 0.0040513696148991585]], [[1.7060638666152954, 1.5043104887008667, 1.6394932270050049, 0.9805065393447876, 4.751049995422363, 1.9868351221084595]], [[0.6152257323265076, 0.484653115272522, 0.2015353888273239, 0.02298368141055107, 0.8163511753082275, 2.1994779109954834]], [[0.005918452050536871, 0.000616593228187412, 0.13493698835372925, 0.014854631386697292, 0.5833374857902527, 0.0873526856303215]], [[0.3452070653438568, 0.4856734573841095, 0.0015697949565947056, 0.38976091146469116, 0.8963494300842285, 1.2334985733032227]], [[0.07393917441368103, 0.34036919474601746, 1.4043457508087158, 0.538994312286377, 0.6809000968933105, 1.8253912925720215]], [[0.8699175715446472, 0.1900089979171753, 0.3790656626224518, 0.23903527855873108, 0.09918508678674698, 0.6036977767944336]], [[1.1362406015396118, 1.0805280208587646, 0.03808394819498062, 1.177855372428894, 0.5024252533912659, 0.018336791545152664]], [[2.1930861473083496, 1.5673161745071411, 2.3608438968658447, 1.0130748748779297, 1.227267861366272, 4.474163055419922]], [[0.008127645589411259, 0.08749212324619293, 0.05648858845233917, 0.1756858229637146, 0.16952890157699585, 0.7531082630157471]], [[1.8761955499649048, 0.42302656173706055, 2.202409505844116, 1.3050587177276611, 1.9622533321380615, 0.8931068778038025]], [[0.6581621170043945, 0.3123680055141449, 0.21402610838413239, 0.016778996214270592, 0.05325385555624962, 0.028956716880202293]], [[0.8330973386764526, 1.5542985200881958, 1.1218082904815674, 0.9773493409156799, 0.4047248959541321, 1.0204977989196777]], [[0.22988417744636536, 0.3082778751850128, 0.4440714120864868, 0.2620757222175598, 0.12459800392389297, 0.0775313526391983]], [[1.5921658277511597, 1.0844224691390991, 0.07133800536394119, 2.448237180709839, 1.5140715837478638, 0.19394345581531525]], [[1.7103828191757202, 0.0635349303483963, 0.12146372348070145, 0.017019381746649742, 0.008769538253545761, 1.6266030073165894]], [[0.8494197130203247, 0.27506762742996216, 0.30689817667007446, 0.023577794432640076, 0.005913464352488518, 0.2519059479236603]], [[0.00300401053391397, 0.03008175641298294, 0.05398712679743767, 0.15017107129096985, 0.7695704102516174, 0.08025317639112473]], [[0.11334197968244553, 0.6035822033882141, 0.8372781872749329, 0.7342469096183777, 0.11141214519739151, 0.12558814883232117]], [[1.6122381687164307, 1.1921141147613525, 0.3197743594646454, 0.5180214047431946, 0.9968910813331604, 0.457552045583725]], [[0.09295058995485306, 0.16061292588710785, 0.09796912968158722, 0.163338765501976, 0.20611535012722015, 0.001946012838743627]], [[0.18547050654888153, 0.1543220728635788, 0.3900848627090454, 0.039409980177879333, 0.3309665024280548, 0.08483628183603287]], [[0.000501264410559088, 0.04402194544672966, 1.016645908355713, 0.48877182602882385, 0.8153893947601318, 0.1526864469051361]], [[0.1369427889585495, 1.1129975318908691, 0.40535762906074524, 1.0844632387161255, 0.19560320675373077, 1.2572126388549805]], [[0.28397107124328613, 0.1898917853832245, 0.2437639683485031, 0.6159249544143677, 2.2857096195220947, 0.1729341298341751]], [[0.36893120408058167, 0.36907777190208435, 0.0123499296605587, 0.06308596581220627, 0.4036608338356018, 0.7605286836624146]], [[0.2872735261917114, 0.3135775029659271, 0.016128962859511375, 0.00873969029635191, 0.07891445606946945, 0.000965255661867559]], [[0.6582804918289185, 1.267719030380249, 0.6884206533432007, 1.3747665882110596, 0.37161165475845337, 3.423349142074585]], [[1.3026559352874756, 2.9439609050750732, 4.068779468536377, 2.793487310409546, 4.1510396003723145, 2.4671618938446045]], [[0.00011544070002855733, 0.00021864709560759366, 0.08076433092355728, 0.7915778756141663, 1.533407211303711, 0.1015888899564743]], [[0.11429997533559799, 0.5241676568984985, 0.02587258443236351, 0.06419287621974945, 0.012658706866204739, 0.022661680355668068]], [[1.7530837059020996, 0.029749058187007904, 0.21079887449741364, 0.11995482444763184, 0.22939495742321014, 0.00011219517182325944]], [[3.0446677207946777, 1.0952785015106201, 0.5102645754814148, 1.8343009948730469, 5.071578502655029, 0.26360630989074707]], [[0.0867665484547615, 0.4073866307735443, 0.049653977155685425, 0.12667587399482727, 1.011447548866272, 0.08154118806123734]], [[0.005932436790317297, 0.1888936311006546, 0.011093201115727425, 1.0186445713043213, 0.39672353863716125, 0.40567678213119507]], [[2.3402228355407715, 1.300019383430481, 0.02426297590136528, 7.214634388219565e-05, 0.7029827237129211, 1.4029566049575806]], [[0.9012610912322998, 1.8212652206420898, 0.008386007510125637, 0.14371471107006073, 0.040525972843170166, 0.01253091637045145]], [[0.8366984128952026, 0.04877282306551933, 0.0002466354635544121, 0.4161609411239624, 1.5715969800949097, 0.04104221984744072]], [[1.340920329093933, 0.38172072172164917, 0.3509892523288727, 0.3377697467803955, 0.5906293988227844, 1.6803354024887085]], [[3.51694917678833, 2.3841867446899414, 1.2576425075531006, 2.584502696990967, 1.506054401397705, 0.759777843952179]], [[0.00035144449793733656, 0.6884978413581848, 0.1367669254541397, 2.0781915187835693, 0.3424700200557709, 0.019120147451758385]], [[0.7798627018928528, 0.26930660009384155, 0.5903886556625366, 0.022784162312746048, 0.58304363489151, 0.1858140230178833]], [[0.11771160364151001, 0.05531878024339676, 0.019627075642347336, 0.8134353160858154, 0.5310567617416382, 0.022783009335398674]], [[0.965093731880188, 0.0017602615989744663, 0.5857465267181396, 0.8948742151260376, 1.7498267889022827, 0.39347273111343384]], [[0.1122114509344101, 0.4276596009731293, 0.2058074027299881, 0.10489282011985779, 0.9598449468612671, 0.0051462044939398766]], [[1.9031161069869995, 0.7523888349533081, 1.6683223247528076, 0.9047456383705139, 3.415670871734619, 1.4321379661560059]], [[2.0220730304718018, 1.3472750186920166, 0.6303200125694275, 1.5496317148208618, 0.17688564956188202, 0.5049464702606201]], [[1.5292861461639404, 0.210097998380661, 0.2210351824760437, 0.22732752561569214, 0.008079955354332924, 0.6957458853721619]], [[0.010009377263486385, 0.031823087483644485, 0.0030917231924831867, 0.3777914047241211, 0.5190264582633972, 0.00299220927990973]], [[1.1391412019729614, 0.18134571611881256, 0.008279582485556602, 0.02203730121254921, 0.23857785761356354, 0.09986699372529984]], [[0.0013719259295612574, 0.040644511580467224, 0.0010980820516124368, 0.010058908723294735, 0.23253308236598969, 0.7231918573379517]], [[0.004939724691212177, 0.21647444367408752, 0.2787073254585266, 0.21624931693077087, 0.01659027859568596, 0.46383991837501526]], [[0.019514139741659164, 0.20790846645832062, 0.04975561052560806, 0.1077035665512085, 0.005634416826069355, 0.19613058865070343]], [[0.0170804001390934, 0.0635681077837944, 0.04252203181385994, 0.4274289011955261, 0.24237458407878876, 0.8804684281349182]], [[0.31396612524986267, 0.006527339108288288, 0.14856040477752686, 0.0467756912112236, 0.11072896420955658, 0.0015245566610246897]], [[7.309813554456923e-06, 0.005527691915631294, 0.19419658184051514, 0.11003538966178894, 0.47193530201911926, 0.0033858665265142918]], [[0.41518667340278625, 0.5745609402656555, 0.8676153421401978, 0.0002480002585798502, 0.010929930955171585, 1.296818494796753]], [[0.0005071855848655105, 0.2795240581035614, 0.08144154399633408, 0.30722135305404663, 0.1125890463590622, 0.03244089335203171]], [[0.29820922017097473, 0.00969150010496378, 0.0035925868432968855, 0.019212303683161736, 0.16804631054401398, 0.40120700001716614]], [[0.22411534190177917, 2.027848720550537, 0.6067686080932617, 3.166879892349243, 2.9562599658966064, 0.5119636058807373]], [[0.11546508967876434, 0.019388647750020027, 0.0008510301122441888, 1.3183681964874268, 0.5608161091804504, 0.20048655569553375]], [[0.132901132106781, 0.00355311157181859, 0.08513028174638748, 0.17745667695999146, 0.09086664766073227, 0.015709932893514633]], [[0.6632888317108154, 0.2787073254585266, 0.5292943716049194, 0.34824731945991516, 0.17451436817646027, 0.12644347548484802]], [[0.23956525325775146, 0.0002645009371917695, 0.6433268189430237, 0.0075024208053946495, 0.06058748438954353, 0.5301842093467712]], [[0.4413403868675232, 0.3785508871078491, 0.8136520981788635, 0.8024911880493164, 1.2130749225616455, 0.00874026957899332]], [[0.1357516646385193, 1.8597787857288495e-05, 0.026735547930002213, 0.4883298873901367, 0.0957217738032341, 0.12678095698356628]], [[0.6148764491081238, 0.0455612912774086, 0.0922388881444931, 0.1612594872713089, 0.020907066762447357, 0.3951183259487152]], [[0.43323010206222534, 0.9657018184661865, 1.480116605758667, 1.2362492084503174, 1.5999858379364014, 1.5227776765823364]], [[2.24185848236084, 0.09023744612932205, 0.05244835838675499, 0.8271315097808838, 1.080244541168213, 0.05193092301487923]], [[0.030471300706267357, 0.034742627292871475, 0.17949065566062927, 0.0005571448709815741, 0.32547667622566223, 0.03434982895851135]], [[0.21404485404491425, 8.80355219123885e-05, 0.1201958954334259, 0.021714644506573677, 0.015370638109743595, 0.06076930835843086]], [[2.434948682785034, 0.4125632345676422, 0.17565983533859253, 0.13572214543819427, 0.5039267539978027, 2.4319324493408203]], [[0.03893997520208359, 0.04955839365720749, 0.0011504404246807098, 0.06635460257530212, 0.4283471703529358, 0.5112231969833374]], [[0.06257262080907822, 0.022106798365712166, 0.3959406316280365, 0.40004801750183105, 1.3373292684555054, 0.3317641615867615]], [[0.04876597970724106, 0.08815713226795197, 0.21044981479644775, 0.09560982882976532, 0.20138557255268097, 0.021578822284936905]], [[0.009158814325928688, 0.26485908031463623, 0.05773386359214783, 0.18908682465553284, 0.06052517518401146, 0.0010106052504852414]], [[1.1453948020935059, 1.3526856899261475, 0.15717150270938873, 0.3529219329357147, 1.8959815502166748, 0.7116280198097229]], [[3.6233153343200684, 0.7814109921455383, 0.9267851114273071, 1.0551044940948486, 1.7763218879699707, 0.00273087527602911]], [[0.013789518736302853, 0.45556023716926575, 0.0020713387057185173, 1.1418895721435547, 2.301043748855591, 0.534913182258606]], [[1.4136368036270142, 1.304081678390503, 0.035669516772031784, 0.5130836367607117, 0.7278468608856201, 0.11750588566064835]], [[0.06067401543259621, 0.06267894059419632, 0.15633723139762878, 0.10022534430027008, 0.022193163633346558, 0.1261105090379715]], [[0.005098698660731316, 0.14048412442207336, 0.609196126461029, 0.0012368002207949758, 0.041267029941082, 1.7920674085617065]], [[0.12864023447036743, 0.019918879494071007, 0.0382910892367363, 0.2000979483127594, 0.02199258655309677, 0.9243569374084473]], [[4.714402675628662, 1.4949944019317627, 1.7103241682052612, 3.5789105892181396, 2.4298343658447266, 1.7524290084838867]], [[0.10550542920827866, 0.09707478433847427, 0.02147066593170166, 0.26274940371513367, 0.006298124324530363, 0.012114248238503933]], [[0.25102099776268005, 0.15921369194984436, 0.02125927247107029, 0.18791072070598602, 0.5909709930419922, 0.10851272940635681]], [[0.07785911858081818, 0.14541657269001007, 0.06261282414197922, 0.013320093974471092, 0.35644274950027466, 0.014252779074013233]], [[1.9719539880752563, 1.6888848543167114, 0.06343833357095718, 1.9357136487960815, 1.4769130945205688, 0.26552823185920715]], [[0.6251947283744812, 1.3995603322982788, 0.12166639417409897, 1.5921640396118164, 0.187275230884552, 1.1012040376663208]], [[0.0010321838781237602, 0.04326348006725311, 0.08973909169435501, 0.09568415582180023, 0.3252386748790741, 0.1268770694732666]], [[0.6332581043243408, 1.906479001045227, 1.9387167692184448, 2.5640571117401123, 3.653597116470337, 1.892130732536316]], [[0.019748779013752937, 0.1520366668701172, 0.47486409544944763, 0.7076164484024048, 0.9629133939743042, 0.07493087649345398]], [[1.096326231956482, 0.25438690185546875, 0.004716883413493633, 0.0006593922735191882, 0.02425510250031948, 0.41231366991996765]], [[0.01471027359366417, 0.5083106160163879, 0.28827062249183655, 0.8696191906929016, 0.27092763781547546, 0.0057762861251831055]], [[1.0757081508636475, 0.8259644508361816, 0.05216100066900253, 0.7144908905029297, 0.27011340856552124, 0.7839480638504028]], [[0.08526597917079926, 0.03163359314203262, 0.24637307226657867, 0.020483076572418213, 0.00037347475881688297, 0.21149586141109467]], [[1.5173578262329102, 0.3208392560482025, 0.002678698394447565, 0.3355047106742859, 0.9065948128700256, 2.7867226600646973]], [[0.6583362221717834, 0.09120863676071167, 0.18510782718658447, 0.002736135618761182, 0.007442076690495014, 0.03937146067619324]], [[0.5208421945571899, 0.2503398656845093, 0.05080396309494972, 0.1277042180299759, 0.4311232566833496, 0.02863951399922371]], [[1.2521257400512695, 2.0628201961517334, 1.3428469896316528, 3.0986087322235107, 0.9703929424285889, 1.126328468322754]], [[0.0392848402261734, 0.6757608652114868, 0.008035355247557163, 0.0017002441454678774, 0.25740981101989746, 0.15984581410884857]], [[0.3054109215736389, 0.00046711668255738914, 0.05446748435497284, 0.12059977650642395, 0.27291086316108704, 0.012795505113899708]], [[0.28840479254722595, 0.4615635871887207, 0.0218491293489933, 0.04541443660855293, 0.21936796605587006, 9.578478056937456e-06]], [[0.3988889157772064, 0.01608158089220524, 0.12644143402576447, 0.34080249071121216, 0.33757108449935913, 0.1629437506198883]], [[1.6221227645874023, 1.3468157052993774, 0.041128240525722504, 0.036298979073762894, 0.6447147727012634, 0.7286179661750793]], [[0.48126113414764404, 1.0725586414337158, 0.0123596815392375, 0.3602823317050934, 0.34970957040786743, 0.4995291531085968]], [[0.0022417674772441387, 0.0005297790630720556, 0.9853976368904114, 0.21495871245861053, 0.9239503741264343, 1.2308064699172974]], [[0.05521688237786293, 1.1610440015792847, 0.390738844871521, 1.1835350051114801e-06, 0.03548864275217056, 0.035943545401096344]], [[0.0009345413418486714, 0.1164398044347763, 0.05929979309439659, 0.6564247608184814, 0.02529394067823887, 1.576909065246582]], [[0.06155871972441673, 0.1945381909608841, 0.9078428745269775, 0.266946405172348, 0.7454438805580139, 1.3070788383483887]], [[0.11802592128515244, 0.0006122908089309931, 0.0010368002112954855, 0.009606019593775272, 0.020422792062163353, 0.8469380736351013]], [[0.23799827694892883, 0.01450384221971035, 0.146647647023201, 0.7583931684494019, 0.00010744824248831719, 0.38929128646850586]], [[0.05141173303127289, 0.0007698251865804195, 5.552536458708346e-05, 0.000149052357301116, 0.7792535424232483, 1.1868709325790405]]]\n",
            "0.5761544579159702\n"
          ]
        }
      ]
    }
  ]
}