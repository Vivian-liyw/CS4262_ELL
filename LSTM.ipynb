{
  "nbformat": 4,
  "nbformat_minor": 0,
  "metadata": {
    "colab": {
      "provenance": [],
      "collapsed_sections": []
    },
    "kernelspec": {
      "name": "python3",
      "display_name": "Python 3"
    },
    "language_info": {
      "name": "python"
    },
    "accelerator": "GPU",
    "gpuClass": "standard"
  },
  "cells": [
    {
      "cell_type": "code",
      "execution_count": null,
      "metadata": {
        "id": "m8CPXhk9X64Q"
      },
      "outputs": [],
      "source": [
        "from google.colab import drive\n",
        "import pandas as pd\n",
        "import torch\n",
        "import nltk\n",
        "from nltk.tokenize import word_tokenize\n",
        "import numpy as np\n",
        "import io\n",
        "import re\n",
        "from matplotlib import pyplot as plt\n",
        "from sklearn.model_selection import train_test_split\n"
      ]
    },
    {
      "cell_type": "code",
      "source": [
        "# Loading CSV\n",
        "drive.mount('/content/drive')"
      ],
      "metadata": {
        "id": "t6ghpfcwFZx1",
        "colab": {
          "base_uri": "https://localhost:8080/"
        },
        "outputId": "7fa150db-b162-4d62-84fe-17dd482888f2"
      },
      "execution_count": null,
      "outputs": [
        {
          "output_type": "stream",
          "name": "stdout",
          "text": [
            "Mounted at /content/drive\n"
          ]
        }
      ]
    },
    {
      "cell_type": "code",
      "source": [
        "df_train = pd.read_csv('/content/drive/My Drive/MLProject/train.csv') \n",
        "df_test = pd.read_csv('/content/drive/My Drive/MLProject/test.csv')  "
      ],
      "metadata": {
        "id": "hGwRv-rGBM8m"
      },
      "execution_count": null,
      "outputs": []
    },
    {
      "cell_type": "code",
      "source": [
        "# Examine data set\n",
        "print(df_train.head())\n",
        "print(df_train['full_text'][2])"
      ],
      "metadata": {
        "colab": {
          "base_uri": "https://localhost:8080/"
        },
        "id": "ZSLMSliwvd5U",
        "outputId": "fbf9a4f6-4a2f-4a20-d578-2732e3d7dbf7"
      },
      "execution_count": null,
      "outputs": [
        {
          "output_type": "stream",
          "name": "stdout",
          "text": [
            "        text_id                                          full_text  cohesion  \\\n",
            "0  0016926B079C  I think that students would benefit from learn...       3.5   \n",
            "1  0022683E9EA5  When a problem is a change you have to let it ...       2.5   \n",
            "2  00299B378633  Dear, Principal\\n\\nIf u change the school poli...       3.0   \n",
            "3  003885A45F42  The best time in life is when you become yours...       4.5   \n",
            "4  0049B1DF5CCC  Small act of kindness can impact in other peop...       2.5   \n",
            "\n",
            "   syntax  vocabulary  phraseology  grammar  conventions  \n",
            "0     3.5         3.0          3.0      4.0          3.0  \n",
            "1     2.5         3.0          2.0      2.0          2.5  \n",
            "2     3.5         3.0          3.0      3.0          2.5  \n",
            "3     4.5         4.5          4.5      4.0          5.0  \n",
            "4     3.0         3.0          3.0      2.5          2.5  \n",
            "Dear, Principal\n",
            "\n",
            "If u change the school policy of having a grade b average that unfair. Because many students have a C average. So that means that they cant go out for sports or other activities they want to do bad. That's like taking everything they have. What if kids want to become good at something, but now they cant because of that school policy. If they have a C average they should still be able to go out for sports or activities. A C average isn't that bad, its higher then a D average. If the school police was if you have a D average of lower they shouldn't do sports or activities. If they have a D average in school for not working hard, that's means that they in ain't going to try hard. If they have a C average and there trying hard they should be able to out for sports or activities. What if all the good people in sports have a C average in school, that means that they cant play and were going to lose every game we have. That's a good policy to get grade's up but don't take away something they care about. Everyone should be able to go out for sports if they want to. If the school policy happens, schools going to be boarding now, because now students cant go out for sports or other activities. The students that are doing good in school should feel good about themselves but we shouldn't take the other students away from the others ones. If we do this policy student will try to raised their grade but if they cant what happens they them. Should they just be out of it and think that schools boarding. If they do this its like taking away their video games. All I'm saying is that they have the right to go out for sports or activities.\n"
          ]
        }
      ]
    },
    {
      "cell_type": "code",
      "source": [
        "# Data pre-processing\n",
        "# remove '\\n \\r \\w'\n",
        "df_train['full_text'] = df_train[\"full_text\"].replace(re.compile(r'[\\n\\r\\t]'), '', regex=True)\n",
        "df_test['full_text'] = df_test[\"full_text\"].replace(re.compile(r'[\\n\\r\\t]'), '', regex=True)\n",
        "df_train['full_text'] = df_train[\"full_text\"].replace(re.compile(r'[^\\w]'), ' ', regex=True)\n",
        "print(df_train['full_text'][5])"
      ],
      "metadata": {
        "colab": {
          "base_uri": "https://localhost:8080/"
        },
        "id": "lddG1zchv23d",
        "outputId": "37189950-3ab5-44be-85f3-bab67be94318"
      },
      "execution_count": null,
      "outputs": [
        {
          "output_type": "stream",
          "name": "stdout",
          "text": [
            "Dear Principal Our school should have a community center  The reasons why  are so students can learn what our community needs  how to make our community better place  and why is community important for students to know  Its a great to have a community center to know how we can make things better Students think community center takes their time away  but they have to learn what our community needs  students will participate in a group of students making a list what our community needs  therefore students will learn what our community needs  students will present their list of things our community needs  due to that students will be giving extra credit for the ones who have low grades Some students don t participate because their friends say its waste of time  it would not be waste of time when you get to know how our community can be a better place for us  students should know that the program is about our own lives  because if our community is bad well our lives are going to be bad  due to that students will want to participate and will want to make our community a better place for us some student might say why is the community important anyways  were fine nothing is wrong  but when get to know what our community is  they would want to know about and would want to participate and know why is our community important  students will receive a good grade if they participate in this community because is like an extra credit  due to that their friends would want to enjoy the program because their friend told them about it so principal the community center will be a great place for students to learn lots of things  so i guess this will be a good idea for our school  students will learn what our community needs  how to make our community a better place  and why is our community important Sincerely  STUDENT_NAME\n"
          ]
        }
      ]
    },
    {
      "cell_type": "code",
      "source": [
        "# tokenize\n",
        "nltk.download('punkt')"
      ],
      "metadata": {
        "colab": {
          "base_uri": "https://localhost:8080/"
        },
        "id": "0M1W4bebFhSq",
        "outputId": "ff72b2fe-1a78-417e-9987-4d2c0e145915"
      },
      "execution_count": null,
      "outputs": [
        {
          "output_type": "stream",
          "name": "stderr",
          "text": [
            "[nltk_data] Downloading package punkt to /root/nltk_data...\n",
            "[nltk_data]   Unzipping tokenizers/punkt.zip.\n"
          ]
        },
        {
          "output_type": "execute_result",
          "data": {
            "text/plain": [
              "True"
            ]
          },
          "metadata": {},
          "execution_count": 7
        }
      ]
    },
    {
      "cell_type": "code",
      "source": [
        "train_token = df_train['full_text'].apply(word_tokenize)\n",
        "test_token = df_test['full_text'].apply(word_tokenize)\n",
        "\n",
        "print(train_token[0])"
      ],
      "metadata": {
        "colab": {
          "base_uri": "https://localhost:8080/"
        },
        "id": "ReLoPY-1HwvQ",
        "outputId": "9e945306-ff58-424e-9ba9-720cd1b68f80"
      },
      "execution_count": null,
      "outputs": [
        {
          "output_type": "stream",
          "name": "stdout",
          "text": [
            "['I', 'think', 'that', 'students', 'would', 'benefit', 'from', 'learning', 'at', 'home', 'because', 'they', 'wont', 'have', 'to', 'change', 'and', 'get', 'up', 'early', 'in', 'the', 'morning', 'to', 'shower', 'and', 'do', 'there', 'hair', 'taking', 'only', 'classes', 'helps', 'them', 'because', 'at', 'there', 'house', 'they', 'll', 'be', 'pay', 'more', 'attention', 'they', 'will', 'be', 'comfortable', 'at', 'home', 'The', 'hardest', 'part', 'of', 'school', 'is', 'getting', 'ready', 'you', 'wake', 'up', 'go', 'brush', 'your', 'teeth', 'and', 'go', 'to', 'your', 'closet', 'and', 'look', 'at', 'your', 'cloths', 'after', 'you', 'think', 'you', 'picked', 'a', 'outfit', 'u', 'go', 'look', 'in', 'the', 'mirror', 'and', 'youll', 'either', 'not', 'like', 'it', 'or', 'you', 'look', 'and', 'see', 'a', 'stain', 'Then', 'you', 'll', 'have', 'to', 'change', 'with', 'the', 'online', 'classes', 'you', 'can', 'wear', 'anything', 'and', 'stay', 'home', 'and', 'you', 'wont', 'need', 'to', 'stress', 'about', 'what', 'to', 'wear', 'most', 'students', 'usually', 'take', 'showers', 'before', 'school', 'they', 'either', 'take', 'it', 'before', 'they', 'sleep', 'or', 'when', 'they', 'wake', 'up', 'some', 'students', 'do', 'both', 'to', 'smell', 'good', 'that', 'causes', 'them', 'do', 'miss', 'the', 'bus', 'and', 'effects', 'on', 'there', 'lesson', 'time', 'cause', 'they', 'come', 'late', 'to', 'school', 'when', 'u', 'have', 'online', 'classes', 'u', 'wont', 'need', 'to', 'miss', 'lessons', 'cause', 'you', 'can', 'get', 'everything', 'set', 'up', 'and', 'go', 'take', 'a', 'shower', 'and', 'when', 'u', 'get', 'out', 'your', 'ready', 'to', 'go', 'when', 'your', 'home', 'your', 'comfortable', 'and', 'you', 'pay', 'attention', 'it', 'gives', 'then', 'an', 'advantage', 'to', 'be', 'smarter', 'and', 'even', 'pass', 'there', 'classmates', 'on', 'class', 'work', 'public', 'schools', 'are', 'difficult', 'even', 'if', 'you', 'try', 'some', 'teacher', 'dont', 'know', 'how', 'to', 'teach', 'it', 'in', 'then', 'way', 'that', 'students', 'understand', 'it', 'that', 'causes', 'students', 'to', 'fail', 'and', 'they', 'may', 'repeat', 'the', 'class']\n",
            "(3911,)\n"
          ]
        }
      ]
    },
    {
      "cell_type": "code",
      "source": [
        "# assign x and y\n",
        "X = df_train['full_text']\n",
        "y = df_train[['cohesion','syntax','vocabulary','phraseology','grammar','conventions']]\n",
        "\n",
        "#split train test \n",
        "X_train, X_test, y_train, y_test = train_test_split(X, y, test_size=0.2, random_state=1)\n",
        "X_train, X_val, y_train, y_val = train_test_split(X_train, y_train, test_size=0.25, random_state=1) \n",
        "\n",
        "print(X_train[0])\n",
        "print(y.shape)"
      ],
      "metadata": {
        "colab": {
          "base_uri": "https://localhost:8080/"
        },
        "id": "zwXB-b3YFi_7",
        "outputId": "a4e3fb6c-a22b-411b-bb3f-b44c1f619d3d"
      },
      "execution_count": null,
      "outputs": [
        {
          "output_type": "stream",
          "name": "stdout",
          "text": [
            "I think that students would benefit from learning at home because they wont have to change and get up early in the morning to shower and do there hair  taking only classes helps them because at there house they ll be pay more attention  they will be comfortable at home The hardest part of school is getting ready  you wake up go brush your teeth and go to your closet and look at your cloths  after you think you picked a outfit u go look in the mirror and youll either not like it or you look and see a stain  Then you ll have to change  with the online classes you can wear anything and stay home and you wont need to stress about what to wear most students usually take showers before school  they either take it before they sleep or when they wake up  some students do both to smell good  that causes them do miss the bus and effects on there lesson time cause they come late to school  when u have online classes u wont need to miss lessons cause you can get everything set up and go take a shower and when u get out your ready to go when your home your comfortable and you pay attention  it gives then an advantage to be smarter and even pass there classmates on class work  public schools are difficult even if you try  some teacher dont know how to teach it in then way that students understand it  that causes students to fail and they may repeat the class               \n",
            "(3911, 6)\n"
          ]
        }
      ]
    },
    {
      "cell_type": "code",
      "source": [
        "from tensorflow.keras.preprocessing.text import Tokenizer\n",
        "from tensorflow.keras.preprocessing.sequence import pad_sequences\n",
        "from tensorflow import keras\n",
        "from tensorflow.keras import layers"
      ],
      "metadata": {
        "id": "EdUsuLVenhze"
      },
      "execution_count": null,
      "outputs": []
    },
    {
      "cell_type": "code",
      "source": [
        "tokenizer = Tokenizer(oov_token=\"<OOV>\")\n",
        "tokenizer.fit_on_texts(X_train)\n",
        "word_index = tokenizer.word_index\n",
        "\n",
        "train_seq = tokenizer.texts_to_sequences(X_train)\n",
        "pad_train = pad_sequences(train_seq, maxlen=1250, truncating='post')\n",
        "\n",
        "val_seq = tokenizer.texts_to_sequences(X_val)\n",
        "pad_train = pad_sequences(val_seq, maxlen=1250, truncating='post')\n",
        "\n",
        "test_seq = tokenizer.texts_to_sequences(X_test)\n",
        "pad_test = pad_sequences(test_seq, maxlen=1250, truncating='post') #max length of word is 1250\n",
        "\n",
        "print(pad_train[0])"
      ],
      "metadata": {
        "colab": {
          "base_uri": "https://localhost:8080/"
        },
        "id": "h2cgMUBPnzex",
        "outputId": "e106c507-8df0-4371-8ce5-bbfcb104b690"
      },
      "execution_count": null,
      "outputs": [
        {
          "output_type": "stream",
          "name": "stdout",
          "text": [
            "[   0    0    0 ... 2683   11  650]\n"
          ]
        }
      ]
    }
  ]
}